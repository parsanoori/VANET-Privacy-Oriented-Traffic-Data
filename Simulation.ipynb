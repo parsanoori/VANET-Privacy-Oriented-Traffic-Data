{
 "cells": [
  {
   "cell_type": "markdown",
   "source": [
    "# Vanet Systems with Homomorphic Encryption to calculate street traffic with the concern of privacy\n",
    "Let's get deep into the system that we are going to implement.\n",
    "\n",
    "## What are the key components?\n",
    "+ We are going to have two different blockchains in this project. One is local that is in the scope of a neighborhood and the other is either in country-scale or global-scale.\n",
    "+ We are going to have the map of the neighborhood simulated as a graph. Where each edge connects two cross-points and the weight of it is equivalent to the traffic of that point.\n",
    "+ We are going to have homomorphic encryption through encrypting the speed status of the cars in the local blockchain with the public key of a random node in the global blockchain.\n"
   ],
   "metadata": {
    "collapsed": false
   },
   "id": "dd2012e1ac7b4d67"
  },
  {
   "cell_type": "markdown",
   "source": [
    "# Implementation\n",
    "## The implementation is done in the packages relative to this file."
   ],
   "metadata": {
    "collapsed": false
   },
   "id": "71015624a1e0b3f1"
  },
  {
   "cell_type": "markdown",
   "source": [
    "# Simulation\n",
    "## The simulation is done here. We should run the simulation for each scheme and compare the results.\n",
    "### Single Blockchain Scheme Simulation"
   ],
   "metadata": {
    "collapsed": false
   },
   "id": "a84afc0894b24255"
  },
  {
   "cell_type": "markdown",
   "source": [
    "Let's read the data of the neighborhoods."
   ],
   "metadata": {
    "collapsed": false
   },
   "id": "b0edf87e91667faf"
  },
  {
   "cell_type": "code",
   "source": [
    "import json\n",
    "result_folder = 'lab_computer_results'\n",
    "\n",
    "import os\n",
    "if not os.path.exists(result_folder):\n",
    "    os.makedirs(result_folder)\n",
    "\n",
    "with open('graphs/neighborhoods_data.json', 'r') as f:\n",
    "    neighborhoods_data = json.load(f)"
   ],
   "metadata": {
    "collapsed": false
   },
   "id": "eff1e0d3a3e25c4a",
   "outputs": [],
   "execution_count": null
  },
  {
   "cell_type": "markdown",
   "source": [
    "Let's create list of speed logs count values for the simulation."
   ],
   "metadata": {
    "collapsed": false
   },
   "id": "a4b1acab24b2bb7e"
  },
  {
   "cell_type": "code",
   "source": [
    "speed_log_counts = [1, 5, 10, 20, 30, 40, 60, 80, 100, 150, 200]"
   ],
   "metadata": {
    "collapsed": false
   },
   "id": "6177f0daa4465afd",
   "outputs": [],
   "execution_count": null
  },
  {
   "cell_type": "markdown",
   "source": [
    "Let's create pairs of neighborhood and log_counts for run"
   ],
   "metadata": {
    "collapsed": false
   },
   "id": "a52dcf0ec2187229"
  },
  {
   "cell_type": "code",
   "source": [
    "pairs = []\n",
    "for nh in neighborhoods_data.keys():\n",
    "    for speed_log_count in speed_log_counts:\n",
    "        pairs.append((nh, speed_log_count))\n",
    "pairs.sort()\n",
    "pairs"
   ],
   "metadata": {
    "collapsed": false
   },
   "id": "b7b69e9b6a56431b",
   "outputs": [],
   "execution_count": null
  },
  {
   "cell_type": "markdown",
   "source": [
    "Create a function that runs the simulations and gives the results."
   ],
   "metadata": {
    "collapsed": false
   },
   "id": "8cdf12af93fbfc36"
  },
  {
   "cell_type": "code",
   "source": [
    "import SingleBlockchainScheme\n",
    "def run_single_blockchain_scheme_simulation(neighborhood, speed_log_count, traffic_update_interval_in_seconds=speed_log_count/10):\n",
    "    sim = SingleBlockchainScheme.Simulation(neighborhood, quiet=True, random_speed_log_count=speed_log_count,sleep_time=0.2, traffic_update_interval_in_seconds=traffic_update_interval_in_seconds)\n",
    "    sim.run()\n",
    "    data = sim.get_simulation_data()\n",
    "    sim.end_run()\n",
    "    return data"
   ],
   "metadata": {
    "collapsed": false
   },
   "id": "9edffab951082533",
   "outputs": [],
   "execution_count": null
  },
  {
   "cell_type": "markdown",
   "source": [
    "Run the simulation for all pairs. Starting from the last run."
   ],
   "metadata": {
    "collapsed": false
   },
   "id": "7c4d479bc26730f"
  },
  {
   "cell_type": "code",
   "source": [
    "from tqdm import tqdm\n",
    "\n",
    "results_file = result_folder + '/single_blockchain_scheme_results.json'\n",
    "# read the data from results file\n",
    "try:\n",
    "    with open(results_file, 'r') as f:\n",
    "        results = json.load(f)\n",
    "except:\n",
    "    results = {}\n",
    "\n",
    "for nh, log_count  in tqdm(pairs):\n",
    "    if nh not in results.keys():\n",
    "        results[nh] = {}\n",
    "    if str(log_count) not in results[nh].keys():\n",
    "        results[nh][str(log_count)] = run_single_blockchain_scheme_simulation(nh, log_count)\n",
    "        with open(results_file, 'w') as f:\n",
    "            json.dump(results, f)"
   ],
   "metadata": {
    "collapsed": false
   },
   "id": "4ac762cd04ca31c5",
   "outputs": [],
   "execution_count": null
  },
  {
   "cell_type": "markdown",
   "source": [
    "### Two Blockchains Scheme Evaluations\n",
    "\n",
    "Let's create a function that runs the simulations and gives the results."
   ],
   "metadata": {
    "collapsed": false
   },
   "id": "63661bd959f9e2a3"
  },
  {
   "cell_type": "code",
   "source": [
    "import TwoBlockchainsScheme\n",
    "def run_two_blockchains_scheme_simulation(neighborhood, speed_log_count, traffic_update_interval_in_seconds=speed_log_count/10):\n",
    "    sim = TwoBlockchainsScheme.Simulation(neighborhood, quiet=True, random_speed_log_count=speed_log_count,sleep_time=0.2, traffic_update_interval_in_seconds=traffic_update_interval_in_seconds)\n",
    "    sim.run()\n",
    "    data = sim.get_simulation_data()\n",
    "    sim.end_run()\n",
    "    return data\n"
   ],
   "metadata": {
    "collapsed": false
   },
   "id": "76bfe0688401545c",
   "outputs": [],
   "execution_count": null
  },
  {
   "cell_type": "markdown",
   "source": [
    "Run the simulation for all pairs. Starting from the last run."
   ],
   "metadata": {
    "collapsed": false
   },
   "id": "ad89ea4b3b831334"
  },
  {
   "cell_type": "code",
   "source": [
    "from tqdm import tqdm\n",
    "\n",
    "results_file = result_folder + '/two_blockchains_scheme_results.json'\n",
    "\n",
    "# read the data from results file\n",
    "try:\n",
    "    with open(results_file, 'r') as f:\n",
    "        results = json.load(f)\n",
    "except:\n",
    "    results = {}\n",
    "\n",
    "for nh, log_count  in tqdm(pairs):\n",
    "    if nh not in results.keys():\n",
    "        results[nh] = {}\n",
    "    if str(log_count) not in results[nh].keys():\n",
    "        results[nh][str(log_count)] = run_two_blockchains_scheme_simulation(nh, log_count)\n",
    "        with open(results_file, 'w') as f:\n",
    "            json.dump(results, f)\n",
    "results"
   ],
   "metadata": {
    "collapsed": false
   },
   "id": "941c4e50c8487c17",
   "outputs": [],
   "execution_count": null
  },
  {
   "cell_type": "markdown",
   "source": [
    "### Partially Homomorphic Encryption Scheme Evaluations\n",
    "Let's create a function that runs the simulations and gives the results."
   ],
   "metadata": {
    "collapsed": false
   },
   "id": "8ede8f298e53ac7e"
  },
  {
   "cell_type": "code",
   "source": [
    "import PartialHomomorphyScheme\n",
    "\n",
    "def run_partially_homomorphic_encryption_scheme_simulation(neighborhood, speed_log_count, traffic_update_interval_in_seconds=speed_log_count/1.5):\n",
    "    sim = PartialHomomorphyScheme.Simulation(neighborhood, quiet=True, random_speed_log_count=speed_log_count,sleep_time=0.2, traffic_update_interval_in_seconds=traffic_update_interval_in_seconds)\n",
    "    sim.run()\n",
    "    data = sim.get_simulation_data()\n",
    "    sim.end_run()\n",
    "    return data"
   ],
   "metadata": {
    "collapsed": false
   },
   "id": "4e478b7f90c78679",
   "outputs": [],
   "execution_count": null
  },
  {
   "cell_type": "markdown",
   "source": [
    "Run the simulation for all pairs. Starting from the last run."
   ],
   "metadata": {
    "collapsed": false
   },
   "id": "faa8be0a1fc540d1"
  },
  {
   "cell_type": "code",
   "source": [
    "from tqdm import tqdm\n",
    "\n",
    "results_file = result_folder + '/partially_homomorphic_encryption_scheme_results.json'\n",
    "\n",
    "# read the data from results file\n",
    "try:\n",
    "    with open(results_file, 'r') as f:\n",
    "        results = json.load(f)\n",
    "except:\n",
    "    results = {}\n",
    "\n",
    "count = 0\n",
    "for nh, log_count in tqdm(pairs):\n",
    "    print(f\"===================={nh} - {log_count}====================\")\n",
    "    if nh not in results.keys():\n",
    "        results[nh] = {}\n",
    "    if str(log_count) not in results[nh].keys():\n",
    "        count += 1\n",
    "        results[nh][str(log_count)] = run_partially_homomorphic_encryption_scheme_simulation(nh, log_count)\n",
    "        with open(results_file, 'w') as f:\n",
    "            json.dump(results, f)\n",
    "    else:\n",
    "        print(\"Already exists\")"
   ],
   "metadata": {
    "collapsed": false
   },
   "id": "c08e16ad9567a41c",
   "outputs": [],
   "execution_count": null
  }
 ],
 "metadata": {
  "kernelspec": {
   "display_name": "Python 3",
   "language": "python",
   "name": "python3"
  },
  "language_info": {
   "codemirror_mode": {
    "name": "ipython",
    "version": 2
   },
   "file_extension": ".py",
   "mimetype": "text/x-python",
   "name": "python",
   "nbconvert_exporter": "python",
   "pygments_lexer": "ipython2",
   "version": "2.7.6"
  }
 },
 "nbformat": 4,
 "nbformat_minor": 5
}
