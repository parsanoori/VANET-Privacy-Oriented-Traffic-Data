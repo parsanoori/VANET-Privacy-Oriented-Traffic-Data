{
 "cells": [
  {
   "cell_type": "markdown",
   "source": [
    "# Vanet Systems with Homomorphic Encryption to calculate street traffic with the concern of privacy\n",
    "Let's get deep into the system that we are going to implement.\n",
    "\n",
    "## What are the key components?\n",
    "+ We are going to have two different blockchains in this project. One is local that is in the scope of a neighborhood and the other is either in country-scale or global-scale.\n",
    "+ We are going to have the map of the neighborhood simulated as a graph. Where each edge connects two cross-points and the weight of it is equivalent to the traffic of that point.\n",
    "+ We are going to have homomorphic encryption through encrypting the speed status of the cars in the local blockchain with the public key of a random node in the global blockchain.\n"
   ],
   "metadata": {
    "collapsed": false
   },
   "id": "dd2012e1ac7b4d67"
  },
  {
   "cell_type": "markdown",
   "source": [
    "# Implementation\n",
    "## The implementation is done in the packages relative to this file."
   ],
   "metadata": {
    "collapsed": false
   },
   "id": "71015624a1e0b3f1"
  },
  {
   "cell_type": "markdown",
   "source": [
    "# Simulation\n",
    "## The simulation is done here. We should run the simulation for each scheme and compare the results.\n",
    "### Single Blockchain Scheme Simulation"
   ],
   "metadata": {
    "collapsed": false
   },
   "id": "a84afc0894b24255"
  },
  {
   "cell_type": "markdown",
   "source": [
    "Let's read the data of the neighborhoods."
   ],
   "metadata": {
    "collapsed": false
   },
   "id": "b0edf87e91667faf"
  },
  {
   "cell_type": "code",
   "source": [
    "import json\n",
    "result_folder = 'laptop_results'\n",
    "\n",
    "import os\n",
    "if not os.path.exists(result_folder):\n",
    "    os.makedirs(result_folder)\n",
    "\n",
    "with open('graphs/neighborhoods_data.json', 'r') as f:\n",
    "    neighborhoods_data = json.load(f)"
   ],
   "metadata": {
    "collapsed": false,
    "ExecuteTime": {
     "end_time": "2024-06-10T13:28:34.011853Z",
     "start_time": "2024-06-10T13:28:33.953686Z"
    }
   },
   "id": "eff1e0d3a3e25c4a",
   "outputs": [],
   "execution_count": 1
  },
  {
   "cell_type": "markdown",
   "source": [
    "Let's create list of speed logs count values for the simulation."
   ],
   "metadata": {
    "collapsed": false
   },
   "id": "a4b1acab24b2bb7e"
  },
  {
   "cell_type": "code",
   "source": [
    "speed_log_counts = [1, 5, 10, 20, 30, 40, 60, 80, 100, 150, 200]"
   ],
   "metadata": {
    "collapsed": false,
    "ExecuteTime": {
     "end_time": "2024-06-10T13:28:34.013698Z",
     "start_time": "2024-06-10T13:28:33.957873Z"
    }
   },
   "id": "6177f0daa4465afd",
   "outputs": [],
   "execution_count": 2
  },
  {
   "cell_type": "markdown",
   "source": [
    "Let's create pairs of neighborhood and log_counts for run"
   ],
   "metadata": {
    "collapsed": false
   },
   "id": "a52dcf0ec2187229"
  },
  {
   "cell_type": "code",
   "source": [
    "pairs = []\n",
    "for nh in neighborhoods_data.keys():\n",
    "    for speed_log_count in speed_log_counts:\n",
    "        pairs.append((nh, speed_log_count))\n",
    "pairs.sort()\n",
    "pairs"
   ],
   "metadata": {
    "collapsed": false,
    "ExecuteTime": {
     "end_time": "2024-06-10T13:28:34.039437Z",
     "start_time": "2024-06-10T13:28:33.963033Z"
    }
   },
   "id": "b7b69e9b6a56431b",
   "outputs": [
    {
     "data": {
      "text/plain": "[('nh0', 1),\n ('nh0', 5),\n ('nh0', 10),\n ('nh0', 20),\n ('nh0', 30),\n ('nh0', 40),\n ('nh0', 60),\n ('nh0', 80),\n ('nh0', 100),\n ('nh0', 150),\n ('nh0', 200),\n ('nh1', 1),\n ('nh1', 5),\n ('nh1', 10),\n ('nh1', 20),\n ('nh1', 30),\n ('nh1', 40),\n ('nh1', 60),\n ('nh1', 80),\n ('nh1', 100),\n ('nh1', 150),\n ('nh1', 200),\n ('nh2', 1),\n ('nh2', 5),\n ('nh2', 10),\n ('nh2', 20),\n ('nh2', 30),\n ('nh2', 40),\n ('nh2', 60),\n ('nh2', 80),\n ('nh2', 100),\n ('nh2', 150),\n ('nh2', 200),\n ('nh3', 1),\n ('nh3', 5),\n ('nh3', 10),\n ('nh3', 20),\n ('nh3', 30),\n ('nh3', 40),\n ('nh3', 60),\n ('nh3', 80),\n ('nh3', 100),\n ('nh3', 150),\n ('nh3', 200),\n ('nh4', 1),\n ('nh4', 5),\n ('nh4', 10),\n ('nh4', 20),\n ('nh4', 30),\n ('nh4', 40),\n ('nh4', 60),\n ('nh4', 80),\n ('nh4', 100),\n ('nh4', 150),\n ('nh4', 200),\n ('nh5', 1),\n ('nh5', 5),\n ('nh5', 10),\n ('nh5', 20),\n ('nh5', 30),\n ('nh5', 40),\n ('nh5', 60),\n ('nh5', 80),\n ('nh5', 100),\n ('nh5', 150),\n ('nh5', 200),\n ('nh6', 1),\n ('nh6', 5),\n ('nh6', 10),\n ('nh6', 20),\n ('nh6', 30),\n ('nh6', 40),\n ('nh6', 60),\n ('nh6', 80),\n ('nh6', 100),\n ('nh6', 150),\n ('nh6', 200),\n ('nh7', 1),\n ('nh7', 5),\n ('nh7', 10),\n ('nh7', 20),\n ('nh7', 30),\n ('nh7', 40),\n ('nh7', 60),\n ('nh7', 80),\n ('nh7', 100),\n ('nh7', 150),\n ('nh7', 200)]"
     },
     "execution_count": 3,
     "metadata": {},
     "output_type": "execute_result"
    }
   ],
   "execution_count": 3
  },
  {
   "cell_type": "markdown",
   "source": [
    "Create a function that runs the simulations and gives the results."
   ],
   "metadata": {
    "collapsed": false
   },
   "id": "8cdf12af93fbfc36"
  },
  {
   "cell_type": "code",
   "source": [
    "import SingleBlockchainScheme\n",
    "def run_single_blockchain_scheme_simulation(neighborhood, speed_log_count, traffic_update_interval_in_seconds=speed_log_count/10):\n",
    "    sim = SingleBlockchainScheme.Simulation(neighborhood, quiet=True, random_speed_log_count=speed_log_count,sleep_time=0.2, traffic_update_interval_in_seconds=traffic_update_interval_in_seconds)\n",
    "    sim.run()\n",
    "    data = sim.get_simulation_data()\n",
    "    sim.end_run()\n",
    "    return data"
   ],
   "metadata": {
    "collapsed": false,
    "ExecuteTime": {
     "end_time": "2024-06-10T13:28:34.052405Z",
     "start_time": "2024-06-10T13:28:33.966137Z"
    }
   },
   "id": "9edffab951082533",
   "outputs": [],
   "execution_count": 4
  },
  {
   "cell_type": "markdown",
   "source": [
    "Run the simulation for all pairs. Starting from the last run."
   ],
   "metadata": {
    "collapsed": false
   },
   "id": "7c4d479bc26730f"
  },
  {
   "cell_type": "code",
   "source": [
    "from tqdm import tqdm\n",
    "\n",
    "results_file = result_folder + '/single_blockchain_scheme_results.json'\n",
    "# read the data from results file\n",
    "try:\n",
    "    with open(results_file, 'r') as f:\n",
    "        results = json.load(f)\n",
    "except:\n",
    "    results = {}\n",
    "\n",
    "for nh, log_count  in tqdm(pairs):\n",
    "    if nh not in results.keys():\n",
    "        results[nh] = {}\n",
    "    if str(log_count) not in results[nh].keys():\n",
    "        results[nh][str(log_count)] = run_single_blockchain_scheme_simulation(nh, log_count)\n",
    "        with open(results_file, 'w') as f:\n",
    "            json.dump(results, f)"
   ],
   "metadata": {
    "collapsed": false,
    "ExecuteTime": {
     "end_time": "2024-06-10T13:58:43.464873Z",
     "start_time": "2024-06-10T13:28:34.044032Z"
    }
   },
   "id": "4ac762cd04ca31c5",
   "outputs": [
    {
     "name": "stderr",
     "output_type": "stream",
     "text": [
      "100%|██████████| 88/88 [30:09<00:00, 20.56s/it]\n"
     ]
    }
   ],
   "execution_count": 5
  },
  {
   "cell_type": "markdown",
   "source": [
    "### Two Blockchains Scheme Evaluations\n",
    "\n",
    "Let's create a function that runs the simulations and gives the results."
   ],
   "metadata": {
    "collapsed": false
   },
   "id": "63661bd959f9e2a3"
  },
  {
   "cell_type": "code",
   "source": [
    "import TwoBlockchainsScheme\n",
    "def run_two_blockchains_scheme_simulation(neighborhood, speed_log_count, traffic_update_interval_in_seconds=speed_log_count/10):\n",
    "    sim = TwoBlockchainsScheme.Simulation(neighborhood, quiet=True, random_speed_log_count=speed_log_count,sleep_time=0.2, traffic_update_interval_in_seconds=traffic_update_interval_in_seconds)\n",
    "    sim.run()\n",
    "    data = sim.get_simulation_data()\n",
    "    sim.end_run()\n",
    "    return data\n"
   ],
   "metadata": {
    "collapsed": false,
    "ExecuteTime": {
     "end_time": "2024-06-10T13:58:43.467975Z",
     "start_time": "2024-06-10T13:58:43.447472Z"
    }
   },
   "id": "76bfe0688401545c",
   "outputs": [],
   "execution_count": 6
  },
  {
   "cell_type": "markdown",
   "source": [
    "Run the simulation for all pairs. Starting from the last run."
   ],
   "metadata": {
    "collapsed": false
   },
   "id": "ad89ea4b3b831334"
  },
  {
   "cell_type": "code",
   "source": [
    "from tqdm import tqdm\n",
    "\n",
    "results_file = result_folder + '/two_blockchains_scheme_results.json'\n",
    "\n",
    "# read the data from results file\n",
    "try:\n",
    "    with open(results_file, 'r') as f:\n",
    "        results = json.load(f)\n",
    "except:\n",
    "    results = {}\n",
    "\n",
    "for nh, log_count  in tqdm(pairs):\n",
    "    if nh not in results.keys():\n",
    "        results[nh] = {}\n",
    "    if str(log_count) not in results[nh].keys():\n",
    "        results[nh][str(log_count)] = run_two_blockchains_scheme_simulation(nh, log_count)\n",
    "        with open(results_file, 'w') as f:\n",
    "            json.dump(results, f)\n",
    "results"
   ],
   "metadata": {
    "collapsed": false,
    "ExecuteTime": {
     "end_time": "2024-06-10T14:29:01.469754Z",
     "start_time": "2024-06-10T13:58:43.463006Z"
    }
   },
   "id": "941c4e50c8487c17",
   "outputs": [
    {
     "name": "stderr",
     "output_type": "stream",
     "text": [
      "100%|██████████| 88/88 [30:17<00:00, 20.66s/it]\n"
     ]
    },
    {
     "data": {
      "text/plain": "{'nh0': {'1': {'calculating_average_traffic_time': 9.1e-05,\n   'average_traffic_block_size': 66,\n   'local_blockchain_data_size': 184,\n   'global_blockchain_data_sze': 89,\n   'sending_traffic_logs_time': 2.3e-05},\n  '5': {'calculating_average_traffic_time': 0.000113,\n   'average_traffic_block_size': 66,\n   'local_blockchain_data_size': 415,\n   'global_blockchain_data_sze': 89,\n   'sending_traffic_logs_time': 4e-05},\n  '10': {'calculating_average_traffic_time': 8.6e-05,\n   'average_traffic_block_size': 66,\n   'local_blockchain_data_size': 703,\n   'global_blockchain_data_sze': 89,\n   'sending_traffic_logs_time': 0.000254},\n  '20': {'calculating_average_traffic_time': 0.000121,\n   'average_traffic_block_size': 67,\n   'local_blockchain_data_size': 1286,\n   'global_blockchain_data_sze': 90,\n   'sending_traffic_logs_time': 0.000449},\n  '30': {'calculating_average_traffic_time': 0.000147,\n   'average_traffic_block_size': 66,\n   'local_blockchain_data_size': 1863,\n   'global_blockchain_data_sze': 89,\n   'sending_traffic_logs_time': 0.000729},\n  '40': {'calculating_average_traffic_time': 0.000213,\n   'average_traffic_block_size': 67,\n   'local_blockchain_data_size': 2441,\n   'global_blockchain_data_sze': 90,\n   'sending_traffic_logs_time': 0.000804},\n  '60': {'calculating_average_traffic_time': 0.000218,\n   'average_traffic_block_size': 79,\n   'local_blockchain_data_size': 3615,\n   'global_blockchain_data_sze': 102,\n   'sending_traffic_logs_time': 0.001173},\n  '80': {'calculating_average_traffic_time': 0.000322,\n   'average_traffic_block_size': 69,\n   'local_blockchain_data_size': 4759,\n   'global_blockchain_data_sze': 92,\n   'sending_traffic_logs_time': 0.001834},\n  '100': {'calculating_average_traffic_time': 0.0004,\n   'average_traffic_block_size': 66,\n   'local_blockchain_data_size': 5922,\n   'global_blockchain_data_sze': 89,\n   'sending_traffic_logs_time': 0.002613},\n  '150': {'calculating_average_traffic_time': 0.000469,\n   'average_traffic_block_size': 79,\n   'local_blockchain_data_size': 8825,\n   'global_blockchain_data_sze': 102,\n   'sending_traffic_logs_time': 0.003021},\n  '200': {'calculating_average_traffic_time': 0.000568,\n   'average_traffic_block_size': 68,\n   'local_blockchain_data_size': 11713,\n   'global_blockchain_data_sze': 91,\n   'sending_traffic_logs_time': 0.004577}},\n 'nh1': {'1': {'calculating_average_traffic_time': 0.000153,\n   'average_traffic_block_size': 389,\n   'local_blockchain_data_size': 507,\n   'global_blockchain_data_sze': 412,\n   'sending_traffic_logs_time': 5.2e-05},\n  '5': {'calculating_average_traffic_time': 0.000203,\n   'average_traffic_block_size': 393,\n   'local_blockchain_data_size': 743,\n   'global_blockchain_data_sze': 416,\n   'sending_traffic_logs_time': 0.000163},\n  '10': {'calculating_average_traffic_time': 0.000276,\n   'average_traffic_block_size': 408,\n   'local_blockchain_data_size': 1047,\n   'global_blockchain_data_sze': 431,\n   'sending_traffic_logs_time': 0.000258},\n  '20': {'calculating_average_traffic_time': 0.000365,\n   'average_traffic_block_size': 401,\n   'local_blockchain_data_size': 1620,\n   'global_blockchain_data_sze': 424,\n   'sending_traffic_logs_time': 0.000337},\n  '30': {'calculating_average_traffic_time': 0.000482,\n   'average_traffic_block_size': 431,\n   'local_blockchain_data_size': 2229,\n   'global_blockchain_data_sze': 454,\n   'sending_traffic_logs_time': 0.000459},\n  '40': {'calculating_average_traffic_time': 0.000603,\n   'average_traffic_block_size': 460,\n   'local_blockchain_data_size': 2833,\n   'global_blockchain_data_sze': 483,\n   'sending_traffic_logs_time': 0.000607},\n  '60': {'calculating_average_traffic_time': 0.0008,\n   'average_traffic_block_size': 438,\n   'local_blockchain_data_size': 3975,\n   'global_blockchain_data_sze': 461,\n   'sending_traffic_logs_time': 0.000705},\n  '80': {'calculating_average_traffic_time': 0.000947,\n   'average_traffic_block_size': 463,\n   'local_blockchain_data_size': 5157,\n   'global_blockchain_data_sze': 486,\n   'sending_traffic_logs_time': 0.001321},\n  '100': {'calculating_average_traffic_time': 0.001206,\n   'average_traffic_block_size': 536,\n   'local_blockchain_data_size': 6385,\n   'global_blockchain_data_sze': 559,\n   'sending_traffic_logs_time': 0.001477},\n  '150': {'calculating_average_traffic_time': 0.002294,\n   'average_traffic_block_size': 561,\n   'local_blockchain_data_size': 9308,\n   'global_blockchain_data_sze': 584,\n   'sending_traffic_logs_time': 0.003836},\n  '200': {'calculating_average_traffic_time': 0.002342,\n   'average_traffic_block_size': 603,\n   'local_blockchain_data_size': 12240,\n   'global_blockchain_data_sze': 626,\n   'sending_traffic_logs_time': 0.003325}},\n 'nh2': {'1': {'calculating_average_traffic_time': 0.000184,\n   'average_traffic_block_size': 559,\n   'local_blockchain_data_size': 677,\n   'global_blockchain_data_sze': 582,\n   'sending_traffic_logs_time': 5.5e-05},\n  '5': {'calculating_average_traffic_time': 0.000248,\n   'average_traffic_block_size': 563,\n   'local_blockchain_data_size': 913,\n   'global_blockchain_data_sze': 586,\n   'sending_traffic_logs_time': 0.000113},\n  '10': {'calculating_average_traffic_time': 0.000328,\n   'average_traffic_block_size': 567,\n   'local_blockchain_data_size': 1207,\n   'global_blockchain_data_sze': 590,\n   'sending_traffic_logs_time': 5e-05},\n  '20': {'calculating_average_traffic_time': 0.000521,\n   'average_traffic_block_size': 585,\n   'local_blockchain_data_size': 1804,\n   'global_blockchain_data_sze': 608,\n   'sending_traffic_logs_time': 0.000688},\n  '30': {'calculating_average_traffic_time': 0.000646,\n   'average_traffic_block_size': 601,\n   'local_blockchain_data_size': 2399,\n   'global_blockchain_data_sze': 624,\n   'sending_traffic_logs_time': 0.000476},\n  '40': {'calculating_average_traffic_time': 0.000773,\n   'average_traffic_block_size': 579,\n   'local_blockchain_data_size': 2954,\n   'global_blockchain_data_sze': 602,\n   'sending_traffic_logs_time': 0.000627},\n  '60': {'calculating_average_traffic_time': 0.001086,\n   'average_traffic_block_size': 670,\n   'local_blockchain_data_size': 4204,\n   'global_blockchain_data_sze': 693,\n   'sending_traffic_logs_time': 0.000839},\n  '80': {'calculating_average_traffic_time': 0.001397,\n   'average_traffic_block_size': 658,\n   'local_blockchain_data_size': 5353,\n   'global_blockchain_data_sze': 681,\n   'sending_traffic_logs_time': 0.00188},\n  '100': {'calculating_average_traffic_time': 0.001659,\n   'average_traffic_block_size': 699,\n   'local_blockchain_data_size': 6548,\n   'global_blockchain_data_sze': 722,\n   'sending_traffic_logs_time': 0.001597},\n  '150': {'calculating_average_traffic_time': 0.002212,\n   'average_traffic_block_size': 716,\n   'local_blockchain_data_size': 9463,\n   'global_blockchain_data_sze': 739,\n   'sending_traffic_logs_time': 0.003469},\n  '200': {'calculating_average_traffic_time': 0.003153,\n   'average_traffic_block_size': 754,\n   'local_blockchain_data_size': 12406,\n   'global_blockchain_data_sze': 777,\n   'sending_traffic_logs_time': 0.002293}},\n 'nh3': {'1': {'calculating_average_traffic_time': 0.000408,\n   'average_traffic_block_size': 592,\n   'local_blockchain_data_size': 711,\n   'global_blockchain_data_sze': 615,\n   'sending_traffic_logs_time': 3e-05},\n  '5': {'calculating_average_traffic_time': 0.000273,\n   'average_traffic_block_size': 596,\n   'local_blockchain_data_size': 949,\n   'global_blockchain_data_sze': 619,\n   'sending_traffic_logs_time': 8.2e-05},\n  '10': {'calculating_average_traffic_time': 0.00039,\n   'average_traffic_block_size': 598,\n   'local_blockchain_data_size': 1245,\n   'global_blockchain_data_sze': 621,\n   'sending_traffic_logs_time': 0.000191},\n  '20': {'calculating_average_traffic_time': 0.00054,\n   'average_traffic_block_size': 605,\n   'local_blockchain_data_size': 1845,\n   'global_blockchain_data_sze': 628,\n   'sending_traffic_logs_time': 0.000396},\n  '30': {'calculating_average_traffic_time': 0.000678,\n   'average_traffic_block_size': 650,\n   'local_blockchain_data_size': 2481,\n   'global_blockchain_data_sze': 673,\n   'sending_traffic_logs_time': 0.000493},\n  '40': {'calculating_average_traffic_time': 0.000842,\n   'average_traffic_block_size': 655,\n   'local_blockchain_data_size': 3075,\n   'global_blockchain_data_sze': 678,\n   'sending_traffic_logs_time': 0.000667},\n  '60': {'calculating_average_traffic_time': 0.001129,\n   'average_traffic_block_size': 676,\n   'local_blockchain_data_size': 4271,\n   'global_blockchain_data_sze': 699,\n   'sending_traffic_logs_time': 0.000732},\n  '80': {'calculating_average_traffic_time': 0.001416,\n   'average_traffic_block_size': 715,\n   'local_blockchain_data_size': 5497,\n   'global_blockchain_data_sze': 738,\n   'sending_traffic_logs_time': 0.001395},\n  '100': {'calculating_average_traffic_time': 0.001746,\n   'average_traffic_block_size': 709,\n   'local_blockchain_data_size': 6684,\n   'global_blockchain_data_sze': 732,\n   'sending_traffic_logs_time': 0.001868},\n  '150': {'calculating_average_traffic_time': 0.002457,\n   'average_traffic_block_size': 750,\n   'local_blockchain_data_size': 9639,\n   'global_blockchain_data_sze': 773,\n   'sending_traffic_logs_time': 0.002128},\n  '200': {'calculating_average_traffic_time': 0.003242,\n   'average_traffic_block_size': 780,\n   'local_blockchain_data_size': 12655,\n   'global_blockchain_data_sze': 803,\n   'sending_traffic_logs_time': 0.00335}},\n 'nh4': {'1': {'calculating_average_traffic_time': 0.000285,\n   'average_traffic_block_size': 786,\n   'local_blockchain_data_size': 905,\n   'global_blockchain_data_sze': 809,\n   'sending_traffic_logs_time': 5.3e-05},\n  '5': {'calculating_average_traffic_time': 0.000348,\n   'average_traffic_block_size': 789,\n   'local_blockchain_data_size': 1144,\n   'global_blockchain_data_sze': 812,\n   'sending_traffic_logs_time': 0.000195},\n  '10': {'calculating_average_traffic_time': 0.000494,\n   'average_traffic_block_size': 793,\n   'local_blockchain_data_size': 1445,\n   'global_blockchain_data_sze': 816,\n   'sending_traffic_logs_time': 0.000183},\n  '20': {'calculating_average_traffic_time': 0.000654,\n   'average_traffic_block_size': 800,\n   'local_blockchain_data_size': 2046,\n   'global_blockchain_data_sze': 823,\n   'sending_traffic_logs_time': 0.000281},\n  '30': {'calculating_average_traffic_time': 0.000857,\n   'average_traffic_block_size': 802,\n   'local_blockchain_data_size': 2643,\n   'global_blockchain_data_sze': 825,\n   'sending_traffic_logs_time': 0.000488},\n  '40': {'calculating_average_traffic_time': 0.000629,\n   'average_traffic_block_size': 824,\n   'local_blockchain_data_size': 3257,\n   'global_blockchain_data_sze': 847,\n   'sending_traffic_logs_time': 0.000501},\n  '60': {'calculating_average_traffic_time': 0.001445,\n   'average_traffic_block_size': 882,\n   'local_blockchain_data_size': 4493,\n   'global_blockchain_data_sze': 905,\n   'sending_traffic_logs_time': 0.000737},\n  '80': {'calculating_average_traffic_time': 0.001796,\n   'average_traffic_block_size': 873,\n   'local_blockchain_data_size': 5665,\n   'global_blockchain_data_sze': 896,\n   'sending_traffic_logs_time': 0.001063},\n  '100': {'calculating_average_traffic_time': 0.002527,\n   'average_traffic_block_size': 906,\n   'local_blockchain_data_size': 6904,\n   'global_blockchain_data_sze': 929,\n   'sending_traffic_logs_time': 0.00117},\n  '150': {'calculating_average_traffic_time': 0.003008,\n   'average_traffic_block_size': 879,\n   'local_blockchain_data_size': 9852,\n   'global_blockchain_data_sze': 902,\n   'sending_traffic_logs_time': 0.00242},\n  '200': {'calculating_average_traffic_time': 0.003961,\n   'average_traffic_block_size': 985,\n   'local_blockchain_data_size': 12924,\n   'global_blockchain_data_sze': 1008,\n   'sending_traffic_logs_time': 0.002295}},\n 'nh5': {'1': {'calculating_average_traffic_time': 0.00029,\n   'average_traffic_block_size': 962,\n   'local_blockchain_data_size': 1081,\n   'global_blockchain_data_sze': 985,\n   'sending_traffic_logs_time': 4.5e-05},\n  '5': {'calculating_average_traffic_time': 0.000416,\n   'average_traffic_block_size': 966,\n   'local_blockchain_data_size': 1324,\n   'global_blockchain_data_sze': 989,\n   'sending_traffic_logs_time': 9.6e-05},\n  '10': {'calculating_average_traffic_time': 0.000547,\n   'average_traffic_block_size': 970,\n   'local_blockchain_data_size': 1620,\n   'global_blockchain_data_sze': 993,\n   'sending_traffic_logs_time': 0.000159},\n  '20': {'calculating_average_traffic_time': 0.000772,\n   'average_traffic_block_size': 974,\n   'local_blockchain_data_size': 2213,\n   'global_blockchain_data_sze': 997,\n   'sending_traffic_logs_time': 0.000338},\n  '30': {'calculating_average_traffic_time': 0.001279,\n   'average_traffic_block_size': 1009,\n   'local_blockchain_data_size': 2844,\n   'global_blockchain_data_sze': 1032,\n   'sending_traffic_logs_time': 0.000399},\n  '40': {'calculating_average_traffic_time': 0.001314,\n   'average_traffic_block_size': 1009,\n   'local_blockchain_data_size': 3424,\n   'global_blockchain_data_sze': 1032,\n   'sending_traffic_logs_time': 0.000503},\n  '60': {'calculating_average_traffic_time': 0.000699,\n   'average_traffic_block_size': 1032,\n   'local_blockchain_data_size': 4636,\n   'global_blockchain_data_sze': 1055,\n   'sending_traffic_logs_time': 0.000865},\n  '80': {'calculating_average_traffic_time': 0.002211,\n   'average_traffic_block_size': 1085,\n   'local_blockchain_data_size': 5890,\n   'global_blockchain_data_sze': 1108,\n   'sending_traffic_logs_time': 0.001163},\n  '100': {'calculating_average_traffic_time': 0.002737,\n   'average_traffic_block_size': 1089,\n   'local_blockchain_data_size': 7070,\n   'global_blockchain_data_sze': 1112,\n   'sending_traffic_logs_time': 0.001178},\n  '150': {'calculating_average_traffic_time': 0.003772,\n   'average_traffic_block_size': 1137,\n   'local_blockchain_data_size': 10065,\n   'global_blockchain_data_sze': 1160,\n   'sending_traffic_logs_time': 0.002314},\n  '200': {'calculating_average_traffic_time': 0.005159,\n   'average_traffic_block_size': 1208,\n   'local_blockchain_data_size': 13101,\n   'global_blockchain_data_sze': 1231,\n   'sending_traffic_logs_time': 0.002275}},\n 'nh6': {'1': {'calculating_average_traffic_time': 0.000354,\n   'average_traffic_block_size': 1252,\n   'local_blockchain_data_size': 1371,\n   'global_blockchain_data_sze': 1275,\n   'sending_traffic_logs_time': 4.5e-05},\n  '5': {'calculating_average_traffic_time': 0.000502,\n   'average_traffic_block_size': 1255,\n   'local_blockchain_data_size': 1613,\n   'global_blockchain_data_sze': 1278,\n   'sending_traffic_logs_time': 9.9e-05},\n  '10': {'calculating_average_traffic_time': 0.000658,\n   'average_traffic_block_size': 1260,\n   'local_blockchain_data_size': 1916,\n   'global_blockchain_data_sze': 1283,\n   'sending_traffic_logs_time': 0.000175},\n  '20': {'calculating_average_traffic_time': 0.000989,\n   'average_traffic_block_size': 1268,\n   'local_blockchain_data_size': 2517,\n   'global_blockchain_data_sze': 1291,\n   'sending_traffic_logs_time': 0.000238},\n  '30': {'calculating_average_traffic_time': 0.001491,\n   'average_traffic_block_size': 1287,\n   'local_blockchain_data_size': 3136,\n   'global_blockchain_data_sze': 1310,\n   'sending_traffic_logs_time': 0.000404},\n  '40': {'calculating_average_traffic_time': 0.00165,\n   'average_traffic_block_size': 1304,\n   'local_blockchain_data_size': 3741,\n   'global_blockchain_data_sze': 1327,\n   'sending_traffic_logs_time': 0.000439},\n  '60': {'calculating_average_traffic_time': 0.002327,\n   'average_traffic_block_size': 1325,\n   'local_blockchain_data_size': 4949,\n   'global_blockchain_data_sze': 1348,\n   'sending_traffic_logs_time': 0.000818},\n  '80': {'calculating_average_traffic_time': 0.002801,\n   'average_traffic_block_size': 1342,\n   'local_blockchain_data_size': 6151,\n   'global_blockchain_data_sze': 1365,\n   'sending_traffic_logs_time': 0.003226},\n  '100': {'calculating_average_traffic_time': 0.003497,\n   'average_traffic_block_size': 1370,\n   'local_blockchain_data_size': 7363,\n   'global_blockchain_data_sze': 1393,\n   'sending_traffic_logs_time': 0.001277},\n  '150': {'calculating_average_traffic_time': 0.005013,\n   'average_traffic_block_size': 1450,\n   'local_blockchain_data_size': 10423,\n   'global_blockchain_data_sze': 1473,\n   'sending_traffic_logs_time': 0.001821},\n  '200': {'calculating_average_traffic_time': 0.006624,\n   'average_traffic_block_size': 1548,\n   'local_blockchain_data_size': 13485,\n   'global_blockchain_data_sze': 1571,\n   'sending_traffic_logs_time': 0.002696}},\n 'nh7': {'1': {'calculating_average_traffic_time': 0.000402,\n   'average_traffic_block_size': 1520,\n   'local_blockchain_data_size': 1640,\n   'global_blockchain_data_sze': 1543,\n   'sending_traffic_logs_time': 5e-05},\n  '5': {'calculating_average_traffic_time': 0.000552,\n   'average_traffic_block_size': 1523,\n   'local_blockchain_data_size': 1879,\n   'global_blockchain_data_sze': 1546,\n   'sending_traffic_logs_time': 6.7e-05},\n  '10': {'calculating_average_traffic_time': 0.000719,\n   'average_traffic_block_size': 1527,\n   'local_blockchain_data_size': 2176,\n   'global_blockchain_data_sze': 1550,\n   'sending_traffic_logs_time': 0.000144},\n  '20': {'calculating_average_traffic_time': 0.001072,\n   'average_traffic_block_size': 1536,\n   'local_blockchain_data_size': 2782,\n   'global_blockchain_data_sze': 1559,\n   'sending_traffic_logs_time': 0.000186},\n  '30': {'calculating_average_traffic_time': 0.001425,\n   'average_traffic_block_size': 1556,\n   'local_blockchain_data_size': 3396,\n   'global_blockchain_data_sze': 1579,\n   'sending_traffic_logs_time': 0.000434},\n  '40': {'calculating_average_traffic_time': 0.0018,\n   'average_traffic_block_size': 1550,\n   'local_blockchain_data_size': 3978,\n   'global_blockchain_data_sze': 1573,\n   'sending_traffic_logs_time': 0.000523},\n  '60': {'calculating_average_traffic_time': 0.002473,\n   'average_traffic_block_size': 1563,\n   'local_blockchain_data_size': 5189,\n   'global_blockchain_data_sze': 1586,\n   'sending_traffic_logs_time': 0.000805},\n  '80': {'calculating_average_traffic_time': 0.003133,\n   'average_traffic_block_size': 1616,\n   'local_blockchain_data_size': 6427,\n   'global_blockchain_data_sze': 1639,\n   'sending_traffic_logs_time': 0.000903},\n  '100': {'calculating_average_traffic_time': 0.003779,\n   'average_traffic_block_size': 1668,\n   'local_blockchain_data_size': 7668,\n   'global_blockchain_data_sze': 1691,\n   'sending_traffic_logs_time': 0.000978},\n  '150': {'calculating_average_traffic_time': 0.005214,\n   'average_traffic_block_size': 1779,\n   'local_blockchain_data_size': 10735,\n   'global_blockchain_data_sze': 1802,\n   'sending_traffic_logs_time': 0.001621},\n  '200': {'calculating_average_traffic_time': 0.007159,\n   'average_traffic_block_size': 1787,\n   'local_blockchain_data_size': 13702,\n   'global_blockchain_data_sze': 1810,\n   'sending_traffic_logs_time': 0.00261}}}"
     },
     "execution_count": 7,
     "metadata": {},
     "output_type": "execute_result"
    }
   ],
   "execution_count": 7
  },
  {
   "cell_type": "markdown",
   "source": [
    "### Partially Homomorphic Encryption Scheme Evaluations\n",
    "Let's create a function that runs the simulations and gives the results."
   ],
   "metadata": {
    "collapsed": false
   },
   "id": "8ede8f298e53ac7e"
  },
  {
   "cell_type": "code",
   "source": [
    "import PartialHomomorphyScheme\n",
    "\n",
    "def run_partially_homomorphic_encryption_scheme_simulation(neighborhood, speed_log_count, traffic_update_interval_in_seconds=speed_log_count/1.5):\n",
    "    sim = PartialHomomorphyScheme.Simulation(neighborhood, quiet=True, random_speed_log_count=speed_log_count,sleep_time=0.2, traffic_update_interval_in_seconds=traffic_update_interval_in_seconds)\n",
    "    sim.run()\n",
    "    data = sim.get_simulation_data()\n",
    "    sim.end_run()\n",
    "    return data"
   ],
   "metadata": {
    "collapsed": false,
    "ExecuteTime": {
     "end_time": "2024-06-10T14:29:01.493564Z",
     "start_time": "2024-06-10T14:29:01.451525Z"
    }
   },
   "id": "4e478b7f90c78679",
   "outputs": [],
   "execution_count": 8
  },
  {
   "cell_type": "markdown",
   "source": [
    "Run the simulation for all pairs. Starting from the last run."
   ],
   "metadata": {
    "collapsed": false
   },
   "id": "faa8be0a1fc540d1"
  },
  {
   "cell_type": "code",
   "source": [
    "from tqdm import tqdm\n",
    "\n",
    "results_file = result_folder + '/partially_homomorphic_encryption_scheme_results.json'\n",
    "\n",
    "# read the data from results file\n",
    "try:\n",
    "    with open(results_file, 'r') as f:\n",
    "        results = json.load(f)\n",
    "except:\n",
    "    results = {}\n",
    "\n",
    "count = 0\n",
    "for nh, log_count in tqdm(pairs):\n",
    "    print(f\"===================={nh} - {log_count}====================\")\n",
    "    if nh not in results.keys():\n",
    "        results[nh] = {}\n",
    "    if str(log_count) not in results[nh].keys():\n",
    "        count += 1\n",
    "        results[nh][str(log_count)] = run_partially_homomorphic_encryption_scheme_simulation(nh, log_count)\n",
    "        with open(results_file, 'w') as f:\n",
    "            json.dump(results, f)\n",
    "    else:\n",
    "        print(\"Already exists\")"
   ],
   "metadata": {
    "collapsed": false,
    "ExecuteTime": {
     "end_time": "2024-06-10T15:38:06.780234Z",
     "start_time": "2024-06-10T14:29:01.477062Z"
    }
   },
   "id": "c08e16ad9567a41c",
   "outputs": [
    {
     "name": "stderr",
     "output_type": "stream",
     "text": [
      "  0%|          | 0/88 [00:00<?, ?it/s]"
     ]
    },
    {
     "name": "stdout",
     "output_type": "stream",
     "text": [
      "====================nh0 - 1====================\n"
     ]
    },
    {
     "name": "stderr",
     "output_type": "stream",
     "text": [
      "\n",
      "  0%|          | 0/1 [00:00<?, ?it/s]\u001B[A\n",
      "100%|██████████| 1/1 [00:00<00:00,  1.20it/s]\u001B[A\n",
      "\n",
      "  0%|          | 0/1 [00:00<?, ?it/s]\u001B[A\n",
      "100%|██████████| 1/1 [00:00<00:00,  1.22it/s]\u001B[A\n",
      "\n",
      "100%|██████████| 1/1 [00:00<00:00, 7810.62it/s]\n",
      "\n",
      "100%|██████████| 1/1 [00:00<00:00, 3833.92it/s]\n",
      "  1%|          | 1/88 [02:29<3:36:40, 149.43s/it]"
     ]
    },
    {
     "name": "stdout",
     "output_type": "stream",
     "text": [
      "====================nh0 - 5====================\n"
     ]
    },
    {
     "name": "stderr",
     "output_type": "stream",
     "text": [
      "\n",
      "  0%|          | 0/1 [00:00<?, ?it/s]\u001B[A\n",
      "100%|██████████| 1/1 [00:00<00:00,  1.21it/s]\u001B[A\n",
      "\n",
      "  0%|          | 0/1 [00:00<?, ?it/s]\u001B[A\n",
      "100%|██████████| 1/1 [00:00<00:00,  1.24it/s]\u001B[A\n",
      "\n",
      "  0%|          | 0/1 [00:00<?, ?it/s]\u001B[A\n",
      "  2%|▏         | 2/88 [05:13<3:46:39, 158.13s/it]"
     ]
    },
    {
     "name": "stdout",
     "output_type": "stream",
     "text": [
      "====================nh0 - 10====================\n"
     ]
    },
    {
     "name": "stderr",
     "output_type": "stream",
     "text": [
      "\n",
      "  0%|          | 0/1 [00:00<?, ?it/s]\u001B[A\n",
      "100%|██████████| 1/1 [00:00<00:00,  1.22it/s]\u001B[A\n",
      "\n",
      "  0%|          | 0/1 [00:00<?, ?it/s]\u001B[A\n",
      "100%|██████████| 1/1 [00:00<00:00,  1.23it/s]\u001B[A\n",
      "\n",
      "  0%|          | 0/1 [00:00<?, ?it/s]\u001B[A\n",
      "  3%|▎         | 3/88 [07:44<3:38:59, 154.58s/it]"
     ]
    },
    {
     "name": "stdout",
     "output_type": "stream",
     "text": [
      "====================nh0 - 20====================\n"
     ]
    },
    {
     "name": "stderr",
     "output_type": "stream",
     "text": [
      "\n",
      "  0%|          | 0/1 [00:00<?, ?it/s]\u001B[A\n",
      "100%|██████████| 1/1 [00:00<00:00,  1.19it/s]\u001B[A\n",
      "\n",
      "  0%|          | 0/1 [00:00<?, ?it/s]\u001B[A\n",
      "100%|██████████| 1/1 [00:00<00:00,  1.22it/s]\u001B[A\n",
      "\n",
      "  0%|          | 0/1 [00:00<?, ?it/s]\u001B[A\n",
      "  5%|▍         | 4/88 [10:13<3:33:23, 152.42s/it]"
     ]
    },
    {
     "name": "stdout",
     "output_type": "stream",
     "text": [
      "====================nh0 - 30====================\n"
     ]
    },
    {
     "name": "stderr",
     "output_type": "stream",
     "text": [
      "\n",
      "  0%|          | 0/1 [00:00<?, ?it/s]\u001B[A\n",
      "100%|██████████| 1/1 [00:00<00:00,  1.21it/s]\u001B[A\n",
      "\n",
      "  0%|          | 0/1 [00:00<?, ?it/s]\u001B[A\n",
      "100%|██████████| 1/1 [00:00<00:00,  1.24it/s]\u001B[A\n",
      "\n",
      "100%|██████████| 1/1 [00:00<00:00, 7194.35it/s]\n",
      "\n",
      "100%|██████████| 1/1 [00:00<00:00, 1037.68it/s]\n",
      "  6%|▌         | 5/88 [12:40<3:28:32, 150.75s/it]"
     ]
    },
    {
     "name": "stdout",
     "output_type": "stream",
     "text": [
      "====================nh0 - 40====================\n"
     ]
    },
    {
     "name": "stderr",
     "output_type": "stream",
     "text": [
      "\n",
      "  0%|          | 0/1 [00:00<?, ?it/s]\u001B[A\n",
      "100%|██████████| 1/1 [00:00<00:00,  1.19it/s]\u001B[A\n",
      "\n",
      "  0%|          | 0/1 [00:00<?, ?it/s]\u001B[A\n",
      "100%|██████████| 1/1 [00:00<00:00,  1.21it/s]\u001B[A\n",
      "\n",
      "  0%|          | 0/1 [00:00<?, ?it/s]\u001B[A\n",
      "  7%|▋         | 6/88 [15:04<3:22:43, 148.33s/it]"
     ]
    },
    {
     "name": "stdout",
     "output_type": "stream",
     "text": [
      "====================nh0 - 60====================\n"
     ]
    },
    {
     "name": "stderr",
     "output_type": "stream",
     "text": [
      "\n",
      "  0%|          | 0/1 [00:00<?, ?it/s]\u001B[A\n",
      "100%|██████████| 1/1 [00:00<00:00,  1.20it/s]\u001B[A\n",
      "\n",
      "  0%|          | 0/1 [00:00<?, ?it/s]\u001B[A\n",
      "100%|██████████| 1/1 [00:00<00:00,  1.23it/s]\u001B[A\n",
      "\n",
      "  0%|          | 0/1 [00:00<?, ?it/s]\u001B[A\n",
      "  8%|▊         | 7/88 [17:39<3:23:13, 150.54s/it]"
     ]
    },
    {
     "name": "stdout",
     "output_type": "stream",
     "text": [
      "====================nh0 - 80====================\n"
     ]
    },
    {
     "name": "stderr",
     "output_type": "stream",
     "text": [
      "\n",
      "  0%|          | 0/1 [00:00<?, ?it/s]\u001B[A\n",
      "100%|██████████| 1/1 [00:01<00:00,  1.07s/it]\u001B[A\n",
      "\n",
      "  0%|          | 0/1 [00:00<?, ?it/s]\u001B[A\n",
      "100%|██████████| 1/1 [00:01<00:00,  1.05s/it]\u001B[A\n",
      "\n",
      "  0%|          | 0/1 [00:00<?, ?it/s]\u001B[A\n",
      "  9%|▉         | 8/88 [20:21<3:25:21, 154.02s/it]"
     ]
    },
    {
     "name": "stdout",
     "output_type": "stream",
     "text": [
      "====================nh0 - 100====================\n"
     ]
    },
    {
     "name": "stderr",
     "output_type": "stream",
     "text": [
      "\n",
      "  0%|          | 0/1 [00:00<?, ?it/s]\u001B[A\n",
      "100%|██████████| 1/1 [00:01<00:00,  1.07s/it]\u001B[A\n",
      "\n",
      "  0%|          | 0/1 [00:00<?, ?it/s]\u001B[A\n",
      "100%|██████████| 1/1 [00:01<00:00,  1.05s/it]\u001B[A\n",
      "\n",
      "  0%|          | 0/1 [00:00<?, ?it/s]\u001B[A\n",
      " 10%|█         | 9/88 [23:00<3:24:52, 155.60s/it]"
     ]
    },
    {
     "name": "stdout",
     "output_type": "stream",
     "text": [
      "====================nh0 - 150====================\n"
     ]
    },
    {
     "name": "stderr",
     "output_type": "stream",
     "text": [
      "\n",
      "  0%|          | 0/1 [00:00<?, ?it/s]\u001B[A\n",
      "100%|██████████| 1/1 [00:01<00:00,  1.09s/it]\u001B[A\n",
      "\n",
      "  0%|          | 0/1 [00:00<?, ?it/s]\u001B[A\n",
      "100%|██████████| 1/1 [00:01<00:00,  1.07s/it]\u001B[A\n",
      "\n",
      "  0%|          | 0/1 [00:00<?, ?it/s]\u001B[A\n",
      " 11%|█▏        | 10/88 [25:35<3:21:59, 155.38s/it]"
     ]
    },
    {
     "name": "stdout",
     "output_type": "stream",
     "text": [
      "====================nh0 - 200====================\n"
     ]
    },
    {
     "name": "stderr",
     "output_type": "stream",
     "text": [
      "\n",
      "  0%|          | 0/1 [00:00<?, ?it/s]\u001B[A\n",
      "100%|██████████| 1/1 [00:01<00:00,  1.09s/it]\u001B[A\n",
      "\n",
      "  0%|          | 0/1 [00:00<?, ?it/s]\u001B[A\n",
      "100%|██████████| 1/1 [00:01<00:00,  1.08s/it]\u001B[A\n",
      "\n",
      "  0%|          | 0/1 [00:00<?, ?it/s]\u001B[A\n",
      " 12%|█▎        | 11/88 [28:16<3:21:57, 157.38s/it]"
     ]
    },
    {
     "name": "stdout",
     "output_type": "stream",
     "text": [
      "====================nh1 - 1====================\n"
     ]
    },
    {
     "name": "stderr",
     "output_type": "stream",
     "text": [
      "\n",
      "  0%|          | 0/20 [00:00<?, ?it/s]\u001B[A\n",
      "  5%|▌         | 1/20 [00:01<00:20,  1.05s/it]\u001B[A\n",
      " 10%|█         | 2/20 [00:02<00:24,  1.34s/it]\u001B[A\n",
      " 15%|█▌        | 3/20 [00:04<00:24,  1.43s/it]\u001B[A\n",
      " 20%|██        | 4/20 [00:05<00:23,  1.47s/it]\u001B[A\n",
      " 25%|██▌       | 5/20 [00:07<00:22,  1.49s/it]\u001B[A\n",
      " 30%|███       | 6/20 [00:08<00:21,  1.50s/it]\u001B[A\n",
      " 35%|███▌      | 7/20 [00:10<00:19,  1.51s/it]\u001B[A\n",
      " 40%|████      | 8/20 [00:11<00:18,  1.52s/it]\u001B[A\n",
      " 45%|████▌     | 9/20 [00:13<00:16,  1.52s/it]\u001B[A\n",
      " 50%|█████     | 10/20 [00:14<00:15,  1.53s/it]\u001B[A\n",
      " 55%|█████▌    | 11/20 [00:16<00:13,  1.53s/it]\u001B[A\n",
      " 60%|██████    | 12/20 [00:17<00:12,  1.53s/it]\u001B[A\n",
      " 65%|██████▌   | 13/20 [00:19<00:10,  1.53s/it]\u001B[A\n",
      " 70%|███████   | 14/20 [00:20<00:09,  1.53s/it]\u001B[A\n",
      " 75%|███████▌  | 15/20 [00:22<00:07,  1.53s/it]\u001B[A\n",
      " 80%|████████  | 16/20 [00:24<00:06,  1.53s/it]\u001B[A\n",
      " 85%|████████▌ | 17/20 [00:25<00:04,  1.53s/it]\u001B[A\n",
      " 90%|█████████ | 18/20 [00:27<00:03,  1.53s/it]\u001B[A\n",
      " 95%|█████████▌| 19/20 [00:28<00:01,  1.53s/it]\u001B[A\n",
      "100%|██████████| 20/20 [00:30<00:00,  1.51s/it]\u001B[A\n",
      "\n",
      "  0%|          | 0/20 [00:00<?, ?it/s]\u001B[A\n",
      "  5%|▌         | 1/20 [00:01<00:24,  1.30s/it]\u001B[A\n",
      " 10%|█         | 2/20 [00:02<00:27,  1.52s/it]\u001B[A\n",
      " 15%|█▌        | 3/20 [00:04<00:25,  1.52s/it]\u001B[A\n",
      " 20%|██        | 4/20 [00:06<00:24,  1.53s/it]\u001B[A\n",
      " 25%|██▌       | 5/20 [00:07<00:22,  1.53s/it]\u001B[A\n",
      " 30%|███       | 6/20 [00:09<00:21,  1.53s/it]\u001B[A\n",
      " 35%|███▌      | 7/20 [00:10<00:19,  1.53s/it]\u001B[A\n",
      " 40%|████      | 8/20 [00:12<00:18,  1.53s/it]\u001B[A\n",
      " 45%|████▌     | 9/20 [00:13<00:16,  1.53s/it]\u001B[A\n",
      " 50%|█████     | 10/20 [00:15<00:15,  1.53s/it]\u001B[A\n",
      " 55%|█████▌    | 11/20 [00:16<00:13,  1.53s/it]\u001B[A\n",
      " 60%|██████    | 12/20 [00:18<00:12,  1.53s/it]\u001B[A\n",
      " 65%|██████▌   | 13/20 [00:19<00:10,  1.53s/it]\u001B[A\n",
      " 70%|███████   | 14/20 [00:21<00:09,  1.53s/it]\u001B[A\n",
      " 75%|███████▌  | 15/20 [00:22<00:07,  1.53s/it]\u001B[A\n",
      " 80%|████████  | 16/20 [00:24<00:06,  1.53s/it]\u001B[A\n",
      " 85%|████████▌ | 17/20 [00:25<00:04,  1.53s/it]\u001B[A\n",
      " 90%|█████████ | 18/20 [00:27<00:03,  1.53s/it]\u001B[A\n",
      " 95%|█████████▌| 19/20 [00:28<00:01,  1.53s/it]\u001B[A\n",
      "100%|██████████| 20/20 [00:30<00:00,  1.53s/it]\u001B[A\n",
      "\n",
      "100%|██████████| 20/20 [00:00<00:00, 121222.66it/s]\n",
      "\n",
      "100%|██████████| 20/20 [00:00<00:00, 76052.66it/s]\n",
      " 14%|█▎        | 12/88 [32:04<3:46:11, 178.57s/it]"
     ]
    },
    {
     "name": "stdout",
     "output_type": "stream",
     "text": [
      "====================nh1 - 5====================\n"
     ]
    },
    {
     "name": "stderr",
     "output_type": "stream",
     "text": [
      "\n",
      "  0%|          | 0/20 [00:00<?, ?it/s]\u001B[A\n",
      "  5%|▌         | 1/20 [00:00<00:15,  1.22it/s]\u001B[A\n",
      " 10%|█         | 2/20 [00:01<00:18,  1.02s/it]\u001B[A\n",
      " 15%|█▌        | 3/20 [00:03<00:18,  1.09s/it]\u001B[A\n",
      " 20%|██        | 4/20 [00:04<00:17,  1.12s/it]\u001B[A\n",
      " 25%|██▌       | 5/20 [00:05<00:16,  1.13s/it]\u001B[A\n",
      " 30%|███       | 6/20 [00:06<00:15,  1.14s/it]\u001B[A\n",
      " 35%|███▌      | 7/20 [00:07<00:14,  1.15s/it]\u001B[A\n",
      " 40%|████      | 8/20 [00:08<00:13,  1.15s/it]\u001B[A\n",
      " 45%|████▌     | 9/20 [00:10<00:12,  1.15s/it]\u001B[A\n",
      " 50%|█████     | 10/20 [00:11<00:11,  1.16s/it]\u001B[A\n",
      " 55%|█████▌    | 11/20 [00:12<00:10,  1.16s/it]\u001B[A\n",
      " 60%|██████    | 12/20 [00:13<00:09,  1.16s/it]\u001B[A\n",
      " 65%|██████▌   | 13/20 [00:14<00:08,  1.16s/it]\u001B[A\n",
      " 70%|███████   | 14/20 [00:15<00:06,  1.16s/it]\u001B[A\n",
      " 75%|███████▌  | 15/20 [00:17<00:05,  1.16s/it]\u001B[A\n",
      " 80%|████████  | 16/20 [00:18<00:04,  1.16s/it]\u001B[A\n",
      " 85%|████████▌ | 17/20 [00:19<00:03,  1.16s/it]\u001B[A\n",
      " 90%|█████████ | 18/20 [00:20<00:02,  1.16s/it]\u001B[A\n",
      " 95%|█████████▌| 19/20 [00:21<00:01,  1.16s/it]\u001B[A\n",
      "100%|██████████| 20/20 [00:22<00:00,  1.14s/it]\u001B[A\n",
      "\n",
      "  0%|          | 0/20 [00:00<?, ?it/s]\u001B[A\n",
      "  5%|▌         | 1/20 [00:00<00:14,  1.28it/s]\u001B[A\n",
      " 10%|█         | 2/20 [00:01<00:18,  1.01s/it]\u001B[A\n",
      " 15%|█▌        | 3/20 [00:03<00:18,  1.08s/it]\u001B[A\n",
      " 20%|██        | 4/20 [00:04<00:17,  1.11s/it]\u001B[A\n",
      " 25%|██▌       | 5/20 [00:05<00:16,  1.13s/it]\u001B[A\n",
      " 30%|███       | 6/20 [00:06<00:15,  1.14s/it]\u001B[A\n",
      " 35%|███▌      | 7/20 [00:07<00:14,  1.15s/it]\u001B[A\n",
      " 40%|████      | 8/20 [00:08<00:13,  1.15s/it]\u001B[A\n",
      " 45%|████▌     | 9/20 [00:10<00:12,  1.15s/it]\u001B[A\n",
      " 50%|█████     | 10/20 [00:11<00:11,  1.16s/it]\u001B[A\n",
      " 55%|█████▌    | 11/20 [00:12<00:10,  1.16s/it]\u001B[A\n",
      " 60%|██████    | 12/20 [00:13<00:09,  1.16s/it]\u001B[A\n",
      " 65%|██████▌   | 13/20 [00:14<00:08,  1.16s/it]\u001B[A\n",
      " 70%|███████   | 14/20 [00:15<00:06,  1.16s/it]\u001B[A\n",
      " 75%|███████▌  | 15/20 [00:17<00:05,  1.16s/it]\u001B[A\n",
      " 80%|████████  | 16/20 [00:18<00:04,  1.16s/it]\u001B[A\n",
      " 85%|████████▌ | 17/20 [00:19<00:03,  1.16s/it]\u001B[A\n",
      " 90%|█████████ | 18/20 [00:20<00:02,  1.16s/it]\u001B[A\n",
      " 95%|█████████▌| 19/20 [00:21<00:01,  1.16s/it]\u001B[A\n",
      "100%|██████████| 20/20 [00:22<00:00,  1.14s/it]\u001B[A\n",
      "\n",
      "  0%|          | 0/20 [00:00<?, ?it/s]\u001B[A\n",
      " 15%|█▍        | 13/88 [35:33<3:55:01, 188.01s/it]"
     ]
    },
    {
     "name": "stdout",
     "output_type": "stream",
     "text": [
      "====================nh1 - 10====================\n"
     ]
    },
    {
     "name": "stderr",
     "output_type": "stream",
     "text": [
      "\n",
      "  0%|          | 0/20 [00:00<?, ?it/s]\u001B[A\n",
      "  5%|▌         | 1/20 [00:00<00:15,  1.20it/s]\u001B[A\n",
      " 10%|█         | 2/20 [00:02<00:18,  1.04s/it]\u001B[A\n",
      " 15%|█▌        | 3/20 [00:03<00:18,  1.10s/it]\u001B[A\n",
      " 20%|██        | 4/20 [00:04<00:18,  1.13s/it]\u001B[A\n",
      " 25%|██▌       | 5/20 [00:05<00:17,  1.15s/it]\u001B[A\n",
      " 30%|███       | 6/20 [00:06<00:16,  1.16s/it]\u001B[A\n",
      " 35%|███▌      | 7/20 [00:07<00:15,  1.16s/it]\u001B[A\n",
      " 40%|████      | 8/20 [00:09<00:14,  1.17s/it]\u001B[A\n",
      " 45%|████▌     | 9/20 [00:10<00:12,  1.17s/it]\u001B[A\n",
      " 50%|█████     | 10/20 [00:11<00:11,  1.17s/it]\u001B[A\n",
      " 55%|█████▌    | 11/20 [00:12<00:10,  1.17s/it]\u001B[A\n",
      " 60%|██████    | 12/20 [00:13<00:09,  1.17s/it]\u001B[A\n",
      " 65%|██████▌   | 13/20 [00:14<00:08,  1.17s/it]\u001B[A\n",
      " 70%|███████   | 14/20 [00:16<00:07,  1.17s/it]\u001B[A\n",
      " 75%|███████▌  | 15/20 [00:17<00:05,  1.17s/it]\u001B[A\n",
      " 80%|████████  | 16/20 [00:18<00:04,  1.17s/it]\u001B[A\n",
      " 85%|████████▌ | 17/20 [00:19<00:03,  1.17s/it]\u001B[A\n",
      " 90%|█████████ | 18/20 [00:20<00:02,  1.18s/it]\u001B[A\n",
      " 95%|█████████▌| 19/20 [00:22<00:01,  1.18s/it]\u001B[A\n",
      "100%|██████████| 20/20 [00:23<00:00,  1.16s/it]\u001B[A\n",
      "\n",
      "  0%|          | 0/20 [00:00<?, ?it/s]\u001B[A\n",
      "  5%|▌         | 1/20 [00:00<00:15,  1.25it/s]\u001B[A\n",
      " 10%|█         | 2/20 [00:01<00:18,  1.02s/it]\u001B[A\n",
      " 15%|█▌        | 3/20 [00:03<00:18,  1.09s/it]\u001B[A\n",
      " 20%|██        | 4/20 [00:04<00:17,  1.12s/it]\u001B[A\n",
      " 25%|██▌       | 5/20 [00:05<00:17,  1.14s/it]\u001B[A\n",
      " 30%|███       | 6/20 [00:06<00:16,  1.15s/it]\u001B[A\n",
      " 35%|███▌      | 7/20 [00:07<00:15,  1.16s/it]\u001B[A\n",
      " 40%|████      | 8/20 [00:09<00:13,  1.16s/it]\u001B[A\n",
      " 45%|████▌     | 9/20 [00:10<00:12,  1.17s/it]\u001B[A\n",
      " 50%|█████     | 10/20 [00:11<00:11,  1.17s/it]\u001B[A\n",
      " 55%|█████▌    | 11/20 [00:12<00:10,  1.17s/it]\u001B[A\n",
      " 60%|██████    | 12/20 [00:13<00:09,  1.17s/it]\u001B[A\n",
      " 65%|██████▌   | 13/20 [00:14<00:08,  1.17s/it]\u001B[A\n",
      " 70%|███████   | 14/20 [00:16<00:07,  1.17s/it]\u001B[A\n",
      " 75%|███████▌  | 15/20 [00:17<00:05,  1.17s/it]\u001B[A\n",
      " 80%|████████  | 16/20 [00:18<00:04,  1.17s/it]\u001B[A\n",
      " 85%|████████▌ | 17/20 [00:19<00:03,  1.17s/it]\u001B[A\n",
      " 90%|█████████ | 18/20 [00:20<00:02,  1.17s/it]\u001B[A\n",
      " 95%|█████████▌| 19/20 [00:21<00:01,  1.17s/it]\u001B[A\n",
      "100%|██████████| 20/20 [00:23<00:00,  1.16s/it]\u001B[A\n",
      "\n",
      "  0%|          | 0/20 [00:00<?, ?it/s]\u001B[A\n",
      " 16%|█▌        | 14/88 [38:57<3:57:44, 192.77s/it]"
     ]
    },
    {
     "name": "stdout",
     "output_type": "stream",
     "text": [
      "====================nh1 - 20====================\n"
     ]
    },
    {
     "name": "stderr",
     "output_type": "stream",
     "text": [
      "\n",
      "  0%|          | 0/20 [00:00<?, ?it/s]\u001B[A\n",
      "  5%|▌         | 1/20 [00:00<00:15,  1.20it/s]\u001B[A\n",
      " 10%|█         | 2/20 [00:02<00:18,  1.03s/it]\u001B[A\n",
      " 15%|█▌        | 3/20 [00:03<00:18,  1.09s/it]\u001B[A\n",
      " 20%|██        | 4/20 [00:04<00:18,  1.13s/it]\u001B[A\n",
      " 25%|██▌       | 5/20 [00:05<00:17,  1.14s/it]\u001B[A\n",
      " 30%|███       | 6/20 [00:06<00:16,  1.15s/it]\u001B[A\n",
      " 35%|███▌      | 7/20 [00:07<00:15,  1.16s/it]\u001B[A\n",
      " 40%|████      | 8/20 [00:09<00:13,  1.16s/it]\u001B[A\n",
      " 45%|████▌     | 9/20 [00:10<00:12,  1.16s/it]\u001B[A\n",
      " 50%|█████     | 10/20 [00:11<00:11,  1.17s/it]\u001B[A\n",
      " 55%|█████▌    | 11/20 [00:12<00:10,  1.17s/it]\u001B[A\n",
      " 60%|██████    | 12/20 [00:13<00:09,  1.17s/it]\u001B[A\n",
      " 65%|██████▌   | 13/20 [00:14<00:08,  1.17s/it]\u001B[A\n",
      " 70%|███████   | 14/20 [00:16<00:07,  1.17s/it]\u001B[A\n",
      " 75%|███████▌  | 15/20 [00:17<00:05,  1.17s/it]\u001B[A\n",
      " 80%|████████  | 16/20 [00:18<00:04,  1.17s/it]\u001B[A\n",
      " 85%|████████▌ | 17/20 [00:19<00:03,  1.17s/it]\u001B[A\n",
      " 90%|█████████ | 18/20 [00:20<00:02,  1.17s/it]\u001B[A\n",
      " 95%|█████████▌| 19/20 [00:21<00:01,  1.17s/it]\u001B[A\n",
      "100%|██████████| 20/20 [00:23<00:00,  1.15s/it]\u001B[A\n",
      "\n",
      "  0%|          | 0/20 [00:00<?, ?it/s]\u001B[A\n",
      "  5%|▌         | 1/20 [00:00<00:15,  1.26it/s]\u001B[A\n",
      " 10%|█         | 2/20 [00:01<00:18,  1.01s/it]\u001B[A\n",
      " 15%|█▌        | 3/20 [00:03<00:18,  1.08s/it]\u001B[A\n",
      " 20%|██        | 4/20 [00:04<00:17,  1.12s/it]\u001B[A\n",
      " 25%|██▌       | 5/20 [00:05<00:17,  1.14s/it]\u001B[A\n",
      " 30%|███       | 6/20 [00:06<00:16,  1.15s/it]\u001B[A\n",
      " 35%|███▌      | 7/20 [00:07<00:15,  1.15s/it]\u001B[A\n",
      " 40%|████      | 8/20 [00:08<00:13,  1.16s/it]\u001B[A\n",
      " 45%|████▌     | 9/20 [00:10<00:12,  1.16s/it]\u001B[A\n",
      " 50%|█████     | 10/20 [00:11<00:11,  1.17s/it]\u001B[A\n",
      " 55%|█████▌    | 11/20 [00:12<00:10,  1.17s/it]\u001B[A\n",
      " 60%|██████    | 12/20 [00:13<00:09,  1.17s/it]\u001B[A\n",
      " 65%|██████▌   | 13/20 [00:14<00:08,  1.17s/it]\u001B[A\n",
      " 70%|███████   | 14/20 [00:15<00:07,  1.17s/it]\u001B[A\n",
      " 75%|███████▌  | 15/20 [00:17<00:05,  1.17s/it]\u001B[A\n",
      " 80%|████████  | 16/20 [00:18<00:04,  1.17s/it]\u001B[A\n",
      " 85%|████████▌ | 17/20 [00:19<00:03,  1.17s/it]\u001B[A\n",
      " 90%|█████████ | 18/20 [00:20<00:02,  1.17s/it]\u001B[A\n",
      " 95%|█████████▌| 19/20 [00:21<00:01,  1.17s/it]\u001B[A\n",
      "100%|██████████| 20/20 [00:23<00:00,  1.15s/it]\u001B[A\n",
      "\n",
      "  0%|          | 0/20 [00:00<?, ?it/s]\u001B[A\n",
      " 17%|█▋        | 15/88 [42:18<3:57:33, 195.25s/it]"
     ]
    },
    {
     "name": "stdout",
     "output_type": "stream",
     "text": [
      "====================nh1 - 30====================\n"
     ]
    },
    {
     "name": "stderr",
     "output_type": "stream",
     "text": [
      "\n",
      "  0%|          | 0/20 [00:00<?, ?it/s]\u001B[A\n",
      "  5%|▌         | 1/20 [00:00<00:15,  1.19it/s]\u001B[A\n",
      " 10%|█         | 2/20 [00:02<00:18,  1.04s/it]\u001B[A\n",
      " 15%|█▌        | 3/20 [00:03<00:18,  1.10s/it]\u001B[A\n",
      " 20%|██        | 4/20 [00:04<00:18,  1.13s/it]\u001B[A\n",
      " 25%|██▌       | 5/20 [00:05<00:17,  1.15s/it]\u001B[A\n",
      " 30%|███       | 6/20 [00:06<00:16,  1.16s/it]\u001B[A\n",
      " 35%|███▌      | 7/20 [00:07<00:15,  1.16s/it]\u001B[A\n",
      " 40%|████      | 8/20 [00:09<00:13,  1.17s/it]\u001B[A\n",
      " 45%|████▌     | 9/20 [00:10<00:12,  1.17s/it]\u001B[A\n",
      " 50%|█████     | 10/20 [00:11<00:11,  1.17s/it]\u001B[A\n",
      " 55%|█████▌    | 11/20 [00:12<00:10,  1.17s/it]\u001B[A\n",
      " 60%|██████    | 12/20 [00:13<00:09,  1.17s/it]\u001B[A\n",
      " 65%|██████▌   | 13/20 [00:14<00:08,  1.17s/it]\u001B[A\n",
      " 70%|███████   | 14/20 [00:16<00:07,  1.17s/it]\u001B[A\n",
      " 75%|███████▌  | 15/20 [00:17<00:05,  1.17s/it]\u001B[A\n",
      " 80%|████████  | 16/20 [00:18<00:04,  1.17s/it]\u001B[A\n",
      " 85%|████████▌ | 17/20 [00:19<00:03,  1.17s/it]\u001B[A\n",
      " 90%|█████████ | 18/20 [00:20<00:02,  1.17s/it]\u001B[A\n",
      " 95%|█████████▌| 19/20 [00:21<00:01,  1.17s/it]\u001B[A\n",
      "100%|██████████| 20/20 [00:23<00:00,  1.16s/it]\u001B[A\n",
      "\n",
      "  0%|          | 0/20 [00:00<?, ?it/s]\u001B[A\n",
      "  5%|▌         | 1/20 [00:00<00:15,  1.26it/s]\u001B[A\n",
      " 10%|█         | 2/20 [00:01<00:18,  1.02s/it]\u001B[A\n",
      " 15%|█▌        | 3/20 [00:03<00:18,  1.09s/it]\u001B[A\n",
      " 20%|██        | 4/20 [00:04<00:17,  1.12s/it]\u001B[A\n",
      " 25%|██▌       | 5/20 [00:05<00:17,  1.14s/it]\u001B[A\n",
      " 30%|███       | 6/20 [00:06<00:16,  1.15s/it]\u001B[A\n",
      " 35%|███▌      | 7/20 [00:07<00:15,  1.16s/it]\u001B[A\n",
      " 40%|████      | 8/20 [00:09<00:13,  1.16s/it]\u001B[A\n",
      " 45%|████▌     | 9/20 [00:10<00:12,  1.17s/it]\u001B[A\n",
      " 50%|█████     | 10/20 [00:11<00:11,  1.17s/it]\u001B[A\n",
      " 55%|█████▌    | 11/20 [00:12<00:10,  1.17s/it]\u001B[A\n",
      " 60%|██████    | 12/20 [00:13<00:09,  1.17s/it]\u001B[A\n",
      " 65%|██████▌   | 13/20 [00:14<00:08,  1.17s/it]\u001B[A\n",
      " 70%|███████   | 14/20 [00:16<00:07,  1.17s/it]\u001B[A\n",
      " 75%|███████▌  | 15/20 [00:17<00:05,  1.17s/it]\u001B[A\n",
      " 80%|████████  | 16/20 [00:18<00:04,  1.17s/it]\u001B[A\n",
      " 85%|████████▌ | 17/20 [00:19<00:03,  1.17s/it]\u001B[A\n",
      " 90%|█████████ | 18/20 [00:20<00:02,  1.17s/it]\u001B[A\n",
      " 95%|█████████▌| 19/20 [00:21<00:01,  1.17s/it]\u001B[A\n",
      "100%|██████████| 20/20 [00:23<00:00,  1.16s/it]\u001B[A\n",
      "\n",
      "  0%|          | 0/20 [00:00<?, ?it/s]\u001B[A\n",
      " 18%|█▊        | 16/88 [45:29<3:52:50, 194.03s/it]"
     ]
    },
    {
     "name": "stdout",
     "output_type": "stream",
     "text": [
      "====================nh1 - 40====================\n"
     ]
    },
    {
     "name": "stderr",
     "output_type": "stream",
     "text": [
      "\n",
      "  0%|          | 0/20 [00:00<?, ?it/s]\u001B[A\n",
      "  5%|▌         | 1/20 [00:00<00:15,  1.21it/s]\u001B[A\n",
      " 10%|█         | 2/20 [00:01<00:18,  1.03s/it]\u001B[A\n",
      " 15%|█▌        | 3/20 [00:03<00:18,  1.09s/it]\u001B[A\n",
      " 20%|██        | 4/20 [00:04<00:17,  1.12s/it]\u001B[A\n",
      " 25%|██▌       | 5/20 [00:05<00:17,  1.14s/it]\u001B[A\n",
      " 30%|███       | 6/20 [00:06<00:16,  1.15s/it]\u001B[A\n",
      " 35%|███▌      | 7/20 [00:07<00:15,  1.16s/it]\u001B[A\n",
      " 40%|████      | 8/20 [00:09<00:13,  1.16s/it]\u001B[A\n",
      " 45%|████▌     | 9/20 [00:10<00:12,  1.16s/it]\u001B[A\n",
      " 50%|█████     | 10/20 [00:11<00:11,  1.16s/it]\u001B[A\n",
      " 55%|█████▌    | 11/20 [00:12<00:10,  1.16s/it]\u001B[A\n",
      " 60%|██████    | 12/20 [00:13<00:09,  1.17s/it]\u001B[A\n",
      " 65%|██████▌   | 13/20 [00:14<00:08,  1.17s/it]\u001B[A\n",
      " 70%|███████   | 14/20 [00:16<00:06,  1.17s/it]\u001B[A\n",
      " 75%|███████▌  | 15/20 [00:17<00:05,  1.17s/it]\u001B[A\n",
      " 80%|████████  | 16/20 [00:18<00:04,  1.17s/it]\u001B[A\n",
      " 85%|████████▌ | 17/20 [00:19<00:03,  1.17s/it]\u001B[A\n",
      " 90%|█████████ | 18/20 [00:20<00:02,  1.17s/it]\u001B[A\n",
      " 95%|█████████▌| 19/20 [00:21<00:01,  1.17s/it]\u001B[A\n",
      "100%|██████████| 20/20 [00:23<00:00,  1.15s/it]\u001B[A\n",
      "\n",
      "  0%|          | 0/20 [00:00<?, ?it/s]\u001B[A\n",
      "  5%|▌         | 1/20 [00:00<00:15,  1.26it/s]\u001B[A\n",
      " 10%|█         | 2/20 [00:01<00:18,  1.01s/it]\u001B[A\n",
      " 15%|█▌        | 3/20 [00:03<00:18,  1.08s/it]\u001B[A\n",
      " 20%|██        | 4/20 [00:04<00:17,  1.12s/it]\u001B[A\n",
      " 25%|██▌       | 5/20 [00:05<00:17,  1.13s/it]\u001B[A\n",
      " 30%|███       | 6/20 [00:06<00:16,  1.14s/it]\u001B[A\n",
      " 35%|███▌      | 7/20 [00:07<00:14,  1.15s/it]\u001B[A\n",
      " 40%|████      | 8/20 [00:08<00:13,  1.16s/it]\u001B[A\n",
      " 45%|████▌     | 9/20 [00:10<00:12,  1.16s/it]\u001B[A\n",
      " 50%|█████     | 10/20 [00:11<00:11,  1.16s/it]\u001B[A\n",
      " 55%|█████▌    | 11/20 [00:12<00:10,  1.16s/it]\u001B[A\n",
      " 60%|██████    | 12/20 [00:13<00:09,  1.16s/it]\u001B[A\n",
      " 65%|██████▌   | 13/20 [00:14<00:08,  1.16s/it]\u001B[A\n",
      " 70%|███████   | 14/20 [00:15<00:06,  1.16s/it]\u001B[A\n",
      " 75%|███████▌  | 15/20 [00:17<00:05,  1.17s/it]\u001B[A\n",
      " 80%|████████  | 16/20 [00:18<00:04,  1.17s/it]\u001B[A\n",
      " 85%|████████▌ | 17/20 [00:19<00:03,  1.17s/it]\u001B[A\n",
      " 90%|█████████ | 18/20 [00:20<00:02,  1.17s/it]\u001B[A\n",
      " 95%|█████████▌| 19/20 [00:21<00:01,  1.17s/it]\u001B[A\n",
      "100%|██████████| 20/20 [00:22<00:00,  1.15s/it]\u001B[A\n",
      "\n",
      "  0%|          | 0/20 [00:00<?, ?it/s]\u001B[A\n",
      " 19%|█▉        | 17/88 [48:47<3:50:51, 195.09s/it]"
     ]
    },
    {
     "name": "stdout",
     "output_type": "stream",
     "text": [
      "====================nh1 - 60====================\n"
     ]
    },
    {
     "name": "stderr",
     "output_type": "stream",
     "text": [
      "\n",
      "  0%|          | 0/20 [00:00<?, ?it/s]\u001B[A\n",
      "  5%|▌         | 1/20 [00:00<00:15,  1.21it/s]\u001B[A\n",
      " 10%|█         | 2/20 [00:01<00:18,  1.02s/it]\u001B[A\n",
      " 15%|█▌        | 3/20 [00:03<00:18,  1.09s/it]\u001B[A\n",
      " 20%|██        | 4/20 [00:04<00:17,  1.12s/it]\u001B[A\n",
      " 25%|██▌       | 5/20 [00:05<00:17,  1.13s/it]\u001B[A\n",
      " 30%|███       | 6/20 [00:06<00:16,  1.14s/it]\u001B[A\n",
      " 35%|███▌      | 7/20 [00:07<00:14,  1.15s/it]\u001B[A\n",
      " 40%|████      | 8/20 [00:08<00:13,  1.15s/it]\u001B[A\n",
      " 45%|████▌     | 9/20 [00:10<00:12,  1.16s/it]\u001B[A\n",
      " 50%|█████     | 10/20 [00:11<00:11,  1.16s/it]\u001B[A\n",
      " 55%|█████▌    | 11/20 [00:12<00:10,  1.16s/it]\u001B[A\n",
      " 60%|██████    | 12/20 [00:13<00:09,  1.16s/it]\u001B[A\n",
      " 65%|██████▌   | 13/20 [00:14<00:08,  1.16s/it]\u001B[A\n",
      " 70%|███████   | 14/20 [00:15<00:06,  1.16s/it]\u001B[A\n",
      " 75%|███████▌  | 15/20 [00:17<00:05,  1.16s/it]\u001B[A\n",
      " 80%|████████  | 16/20 [00:18<00:04,  1.16s/it]\u001B[A\n",
      " 85%|████████▌ | 17/20 [00:19<00:03,  1.16s/it]\u001B[A\n",
      " 90%|█████████ | 18/20 [00:20<00:02,  1.16s/it]\u001B[A\n",
      " 95%|█████████▌| 19/20 [00:21<00:01,  1.16s/it]\u001B[A\n",
      "100%|██████████| 20/20 [00:22<00:00,  1.15s/it]\u001B[A\n",
      "\n",
      "  0%|          | 0/20 [00:00<?, ?it/s]\u001B[A\n",
      "  5%|▌         | 1/20 [00:00<00:14,  1.27it/s]\u001B[A\n",
      " 10%|█         | 2/20 [00:01<00:18,  1.01s/it]\u001B[A\n",
      " 15%|█▌        | 3/20 [00:03<00:18,  1.08s/it]\u001B[A\n",
      " 20%|██        | 4/20 [00:04<00:17,  1.11s/it]\u001B[A\n",
      " 25%|██▌       | 5/20 [00:05<00:16,  1.13s/it]\u001B[A\n",
      " 30%|███       | 6/20 [00:06<00:15,  1.14s/it]\u001B[A\n",
      " 35%|███▌      | 7/20 [00:07<00:14,  1.15s/it]\u001B[A\n",
      " 40%|████      | 8/20 [00:08<00:13,  1.15s/it]\u001B[A\n",
      " 45%|████▌     | 9/20 [00:10<00:12,  1.16s/it]\u001B[A\n",
      " 50%|█████     | 10/20 [00:11<00:11,  1.16s/it]\u001B[A\n",
      " 55%|█████▌    | 11/20 [00:12<00:10,  1.16s/it]\u001B[A\n",
      " 60%|██████    | 12/20 [00:13<00:09,  1.16s/it]\u001B[A\n",
      " 65%|██████▌   | 13/20 [00:14<00:08,  1.16s/it]\u001B[A\n",
      " 70%|███████   | 14/20 [00:15<00:06,  1.16s/it]\u001B[A\n",
      " 75%|███████▌  | 15/20 [00:17<00:05,  1.16s/it]\u001B[A\n",
      " 80%|████████  | 16/20 [00:18<00:04,  1.16s/it]\u001B[A\n",
      " 85%|████████▌ | 17/20 [00:19<00:03,  1.16s/it]\u001B[A\n",
      " 90%|█████████ | 18/20 [00:20<00:02,  1.16s/it]\u001B[A\n",
      " 95%|█████████▌| 19/20 [00:21<00:01,  1.16s/it]\u001B[A\n",
      "100%|██████████| 20/20 [00:22<00:00,  1.14s/it]\u001B[A\n",
      "\n",
      "  0%|          | 0/20 [00:00<?, ?it/s]\u001B[A\n",
      " 20%|██        | 18/88 [52:03<3:47:54, 195.35s/it]"
     ]
    },
    {
     "name": "stdout",
     "output_type": "stream",
     "text": [
      "====================nh1 - 80====================\n"
     ]
    },
    {
     "name": "stderr",
     "output_type": "stream",
     "text": [
      "\n",
      "  0%|          | 0/20 [00:00<?, ?it/s]\u001B[A\n",
      "  5%|▌         | 1/20 [00:00<00:15,  1.21it/s]\u001B[A\n",
      " 10%|█         | 2/20 [00:01<00:18,  1.02s/it]\u001B[A\n",
      " 15%|█▌        | 3/20 [00:03<00:18,  1.09s/it]\u001B[A\n",
      " 20%|██        | 4/20 [00:04<00:17,  1.12s/it]\u001B[A\n",
      " 25%|██▌       | 5/20 [00:05<00:16,  1.13s/it]\u001B[A\n",
      " 30%|███       | 6/20 [00:06<00:15,  1.14s/it]\u001B[A\n",
      " 35%|███▌      | 7/20 [00:07<00:14,  1.15s/it]\u001B[A\n",
      " 40%|████      | 8/20 [00:08<00:13,  1.15s/it]\u001B[A\n",
      " 45%|████▌     | 9/20 [00:10<00:12,  1.15s/it]\u001B[A\n",
      " 50%|█████     | 10/20 [00:11<00:11,  1.16s/it]\u001B[A\n",
      " 55%|█████▌    | 11/20 [00:12<00:10,  1.16s/it]\u001B[A\n",
      " 60%|██████    | 12/20 [00:13<00:09,  1.16s/it]\u001B[A\n",
      " 65%|██████▌   | 13/20 [00:14<00:08,  1.16s/it]\u001B[A\n",
      " 70%|███████   | 14/20 [00:15<00:06,  1.16s/it]\u001B[A\n",
      " 75%|███████▌  | 15/20 [00:17<00:05,  1.16s/it]\u001B[A\n",
      " 80%|████████  | 16/20 [00:18<00:04,  1.16s/it]\u001B[A\n",
      " 85%|████████▌ | 17/20 [00:19<00:03,  1.16s/it]\u001B[A\n",
      " 90%|█████████ | 18/20 [00:20<00:02,  1.16s/it]\u001B[A\n",
      " 95%|█████████▌| 19/20 [00:21<00:01,  1.16s/it]\u001B[A\n",
      "100%|██████████| 20/20 [00:22<00:00,  1.14s/it]\u001B[A\n",
      "\n",
      "  0%|          | 0/20 [00:00<?, ?it/s]\u001B[A\n",
      "  5%|▌         | 1/20 [00:00<00:15,  1.26it/s]\u001B[A\n",
      " 10%|█         | 2/20 [00:01<00:18,  1.01s/it]\u001B[A\n",
      " 15%|█▌        | 3/20 [00:03<00:18,  1.08s/it]\u001B[A\n",
      " 20%|██        | 4/20 [00:04<00:17,  1.11s/it]\u001B[A\n",
      " 25%|██▌       | 5/20 [00:05<00:16,  1.13s/it]\u001B[A\n",
      " 30%|███       | 6/20 [00:06<00:15,  1.14s/it]\u001B[A\n",
      " 35%|███▌      | 7/20 [00:07<00:14,  1.15s/it]\u001B[A\n",
      " 40%|████      | 8/20 [00:08<00:13,  1.15s/it]\u001B[A\n",
      " 45%|████▌     | 9/20 [00:10<00:12,  1.15s/it]\u001B[A\n",
      " 50%|█████     | 10/20 [00:11<00:11,  1.16s/it]\u001B[A\n",
      " 55%|█████▌    | 11/20 [00:12<00:10,  1.16s/it]\u001B[A\n",
      " 60%|██████    | 12/20 [00:13<00:09,  1.16s/it]\u001B[A\n",
      " 65%|██████▌   | 13/20 [00:14<00:08,  1.16s/it]\u001B[A\n",
      " 70%|███████   | 14/20 [00:15<00:06,  1.16s/it]\u001B[A\n",
      " 75%|███████▌  | 15/20 [00:17<00:05,  1.16s/it]\u001B[A\n",
      " 80%|████████  | 16/20 [00:18<00:04,  1.16s/it]\u001B[A\n",
      " 85%|████████▌ | 17/20 [00:19<00:03,  1.16s/it]\u001B[A\n",
      " 90%|█████████ | 18/20 [00:20<00:02,  1.16s/it]\u001B[A\n",
      " 95%|█████████▌| 19/20 [00:21<00:01,  1.16s/it]\u001B[A\n",
      "100%|██████████| 20/20 [00:22<00:00,  1.14s/it]\u001B[A\n",
      "\n",
      "  0%|          | 0/20 [00:00<?, ?it/s]\u001B[A\n",
      " 22%|██▏       | 19/88 [55:27<3:47:51, 198.14s/it]"
     ]
    },
    {
     "name": "stdout",
     "output_type": "stream",
     "text": [
      "====================nh1 - 100====================\n"
     ]
    },
    {
     "name": "stderr",
     "output_type": "stream",
     "text": [
      "\n",
      "  0%|          | 0/20 [00:00<?, ?it/s]\u001B[A\n",
      "  5%|▌         | 1/20 [00:00<00:15,  1.19it/s]\u001B[A\n",
      " 10%|█         | 2/20 [00:02<00:18,  1.03s/it]\u001B[A\n",
      " 15%|█▌        | 3/20 [00:03<00:18,  1.09s/it]\u001B[A\n",
      " 20%|██        | 4/20 [00:04<00:17,  1.12s/it]\u001B[A\n",
      " 25%|██▌       | 5/20 [00:05<00:17,  1.14s/it]\u001B[A\n",
      " 30%|███       | 6/20 [00:06<00:16,  1.15s/it]\u001B[A\n",
      " 35%|███▌      | 7/20 [00:07<00:15,  1.16s/it]\u001B[A\n",
      " 40%|████      | 8/20 [00:09<00:13,  1.16s/it]\u001B[A\n",
      " 45%|████▌     | 9/20 [00:10<00:12,  1.16s/it]\u001B[A\n",
      " 50%|█████     | 10/20 [00:11<00:11,  1.16s/it]\u001B[A\n",
      " 55%|█████▌    | 11/20 [00:12<00:10,  1.16s/it]\u001B[A\n",
      " 60%|██████    | 12/20 [00:13<00:09,  1.17s/it]\u001B[A\n",
      " 65%|██████▌   | 13/20 [00:14<00:08,  1.17s/it]\u001B[A\n",
      " 70%|███████   | 14/20 [00:16<00:07,  1.17s/it]\u001B[A\n",
      " 75%|███████▌  | 15/20 [00:17<00:05,  1.17s/it]\u001B[A\n",
      " 80%|████████  | 16/20 [00:18<00:04,  1.17s/it]\u001B[A\n",
      " 85%|████████▌ | 17/20 [00:19<00:03,  1.17s/it]\u001B[A\n",
      " 90%|█████████ | 18/20 [00:20<00:02,  1.17s/it]\u001B[A\n",
      " 95%|█████████▌| 19/20 [00:21<00:01,  1.20s/it]\u001B[A\n",
      "100%|██████████| 20/20 [00:23<00:00,  1.16s/it]\u001B[A\n",
      "\n",
      "  0%|          | 0/20 [00:00<?, ?it/s]\u001B[A\n",
      "  5%|▌         | 1/20 [00:00<00:15,  1.25it/s]\u001B[A\n",
      " 10%|█         | 2/20 [00:01<00:18,  1.02s/it]\u001B[A\n",
      " 15%|█▌        | 3/20 [00:03<00:18,  1.09s/it]\u001B[A\n",
      " 20%|██        | 4/20 [00:04<00:17,  1.12s/it]\u001B[A\n",
      " 25%|██▌       | 5/20 [00:05<00:17,  1.14s/it]\u001B[A\n",
      " 30%|███       | 6/20 [00:06<00:16,  1.15s/it]\u001B[A\n",
      " 35%|███▌      | 7/20 [00:07<00:14,  1.15s/it]\u001B[A\n",
      " 40%|████      | 8/20 [00:08<00:13,  1.16s/it]\u001B[A\n",
      " 45%|████▌     | 9/20 [00:10<00:12,  1.16s/it]\u001B[A\n",
      " 50%|█████     | 10/20 [00:11<00:11,  1.16s/it]\u001B[A\n",
      " 55%|█████▌    | 11/20 [00:12<00:10,  1.16s/it]\u001B[A\n",
      " 60%|██████    | 12/20 [00:13<00:09,  1.17s/it]\u001B[A\n",
      " 65%|██████▌   | 13/20 [00:14<00:08,  1.17s/it]\u001B[A\n",
      " 70%|███████   | 14/20 [00:15<00:06,  1.17s/it]\u001B[A\n",
      " 75%|███████▌  | 15/20 [00:17<00:05,  1.17s/it]\u001B[A\n",
      " 80%|████████  | 16/20 [00:18<00:04,  1.17s/it]\u001B[A\n",
      " 85%|████████▌ | 17/20 [00:19<00:03,  1.17s/it]\u001B[A\n",
      " 90%|█████████ | 18/20 [00:20<00:02,  1.17s/it]\u001B[A\n",
      " 95%|█████████▌| 19/20 [00:21<00:01,  1.17s/it]\u001B[A\n",
      "100%|██████████| 20/20 [00:22<00:00,  1.15s/it]\u001B[A\n",
      "\n",
      "  0%|          | 0/20 [00:00<?, ?it/s]\u001B[A\n",
      " 23%|██▎       | 20/88 [58:45<3:44:29, 198.08s/it]"
     ]
    },
    {
     "name": "stdout",
     "output_type": "stream",
     "text": [
      "====================nh1 - 150====================\n"
     ]
    },
    {
     "name": "stderr",
     "output_type": "stream",
     "text": [
      "\n",
      "  0%|          | 0/20 [00:00<?, ?it/s]\u001B[A\n",
      "  5%|▌         | 1/20 [00:00<00:16,  1.19it/s]\u001B[A\n",
      " 10%|█         | 2/20 [00:02<00:18,  1.04s/it]\u001B[A\n",
      " 15%|█▌        | 3/20 [00:03<00:18,  1.10s/it]\u001B[A\n",
      " 20%|██        | 4/20 [00:04<00:18,  1.13s/it]\u001B[A\n",
      " 25%|██▌       | 5/20 [00:05<00:17,  1.14s/it]\u001B[A\n",
      " 30%|███       | 6/20 [00:06<00:16,  1.15s/it]\u001B[A\n",
      " 35%|███▌      | 7/20 [00:07<00:15,  1.16s/it]\u001B[A\n",
      " 40%|████      | 8/20 [00:09<00:13,  1.17s/it]\u001B[A\n",
      " 45%|████▌     | 9/20 [00:10<00:12,  1.17s/it]\u001B[A\n",
      " 50%|█████     | 10/20 [00:11<00:11,  1.17s/it]\u001B[A\n",
      " 55%|█████▌    | 11/20 [00:12<00:10,  1.17s/it]\u001B[A\n",
      " 60%|██████    | 12/20 [00:13<00:09,  1.17s/it]\u001B[A\n",
      " 65%|██████▌   | 13/20 [00:14<00:08,  1.17s/it]\u001B[A\n",
      " 70%|███████   | 14/20 [00:16<00:07,  1.17s/it]\u001B[A\n",
      " 75%|███████▌  | 15/20 [00:17<00:05,  1.17s/it]\u001B[A\n",
      " 80%|████████  | 16/20 [00:18<00:04,  1.17s/it]\u001B[A\n",
      " 85%|████████▌ | 17/20 [00:19<00:03,  1.17s/it]\u001B[A\n",
      " 90%|█████████ | 18/20 [00:20<00:02,  1.17s/it]\u001B[A\n",
      " 95%|█████████▌| 19/20 [00:21<00:01,  1.17s/it]\u001B[A\n",
      "100%|██████████| 20/20 [00:23<00:00,  1.16s/it]\u001B[A\n",
      "\n",
      "  0%|          | 0/20 [00:00<?, ?it/s]\u001B[A\n",
      "  5%|▌         | 1/20 [00:00<00:15,  1.24it/s]\u001B[A\n",
      " 10%|█         | 2/20 [00:01<00:18,  1.02s/it]\u001B[A\n",
      " 15%|█▌        | 3/20 [00:03<00:18,  1.09s/it]\u001B[A\n",
      " 20%|██        | 4/20 [00:04<00:17,  1.12s/it]\u001B[A\n",
      " 25%|██▌       | 5/20 [00:05<00:17,  1.14s/it]\u001B[A\n",
      " 30%|███       | 6/20 [00:06<00:16,  1.15s/it]\u001B[A\n",
      " 35%|███▌      | 7/20 [00:07<00:15,  1.16s/it]\u001B[A\n",
      " 40%|████      | 8/20 [00:09<00:14,  1.17s/it]\u001B[A\n",
      " 45%|████▌     | 9/20 [00:10<00:12,  1.17s/it]\u001B[A\n",
      " 50%|█████     | 10/20 [00:11<00:11,  1.17s/it]\u001B[A\n",
      " 55%|█████▌    | 11/20 [00:12<00:10,  1.17s/it]\u001B[A\n",
      " 60%|██████    | 12/20 [00:13<00:09,  1.17s/it]\u001B[A\n",
      " 65%|██████▌   | 13/20 [00:14<00:08,  1.17s/it]\u001B[A\n",
      " 70%|███████   | 14/20 [00:16<00:07,  1.17s/it]\u001B[A\n",
      " 75%|███████▌  | 15/20 [00:17<00:05,  1.17s/it]\u001B[A\n",
      " 80%|████████  | 16/20 [00:18<00:04,  1.17s/it]\u001B[A\n",
      " 85%|████████▌ | 17/20 [00:19<00:03,  1.17s/it]\u001B[A\n",
      " 90%|█████████ | 18/20 [00:20<00:02,  1.17s/it]\u001B[A\n",
      " 95%|█████████▌| 19/20 [00:21<00:01,  1.17s/it]\u001B[A\n",
      "100%|██████████| 20/20 [00:23<00:00,  1.16s/it]\u001B[A\n",
      "\n",
      "  0%|          | 0/20 [00:00<?, ?it/s]\u001B[A\n",
      " 24%|██▍       | 21/88 [1:01:58<3:39:27, 196.53s/it]"
     ]
    },
    {
     "name": "stdout",
     "output_type": "stream",
     "text": [
      "====================nh1 - 200====================\n"
     ]
    },
    {
     "name": "stderr",
     "output_type": "stream",
     "text": [
      "\n",
      "  0%|          | 0/20 [00:00<?, ?it/s]\u001B[A\n",
      "  5%|▌         | 1/20 [00:00<00:16,  1.18it/s]\u001B[A\n",
      " 10%|█         | 2/20 [00:02<00:18,  1.03s/it]\u001B[A\n",
      " 15%|█▌        | 3/20 [00:03<00:18,  1.09s/it]\u001B[A\n",
      " 20%|██        | 4/20 [00:04<00:17,  1.12s/it]\u001B[A\n",
      " 25%|██▌       | 5/20 [00:05<00:16,  1.13s/it]\u001B[A\n",
      " 30%|███       | 6/20 [00:06<00:15,  1.14s/it]\u001B[A\n",
      " 35%|███▌      | 7/20 [00:07<00:14,  1.15s/it]\u001B[A\n",
      " 40%|████      | 8/20 [00:08<00:13,  1.15s/it]\u001B[A\n",
      " 45%|████▌     | 9/20 [00:10<00:12,  1.15s/it]\u001B[A\n",
      " 50%|█████     | 10/20 [00:11<00:11,  1.16s/it]\u001B[A\n",
      " 55%|█████▌    | 11/20 [00:12<00:10,  1.16s/it]\u001B[A\n",
      " 60%|██████    | 12/20 [00:13<00:09,  1.16s/it]\u001B[A\n",
      " 65%|██████▌   | 13/20 [00:14<00:08,  1.16s/it]\u001B[A\n",
      " 70%|███████   | 14/20 [00:15<00:06,  1.16s/it]\u001B[A\n",
      " 75%|███████▌  | 15/20 [00:17<00:05,  1.16s/it]\u001B[A\n",
      " 80%|████████  | 16/20 [00:18<00:04,  1.16s/it]\u001B[A\n",
      " 85%|████████▌ | 17/20 [00:19<00:03,  1.16s/it]\u001B[A\n",
      " 90%|█████████ | 18/20 [00:20<00:02,  1.16s/it]\u001B[A\n",
      " 95%|█████████▌| 19/20 [00:21<00:01,  1.16s/it]\u001B[A\n",
      "100%|██████████| 20/20 [00:22<00:00,  1.14s/it]\u001B[A\n",
      "\n",
      "  0%|          | 0/20 [00:00<?, ?it/s]\u001B[A\n",
      "  5%|▌         | 1/20 [00:00<00:15,  1.24it/s]\u001B[A\n",
      " 10%|█         | 2/20 [00:01<00:18,  1.02s/it]\u001B[A\n",
      " 15%|█▌        | 3/20 [00:03<00:18,  1.08s/it]\u001B[A\n",
      " 20%|██        | 4/20 [00:04<00:17,  1.11s/it]\u001B[A\n",
      " 25%|██▌       | 5/20 [00:05<00:16,  1.13s/it]\u001B[A\n",
      " 30%|███       | 6/20 [00:06<00:15,  1.14s/it]\u001B[A\n",
      " 35%|███▌      | 7/20 [00:07<00:14,  1.15s/it]\u001B[A\n",
      " 40%|████      | 8/20 [00:08<00:13,  1.15s/it]\u001B[A\n",
      " 45%|████▌     | 9/20 [00:10<00:12,  1.15s/it]\u001B[A\n",
      " 50%|█████     | 10/20 [00:11<00:11,  1.16s/it]\u001B[A\n",
      " 55%|█████▌    | 11/20 [00:12<00:10,  1.16s/it]\u001B[A\n",
      " 60%|██████    | 12/20 [00:13<00:09,  1.16s/it]\u001B[A\n",
      " 65%|██████▌   | 13/20 [00:14<00:08,  1.16s/it]\u001B[A\n",
      " 70%|███████   | 14/20 [00:15<00:06,  1.16s/it]\u001B[A\n",
      " 75%|███████▌  | 15/20 [00:17<00:05,  1.16s/it]\u001B[A\n",
      " 80%|████████  | 16/20 [00:18<00:04,  1.16s/it]\u001B[A\n",
      " 85%|████████▌ | 17/20 [00:19<00:03,  1.16s/it]\u001B[A\n",
      " 90%|█████████ | 18/20 [00:20<00:02,  1.16s/it]\u001B[A\n",
      " 95%|█████████▌| 19/20 [00:21<00:01,  1.16s/it]\u001B[A\n",
      "100%|██████████| 20/20 [00:22<00:00,  1.14s/it]\u001B[A\n",
      "\n",
      "  0%|          | 0/20 [00:00<?, ?it/s]\u001B[A\n",
      " 25%|██▌       | 22/88 [1:05:11<3:35:00, 195.46s/it]"
     ]
    },
    {
     "name": "stdout",
     "output_type": "stream",
     "text": [
      "====================nh2 - 1====================\n"
     ]
    },
    {
     "name": "stderr",
     "output_type": "stream",
     "text": [
      "\n",
      "  0%|          | 0/30 [00:00<?, ?it/s]\u001B[A\n",
      "  3%|▎         | 1/30 [00:00<00:23,  1.21it/s]\u001B[A\n",
      "  7%|▋         | 2/30 [00:02<00:28,  1.03s/it]\u001B[A\n",
      " 10%|█         | 3/30 [00:03<00:29,  1.10s/it]\u001B[A\n",
      " 13%|█▎        | 4/30 [00:04<00:29,  1.13s/it]\u001B[A\n",
      " 17%|█▋        | 5/30 [00:05<00:28,  1.14s/it]\u001B[A\n",
      " 20%|██        | 6/30 [00:06<00:27,  1.15s/it]\u001B[A\n",
      " 23%|██▎       | 7/30 [00:07<00:26,  1.16s/it]\u001B[A\n",
      " 27%|██▋       | 8/30 [00:09<00:25,  1.16s/it]\u001B[A\n",
      " 30%|███       | 9/30 [00:10<00:24,  1.17s/it]\u001B[A\n",
      " 33%|███▎      | 10/30 [00:11<00:23,  1.17s/it]\u001B[A\n",
      " 37%|███▋      | 11/30 [00:12<00:22,  1.17s/it]\u001B[A\n",
      " 40%|████      | 12/30 [00:13<00:21,  1.17s/it]\u001B[A\n",
      " 43%|████▎     | 13/30 [00:14<00:19,  1.17s/it]\u001B[A\n",
      " 47%|████▋     | 14/30 [00:16<00:18,  1.17s/it]\u001B[A\n",
      " 50%|█████     | 15/30 [00:17<00:17,  1.17s/it]\u001B[A\n",
      " 53%|█████▎    | 16/30 [00:18<00:16,  1.17s/it]\u001B[A\n",
      " 57%|█████▋    | 17/30 [00:19<00:15,  1.17s/it]\u001B[A\n",
      " 60%|██████    | 18/30 [00:20<00:14,  1.17s/it]\u001B[A\n",
      " 63%|██████▎   | 19/30 [00:21<00:12,  1.17s/it]\u001B[A\n",
      " 67%|██████▋   | 20/30 [00:23<00:11,  1.17s/it]\u001B[A\n",
      " 70%|███████   | 21/30 [00:24<00:10,  1.17s/it]\u001B[A\n",
      " 73%|███████▎  | 22/30 [00:25<00:09,  1.17s/it]\u001B[A\n",
      " 77%|███████▋  | 23/30 [00:26<00:08,  1.17s/it]\u001B[A\n",
      " 80%|████████  | 24/30 [00:27<00:07,  1.17s/it]\u001B[A\n",
      " 83%|████████▎ | 25/30 [00:29<00:05,  1.17s/it]\u001B[A\n",
      " 87%|████████▋ | 26/30 [00:30<00:04,  1.17s/it]\u001B[A\n",
      " 90%|█████████ | 27/30 [00:31<00:03,  1.17s/it]\u001B[A\n",
      " 93%|█████████▎| 28/30 [00:32<00:02,  1.17s/it]\u001B[A\n",
      " 97%|█████████▋| 29/30 [00:33<00:01,  1.17s/it]\u001B[A\n",
      "100%|██████████| 30/30 [00:34<00:00,  1.16s/it]\u001B[A\n",
      "\n",
      "  0%|          | 0/30 [00:00<?, ?it/s]\u001B[A\n",
      "  3%|▎         | 1/30 [00:00<00:22,  1.27it/s]\u001B[A\n",
      "  7%|▋         | 2/30 [00:01<00:28,  1.01s/it]\u001B[A\n",
      " 10%|█         | 3/30 [00:03<00:29,  1.09s/it]\u001B[A\n",
      " 13%|█▎        | 4/30 [00:04<00:29,  1.13s/it]\u001B[A\n",
      " 17%|█▋        | 5/30 [00:05<00:28,  1.15s/it]\u001B[A\n",
      " 20%|██        | 6/30 [00:06<00:27,  1.16s/it]\u001B[A\n",
      " 23%|██▎       | 7/30 [00:07<00:26,  1.16s/it]\u001B[A\n",
      " 27%|██▋       | 8/30 [00:09<00:25,  1.17s/it]\u001B[A\n",
      " 30%|███       | 9/30 [00:10<00:24,  1.17s/it]\u001B[A\n",
      " 33%|███▎      | 10/30 [00:11<00:23,  1.17s/it]\u001B[A\n",
      " 37%|███▋      | 11/30 [00:12<00:22,  1.17s/it]\u001B[A\n",
      " 40%|████      | 12/30 [00:13<00:21,  1.17s/it]\u001B[A\n",
      " 43%|████▎     | 13/30 [00:14<00:19,  1.17s/it]\u001B[A\n",
      " 47%|████▋     | 14/30 [00:16<00:18,  1.17s/it]\u001B[A\n",
      " 50%|█████     | 15/30 [00:17<00:17,  1.17s/it]\u001B[A\n",
      " 53%|█████▎    | 16/30 [00:18<00:16,  1.17s/it]\u001B[A\n",
      " 57%|█████▋    | 17/30 [00:19<00:15,  1.17s/it]\u001B[A\n",
      " 60%|██████    | 18/30 [00:20<00:14,  1.17s/it]\u001B[A\n",
      " 63%|██████▎   | 19/30 [00:21<00:12,  1.17s/it]\u001B[A\n",
      " 67%|██████▋   | 20/30 [00:23<00:11,  1.17s/it]\u001B[A\n",
      " 70%|███████   | 21/30 [00:24<00:10,  1.17s/it]\u001B[A\n",
      " 73%|███████▎  | 22/30 [00:25<00:09,  1.17s/it]\u001B[A\n",
      " 77%|███████▋  | 23/30 [00:26<00:08,  1.17s/it]\u001B[A\n",
      " 80%|████████  | 24/30 [00:27<00:07,  1.17s/it]\u001B[A\n",
      " 83%|████████▎ | 25/30 [00:28<00:05,  1.17s/it]\u001B[A\n",
      " 87%|████████▋ | 26/30 [00:30<00:04,  1.17s/it]\u001B[A\n",
      " 90%|█████████ | 27/30 [00:31<00:03,  1.17s/it]\u001B[A\n",
      " 93%|█████████▎| 28/30 [00:32<00:02,  1.17s/it]\u001B[A\n",
      " 97%|█████████▋| 29/30 [00:33<00:01,  1.17s/it]\u001B[A\n",
      "100%|██████████| 30/30 [00:34<00:00,  1.16s/it]\u001B[A\n",
      "\n",
      "100%|██████████| 30/30 [00:00<00:00, 32887.90it/s]\n",
      "\n",
      "100%|██████████| 30/30 [00:00<00:00, 256271.12it/s]\n",
      " 26%|██▌       | 23/88 [1:08:51<3:39:37, 202.73s/it]"
     ]
    },
    {
     "name": "stdout",
     "output_type": "stream",
     "text": [
      "====================nh2 - 5====================\n"
     ]
    },
    {
     "name": "stderr",
     "output_type": "stream",
     "text": [
      " 26%|██▌       | 23/88 [1:09:05<3:15:14, 180.22s/it]\n"
     ]
    },
    {
     "ename": "KeyboardInterrupt",
     "evalue": "",
     "output_type": "error",
     "traceback": [
      "\u001B[0;31m---------------------------------------------------------------------------\u001B[0m",
      "\u001B[0;31mKeyboardInterrupt\u001B[0m                         Traceback (most recent call last)",
      "Cell \u001B[0;32mIn[9], line 19\u001B[0m\n\u001B[1;32m     17\u001B[0m \u001B[38;5;28;01mif\u001B[39;00m \u001B[38;5;28mstr\u001B[39m(log_count) \u001B[38;5;129;01mnot\u001B[39;00m \u001B[38;5;129;01min\u001B[39;00m results[nh]\u001B[38;5;241m.\u001B[39mkeys():\n\u001B[1;32m     18\u001B[0m     count \u001B[38;5;241m+\u001B[39m\u001B[38;5;241m=\u001B[39m \u001B[38;5;241m1\u001B[39m\n\u001B[0;32m---> 19\u001B[0m     results[nh][\u001B[38;5;28mstr\u001B[39m(log_count)] \u001B[38;5;241m=\u001B[39m \u001B[43mrun_partially_homomorphic_encryption_scheme_simulation\u001B[49m\u001B[43m(\u001B[49m\u001B[43mnh\u001B[49m\u001B[43m,\u001B[49m\u001B[43m \u001B[49m\u001B[43mlog_count\u001B[49m\u001B[43m)\u001B[49m\n\u001B[1;32m     20\u001B[0m     \u001B[38;5;28;01mwith\u001B[39;00m \u001B[38;5;28mopen\u001B[39m(results_file, \u001B[38;5;124m'\u001B[39m\u001B[38;5;124mw\u001B[39m\u001B[38;5;124m'\u001B[39m) \u001B[38;5;28;01mas\u001B[39;00m f:\n\u001B[1;32m     21\u001B[0m         json\u001B[38;5;241m.\u001B[39mdump(results, f)\n",
      "Cell \u001B[0;32mIn[8], line 5\u001B[0m, in \u001B[0;36mrun_partially_homomorphic_encryption_scheme_simulation\u001B[0;34m(neighborhood, speed_log_count, traffic_update_interval_in_seconds)\u001B[0m\n\u001B[1;32m      3\u001B[0m \u001B[38;5;28;01mdef\u001B[39;00m \u001B[38;5;21mrun_partially_homomorphic_encryption_scheme_simulation\u001B[39m(neighborhood, speed_log_count, traffic_update_interval_in_seconds\u001B[38;5;241m=\u001B[39mspeed_log_count\u001B[38;5;241m/\u001B[39m\u001B[38;5;241m1.5\u001B[39m):\n\u001B[1;32m      4\u001B[0m     sim \u001B[38;5;241m=\u001B[39m PartialHomomorphyScheme\u001B[38;5;241m.\u001B[39mSimulation(neighborhood, quiet\u001B[38;5;241m=\u001B[39m\u001B[38;5;28;01mTrue\u001B[39;00m, random_speed_log_count\u001B[38;5;241m=\u001B[39mspeed_log_count,sleep_time\u001B[38;5;241m=\u001B[39m\u001B[38;5;241m0.2\u001B[39m, traffic_update_interval_in_seconds\u001B[38;5;241m=\u001B[39mtraffic_update_interval_in_seconds)\n\u001B[0;32m----> 5\u001B[0m     \u001B[43msim\u001B[49m\u001B[38;5;241;43m.\u001B[39;49m\u001B[43mrun\u001B[49m\u001B[43m(\u001B[49m\u001B[43m)\u001B[49m\n\u001B[1;32m      6\u001B[0m     data \u001B[38;5;241m=\u001B[39m sim\u001B[38;5;241m.\u001B[39mget_simulation_data()\n\u001B[1;32m      7\u001B[0m     sim\u001B[38;5;241m.\u001B[39mend_run()\n",
      "File \u001B[0;32m~/PycharmProjects/VanetBlockchain/PartialHomomorphyScheme/Simulation.py:165\u001B[0m, in \u001B[0;36mSimulation.run\u001B[0;34m(self)\u001B[0m\n\u001B[1;32m    163\u001B[0m \u001B[38;5;28;01mdef\u001B[39;00m \u001B[38;5;21mrun\u001B[39m(\u001B[38;5;28mself\u001B[39m):\n\u001B[1;32m    164\u001B[0m     \u001B[38;5;28mself\u001B[39m\u001B[38;5;241m.\u001B[39mrunServers()\n\u001B[0;32m--> 165\u001B[0m     \u001B[38;5;28;43mself\u001B[39;49m\u001B[38;5;241;43m.\u001B[39;49m\u001B[43msimulation\u001B[49m\u001B[43m(\u001B[49m\u001B[43m)\u001B[49m\n\u001B[1;32m    166\u001B[0m     \u001B[38;5;28;01mif\u001B[39;00m \u001B[38;5;129;01mnot\u001B[39;00m \u001B[38;5;28mself\u001B[39m\u001B[38;5;241m.\u001B[39mquiet:\n\u001B[1;32m    167\u001B[0m         \u001B[38;5;28mprint\u001B[39m(\u001B[38;5;124mf\u001B[39m\u001B[38;5;124m'\u001B[39m\u001B[38;5;124mlocal blockchain block size: \u001B[39m\u001B[38;5;132;01m{\u001B[39;00m\u001B[38;5;28mself\u001B[39m\u001B[38;5;241m.\u001B[39mbridgeLocalToGlobal\u001B[38;5;241m.\u001B[39mblockchain\u001B[38;5;241m.\u001B[39mget_data_size()\u001B[38;5;132;01m}\u001B[39;00m\u001B[38;5;124m'\u001B[39m)\n",
      "File \u001B[0;32m~/PycharmProjects/VanetBlockchain/PartialHomomorphyScheme/Simulation.py:82\u001B[0m, in \u001B[0;36mSimulation.simulation\u001B[0;34m(self)\u001B[0m\n\u001B[1;32m     80\u001B[0m start \u001B[38;5;241m=\u001B[39m datetime\u001B[38;5;241m.\u001B[39mdatetime\u001B[38;5;241m.\u001B[39mnow()\n\u001B[1;32m     81\u001B[0m \u001B[38;5;28;01mfor\u001B[39;00m _ \u001B[38;5;129;01min\u001B[39;00m \u001B[38;5;28mrange\u001B[39m(\u001B[38;5;28mself\u001B[39m\u001B[38;5;241m.\u001B[39mrandom_speed_log_count):\n\u001B[0;32m---> 82\u001B[0m     \u001B[38;5;28;43mself\u001B[39;49m\u001B[38;5;241;43m.\u001B[39;49m\u001B[43msend_random_traffic_log\u001B[49m\u001B[43m(\u001B[49m\u001B[43m)\u001B[49m\n\u001B[1;32m     83\u001B[0m end \u001B[38;5;241m=\u001B[39m datetime\u001B[38;5;241m.\u001B[39mdatetime\u001B[38;5;241m.\u001B[39mnow()\n\u001B[1;32m     84\u001B[0m \u001B[38;5;28mself\u001B[39m\u001B[38;5;241m.\u001B[39msending_traffic_logs_time \u001B[38;5;241m=\u001B[39m end \u001B[38;5;241m-\u001B[39m start\n",
      "File \u001B[0;32m~/PycharmProjects/VanetBlockchain/PartialHomomorphyScheme/Simulation.py:54\u001B[0m, in \u001B[0;36mSimulation.send_random_traffic_log\u001B[0;34m(self)\u001B[0m\n\u001B[1;32m     52\u001B[0m \u001B[38;5;66;03m# select a random speed\u001B[39;00m\n\u001B[1;32m     53\u001B[0m speed \u001B[38;5;241m=\u001B[39m random\u001B[38;5;241m.\u001B[39mrandint(\u001B[38;5;241m0\u001B[39m, \u001B[38;5;241m100\u001B[39m)\n\u001B[0;32m---> 54\u001B[0m \u001B[38;5;28;43mself\u001B[39;49m\u001B[38;5;241;43m.\u001B[39;49m\u001B[43mlocalBlockChainNode\u001B[49m\u001B[38;5;241;43m.\u001B[39;49m\u001B[43msend_encrypted_traffic_log\u001B[49m\u001B[43m(\u001B[49m\u001B[43medge\u001B[49m\u001B[43m,\u001B[49m\u001B[43m \u001B[49m\u001B[43mspeed\u001B[49m\u001B[43m)\u001B[49m\n\u001B[1;32m     55\u001B[0m \u001B[38;5;28;01mif\u001B[39;00m \u001B[38;5;129;01mnot\u001B[39;00m \u001B[38;5;28mself\u001B[39m\u001B[38;5;241m.\u001B[39mquiet:\n\u001B[1;32m     56\u001B[0m     \u001B[38;5;28mprint\u001B[39m(\u001B[38;5;124mf\u001B[39m\u001B[38;5;124m\"\u001B[39m\u001B[38;5;124mSent traffic log for edge \u001B[39m\u001B[38;5;132;01m{\u001B[39;00medge\u001B[38;5;132;01m}\u001B[39;00m\u001B[38;5;124m with speed \u001B[39m\u001B[38;5;132;01m{\u001B[39;00mspeed\u001B[38;5;132;01m}\u001B[39;00m\u001B[38;5;124m\"\u001B[39m)\n",
      "File \u001B[0;32m~/PycharmProjects/VanetBlockchain/PartialHomomorphyScheme/LocalBlockchainNode.py:280\u001B[0m, in \u001B[0;36mLocalBlockchainNode.send_encrypted_traffic_log\u001B[0;34m(self, edge, speed)\u001B[0m\n\u001B[1;32m    278\u001B[0m edge_hash \u001B[38;5;241m=\u001B[39m \u001B[38;5;28mself\u001B[39m\u001B[38;5;241m.\u001B[39mstreet_graph_edges_backward[edge]\n\u001B[1;32m    279\u001B[0m start \u001B[38;5;241m=\u001B[39m datetime\u001B[38;5;241m.\u001B[39mdatetime\u001B[38;5;241m.\u001B[39mnow()\n\u001B[0;32m--> 280\u001B[0m encrypted_speed \u001B[38;5;241m=\u001B[39m \u001B[38;5;28;43mself\u001B[39;49m\u001B[38;5;241;43m.\u001B[39;49m\u001B[43mfacilitator_pubkey\u001B[49m\u001B[38;5;241;43m.\u001B[39;49m\u001B[43mencrypt\u001B[49m\u001B[43m(\u001B[49m\u001B[43mspeed\u001B[49m\u001B[43m)\u001B[49m\n\u001B[1;32m    281\u001B[0m ciphertext \u001B[38;5;241m=\u001B[39m encrypted_speed\u001B[38;5;241m.\u001B[39mciphertext()\n\u001B[1;32m    282\u001B[0m exponent \u001B[38;5;241m=\u001B[39m encrypted_speed\u001B[38;5;241m.\u001B[39mexponent\n",
      "File \u001B[0;32m/opt/homebrew/lib/python3.12/site-packages/phe/paillier.py:175\u001B[0m, in \u001B[0;36mPaillierPublicKey.encrypt\u001B[0;34m(self, value, precision, r_value)\u001B[0m\n\u001B[1;32m    172\u001B[0m \u001B[38;5;28;01melse\u001B[39;00m:\n\u001B[1;32m    173\u001B[0m     encoding \u001B[38;5;241m=\u001B[39m EncodedNumber\u001B[38;5;241m.\u001B[39mencode(\u001B[38;5;28mself\u001B[39m, value, precision)\n\u001B[0;32m--> 175\u001B[0m \u001B[38;5;28;01mreturn\u001B[39;00m \u001B[38;5;28;43mself\u001B[39;49m\u001B[38;5;241;43m.\u001B[39;49m\u001B[43mencrypt_encoded\u001B[49m\u001B[43m(\u001B[49m\u001B[43mencoding\u001B[49m\u001B[43m,\u001B[49m\u001B[43m \u001B[49m\u001B[43mr_value\u001B[49m\u001B[43m)\u001B[49m\n",
      "File \u001B[0;32m/opt/homebrew/lib/python3.12/site-packages/phe/paillier.py:193\u001B[0m, in \u001B[0;36mPaillierPublicKey.encrypt_encoded\u001B[0;34m(self, encoding, r_value)\u001B[0m\n\u001B[1;32m    191\u001B[0m encrypted_number \u001B[38;5;241m=\u001B[39m EncryptedNumber(\u001B[38;5;28mself\u001B[39m, ciphertext, encoding\u001B[38;5;241m.\u001B[39mexponent)\n\u001B[1;32m    192\u001B[0m \u001B[38;5;28;01mif\u001B[39;00m r_value \u001B[38;5;129;01mis\u001B[39;00m \u001B[38;5;28;01mNone\u001B[39;00m:\n\u001B[0;32m--> 193\u001B[0m     \u001B[43mencrypted_number\u001B[49m\u001B[38;5;241;43m.\u001B[39;49m\u001B[43mobfuscate\u001B[49m\u001B[43m(\u001B[49m\u001B[43m)\u001B[49m\n\u001B[1;32m    194\u001B[0m \u001B[38;5;28;01mreturn\u001B[39;00m encrypted_number\n",
      "File \u001B[0;32m/opt/homebrew/lib/python3.12/site-packages/phe/paillier.py:622\u001B[0m, in \u001B[0;36mEncryptedNumber.obfuscate\u001B[0;34m(self)\u001B[0m\n\u001B[1;32m    604\u001B[0m \u001B[38;5;250m\u001B[39m\u001B[38;5;124;03m\"\"\"Disguise ciphertext by multiplying by r ** n with random r.\u001B[39;00m\n\u001B[1;32m    605\u001B[0m \n\u001B[1;32m    606\u001B[0m \u001B[38;5;124;03mThis operation must be performed for every `EncryptedNumber`\u001B[39;00m\n\u001B[0;32m   (...)\u001B[0m\n\u001B[1;32m    619\u001B[0m \u001B[38;5;124;03m    send_to_nsa(product)   # NSA can't deduce 2.718 by bruteforce attack\u001B[39;00m\n\u001B[1;32m    620\u001B[0m \u001B[38;5;124;03m\"\"\"\u001B[39;00m\n\u001B[1;32m    621\u001B[0m r \u001B[38;5;241m=\u001B[39m \u001B[38;5;28mself\u001B[39m\u001B[38;5;241m.\u001B[39mpublic_key\u001B[38;5;241m.\u001B[39mget_random_lt_n()\n\u001B[0;32m--> 622\u001B[0m r_pow_n \u001B[38;5;241m=\u001B[39m \u001B[43mpowmod\u001B[49m\u001B[43m(\u001B[49m\u001B[43mr\u001B[49m\u001B[43m,\u001B[49m\u001B[43m \u001B[49m\u001B[38;5;28;43mself\u001B[39;49m\u001B[38;5;241;43m.\u001B[39;49m\u001B[43mpublic_key\u001B[49m\u001B[38;5;241;43m.\u001B[39;49m\u001B[43mn\u001B[49m\u001B[43m,\u001B[49m\u001B[43m \u001B[49m\u001B[38;5;28;43mself\u001B[39;49m\u001B[38;5;241;43m.\u001B[39;49m\u001B[43mpublic_key\u001B[49m\u001B[38;5;241;43m.\u001B[39;49m\u001B[43mnsquare\u001B[49m\u001B[43m)\u001B[49m\n\u001B[1;32m    623\u001B[0m \u001B[38;5;28mself\u001B[39m\u001B[38;5;241m.\u001B[39m__ciphertext \u001B[38;5;241m=\u001B[39m mulmod(\u001B[38;5;28mself\u001B[39m\u001B[38;5;241m.\u001B[39m__ciphertext, r_pow_n, \u001B[38;5;28mself\u001B[39m\u001B[38;5;241m.\u001B[39mpublic_key\u001B[38;5;241m.\u001B[39mnsquare)\n\u001B[1;32m    624\u001B[0m \u001B[38;5;28mself\u001B[39m\u001B[38;5;241m.\u001B[39m__is_obfuscated \u001B[38;5;241m=\u001B[39m \u001B[38;5;28;01mTrue\u001B[39;00m\n",
      "File \u001B[0;32m/opt/homebrew/lib/python3.12/site-packages/phe/util.py:48\u001B[0m, in \u001B[0;36mpowmod\u001B[0;34m(a, b, c)\u001B[0m\n\u001B[1;32m     46\u001B[0m     \u001B[38;5;28;01mreturn\u001B[39;00m \u001B[38;5;241m1\u001B[39m\n\u001B[1;32m     47\u001B[0m \u001B[38;5;28;01mif\u001B[39;00m \u001B[38;5;129;01mnot\u001B[39;00m HAVE_GMP \u001B[38;5;129;01mor\u001B[39;00m \u001B[38;5;28mmax\u001B[39m(a, b, c) \u001B[38;5;241m<\u001B[39m _USE_MOD_FROM_GMP_SIZE:\n\u001B[0;32m---> 48\u001B[0m     \u001B[38;5;28;01mreturn\u001B[39;00m \u001B[38;5;28;43mpow\u001B[39;49m\u001B[43m(\u001B[49m\u001B[43ma\u001B[49m\u001B[43m,\u001B[49m\u001B[43m \u001B[49m\u001B[43mb\u001B[49m\u001B[43m,\u001B[49m\u001B[43m \u001B[49m\u001B[43mc\u001B[49m\u001B[43m)\u001B[49m\n\u001B[1;32m     49\u001B[0m \u001B[38;5;28;01melse\u001B[39;00m:\n\u001B[1;32m     50\u001B[0m     \u001B[38;5;28;01mreturn\u001B[39;00m \u001B[38;5;28mint\u001B[39m(gmpy2\u001B[38;5;241m.\u001B[39mpowmod(a, b, c))\n",
      "\u001B[0;31mKeyboardInterrupt\u001B[0m: "
     ]
    }
   ],
   "execution_count": 9
  }
 ],
 "metadata": {
  "kernelspec": {
   "display_name": "Python 3",
   "language": "python",
   "name": "python3"
  },
  "language_info": {
   "codemirror_mode": {
    "name": "ipython",
    "version": 2
   },
   "file_extension": ".py",
   "mimetype": "text/x-python",
   "name": "python",
   "nbconvert_exporter": "python",
   "pygments_lexer": "ipython2",
   "version": "2.7.6"
  }
 },
 "nbformat": 4,
 "nbformat_minor": 5
}
