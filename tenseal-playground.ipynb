{
 "cells": [
  {
   "metadata": {},
   "cell_type": "markdown",
   "source": [
    "\n",
    "# Tenseal Playground\n",
    "So since this is not going to be a part of the git repository I'm not going to be formal in here. So lets go on and do the exploration.\n",
    "\n",
    "## Should we use CKKS?\n",
    "No since then we should handle the noise and then do the ZKP, hence it would lead to nasty stuff. So we should use the BFV scheme. Also the BFV scheme is faster and we can find the upper limit for our operations.\n",
    "\n",
    "Since we are going to calculate the variance of the data we need to have:\n",
    "\n",
    "$$ \\sigma^2 = \\sum_{i=1}^{n} x_i^2 - \\frac{1}{n}(\\sum_{i=1}^{n} x_i)^2 $$\n",
    "\n",
    "So we need two things:\n",
    "\n",
    "$$ \\sum_{i=1}^{n} x_i^2 $$\n",
    "\n",
    "$$ \\sum_{i=1}^{n} x_i $$\n",
    "\n",
    "\n",
    "Then the rest is easy. We can calculate the variance after the decryption.\n",
    "\n",
    "We then need to add bias and random number to it. So we can do the ZKP.\n",
    "\n",
    "Considering that we want to do the process for 100 meters of the street and the length of each car being 3.5 to 5 meters and also 0.5 meters for the space between the cars. We can say that we have at most 25 cars per each lane and considering at most four lanes the result would be 100 cars. So per each phase the maximum number we need to deal with is in terms of `cl` the car length, and `s` the space between the cars and `sl` street length is:\n",
    "\n",
    "number of cars = street length / car length + space between cars)\n",
    "\n",
    "Maximum number would be for the sum of the squares of the speeds with the bias and maximum random number possible. So the number would be:\n",
    "\n",
    "max number  = number of cars * max speed^2 + bias + random number\n",
    "\n",
    "Also the bias and the random number must be the same hence:\n",
    "\n",
    "max number = number of cars * max speed^2 + 2 * bias\n",
    "\n",
    "So we can calculate the upper limit for the operations.\n",
    "\n",
    "max number = 100 * 100^2 +  2 * 10_000 = 1_020_000 \n",
    "\n",
    "So this would be the plain text upper limit for the operations."
   ],
   "id": "5166cfff2c4833c2"
  },
  {
   "metadata": {
    "ExecuteTime": {
     "end_time": "2024-10-21T12:23:49.340132Z",
     "start_time": "2024-10-21T12:23:49.263615Z"
    }
   },
   "cell_type": "code",
   "source": [
    "import tenseal as ts\n",
    "\n",
    "context = ts.context(ts.SCHEME_TYPE.BFV, poly_modulus_degree=4096, plain_modulus=1032193)\n",
    "context"
   ],
   "id": "9e4c522b34ac9484",
   "outputs": [
    {
     "data": {
      "text/plain": [
       "<tenseal.enc_context.Context at 0x7a11e817c610>"
      ]
     },
     "execution_count": 2,
     "metadata": {},
     "output_type": "execute_result"
    }
   ],
   "execution_count": 2
  },
  {
   "metadata": {},
   "cell_type": "markdown",
   "source": "Lets encrypt a list of numbers and then decrypt them.",
   "id": "cc81410075232b3f"
  },
  {
   "metadata": {
    "ExecuteTime": {
     "end_time": "2024-10-22T14:03:58.154357Z",
     "start_time": "2024-10-22T14:03:58.064789Z"
    }
   },
   "cell_type": "code",
   "source": [
    "plain = [1, 2, 3, 4, 5]\n",
    "encrypted_vector = ts.bfv_vector(context, plain)\n",
    "print(\"Encrypted vector size is: \", encrypted_vector.size())\n",
    "print(\"Encrypted vector: \", encrypted_vector.decrypt())"
   ],
   "id": "5f4907425b19af81",
   "outputs": [
    {
     "name": "stdout",
     "output_type": "stream",
     "text": [
      "Encrypted vector size is:  5\n",
      "Encrypted vector:  [1, 2, 3, 4, 5]\n"
     ]
    }
   ],
   "execution_count": 5
  },
  {
   "metadata": {
    "ExecuteTime": {
     "end_time": "2024-10-22T14:04:06.990713Z",
     "start_time": "2024-10-22T14:04:06.978429Z"
    }
   },
   "cell_type": "code",
   "source": "encrypted_vector[0]",
   "id": "f0897e962884a227",
   "outputs": [
    {
     "ename": "TypeError",
     "evalue": "'BFVVector' object is not subscriptable",
     "output_type": "error",
     "traceback": [
      "\u001B[0;31m---------------------------------------------------------------------------\u001B[0m",
      "\u001B[0;31mTypeError\u001B[0m                                 Traceback (most recent call last)",
      "\u001B[0;32m/tmp/ipykernel_297928/1386399386.py\u001B[0m in \u001B[0;36m<module>\u001B[0;34m\u001B[0m\n\u001B[0;32m----> 1\u001B[0;31m \u001B[0mencrypted_vector\u001B[0m\u001B[0;34m[\u001B[0m\u001B[0;36m0\u001B[0m\u001B[0;34m]\u001B[0m\u001B[0;34m\u001B[0m\u001B[0;34m\u001B[0m\u001B[0m\n\u001B[0m",
      "\u001B[0;31mTypeError\u001B[0m: 'BFVVector' object is not subscriptable"
     ]
    }
   ],
   "execution_count": 6
  },
  {
   "metadata": {
    "ExecuteTime": {
     "end_time": "2024-10-22T14:04:49.923333Z",
     "start_time": "2024-10-22T14:04:49.906926Z"
    }
   },
   "cell_type": "code",
   "source": "encrypted_vector.ciphertext()",
   "id": "9f902b1f1d5526c8",
   "outputs": [
    {
     "data": {
      "text/plain": [
       "[<_tenseal_cpp.Ciphertext at 0x7a11e865fc70>]"
      ]
     },
     "execution_count": 8,
     "metadata": {},
     "output_type": "execute_result"
    }
   ],
   "execution_count": 8
  },
  {
   "metadata": {},
   "cell_type": "code",
   "outputs": [],
   "execution_count": null,
   "source": "",
   "id": "ba835d23242bc6b2"
  }
 ],
 "metadata": {
  "kernelspec": {
   "display_name": "Python 3",
   "language": "python",
   "name": "python3"
  },
  "language_info": {
   "codemirror_mode": {
    "name": "ipython",
    "version": 2
   },
   "file_extension": ".py",
   "mimetype": "text/x-python",
   "name": "python",
   "nbconvert_exporter": "python",
   "pygments_lexer": "ipython2",
   "version": "2.7.6"
  }
 },
 "nbformat": 4,
 "nbformat_minor": 5
}
