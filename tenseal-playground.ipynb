{
 "cells": [
  {
   "metadata": {},
   "cell_type": "markdown",
   "source": [
    "\n",
    "# Tenseal Playground\n",
    "So since this is not going to be a part of the git repository I'm not going to be formal in here. So lets go on and do the exploration.\n",
    "\n",
    "## Should we use CKKS?\n",
    "No since then we should handle the noise and then do the ZKP, hence it would lead to nasty stuff. So we should use the BFV scheme. Also the BFV scheme is faster and we can find the upper limit for our operations.\n",
    "\n",
    "Since we are going to calculate the variance of the data we need to have:\n",
    "\n",
    "$$ \\sigma^2 = \\sum_{i=1}^{n} x_i^2 - \\frac{1}{n}(\\sum_{i=1}^{n} x_i)^2 $$\n",
    "\n",
    "So we need two things:\n",
    "\n",
    "$$ \\sum_{i=1}^{n} x_i^2 $$\n",
    "\n",
    "$$ \\sum_{i=1}^{n} x_i $$\n",
    "\n",
    "\n",
    "Then the rest is easy. We can calculate the variance after the decryption.\n",
    "\n",
    "We then need to add bias and random number to it. So we can do the ZKP.\n",
    "\n",
    "Considering that we want to do the process for 100 meters of the street and the length of each car being 3.5 to 5 meters and also 0.5 meters for the space between the cars. We can say that we have at most 25 cars per each lane and considering at most four lanes the result would be 100 cars. So per each phase the maximum number we need to deal with is in terms of `cl` the car length, and `s` the space between the cars and `sl` street length is:\n",
    "\n",
    "number of cars = street length / car length + space between cars)\n",
    "\n",
    "Maximum number would be for the sum of the squares of the speeds with the bias and maximum random number possible. So the number would be:\n",
    "\n",
    "max number  = number of cars * max speed^2 + bias + random number\n",
    "\n",
    "Also the bias and the random number must be the same hence:\n",
    "\n",
    "max number = number of cars * max speed^2 + 2 * bias\n",
    "\n",
    "So we can calculate the upper limit for the operations.\n",
    "\n",
    "max number = 100 * 100^2 +  2 * 10_000 = 1_020_000 \n",
    "\n",
    "So this would be the plain text upper limit for the operations."
   ],
   "id": "5166cfff2c4833c2"
  },
  {
   "metadata": {
    "ExecuteTime": {
     "end_time": "2024-10-25T19:37:51.058017Z",
     "start_time": "2024-10-25T19:37:51.049683Z"
    }
   },
   "cell_type": "code",
   "source": [
    "import tenseal as ts\n",
    "\n",
    "context = ts.context(ts.SCHEME_TYPE.BFV, poly_modulus_degree=4096, plain_modulus=1032193)\n",
    "context"
   ],
   "id": "9e4c522b34ac9484",
   "outputs": [
    {
     "data": {
      "text/plain": [
       "<tenseal.enc_context.Context at 0x10718cda0>"
      ]
     },
     "execution_count": 68,
     "metadata": {},
     "output_type": "execute_result"
    }
   ],
   "execution_count": 68
  },
  {
   "metadata": {},
   "cell_type": "markdown",
   "source": "Lets encrypt a list of numbers and then decrypt them.",
   "id": "cc81410075232b3f"
  },
  {
   "metadata": {
    "ExecuteTime": {
     "end_time": "2024-10-25T19:37:51.343650Z",
     "start_time": "2024-10-25T19:37:51.340325Z"
    }
   },
   "cell_type": "code",
   "source": [
    "plain = [1, 2, 3, 4, 5]\n",
    "encrypted_vector = ts.bfv_vector(context, plain)\n",
    "print(\"Encrypted vector size is: \", encrypted_vector.size())\n",
    "print(\"Encrypted vector: \", encrypted_vector.decrypt())"
   ],
   "id": "5f4907425b19af81",
   "outputs": [
    {
     "name": "stdout",
     "output_type": "stream",
     "text": [
      "Encrypted vector size is:  5\n",
      "Encrypted vector:  [1, 2, 3, 4, 5]\n"
     ]
    }
   ],
   "execution_count": 69
  },
  {
   "metadata": {},
   "cell_type": "markdown",
   "source": "Let's do serializations.",
   "id": "7aae73b282775654"
  },
  {
   "metadata": {
    "ExecuteTime": {
     "end_time": "2024-10-25T19:37:51.562492Z",
     "start_time": "2024-10-25T19:37:51.559018Z"
    }
   },
   "cell_type": "code",
   "source": [
    "ev = encrypted_vector.serialize()\n",
    "len(ev)"
   ],
   "id": "9f902b1f1d5526c8",
   "outputs": [
    {
     "data": {
      "text/plain": [
       "88531"
      ]
     },
     "execution_count": 70,
     "metadata": {},
     "output_type": "execute_result"
    }
   ],
   "execution_count": 70
  },
  {
   "metadata": {
    "ExecuteTime": {
     "end_time": "2024-10-25T19:37:52.241578Z",
     "start_time": "2024-10-25T19:37:52.235868Z"
    }
   },
   "cell_type": "code",
   "source": [
    "pvc = context.serialize(save_secret_key=True)\n",
    "print(f'Is context public: {context.is_public()}')\n",
    "len(pvc)"
   ],
   "id": "46b91e5724ac4606",
   "outputs": [
    {
     "name": "stdout",
     "output_type": "stream",
     "text": [
      "Is context public: False\n"
     ]
    },
    {
     "data": {
      "text/plain": [
       "204439"
      ]
     },
     "execution_count": 71,
     "metadata": {},
     "output_type": "execute_result"
    }
   ],
   "execution_count": 71
  },
  {
   "metadata": {
    "ExecuteTime": {
     "end_time": "2024-10-25T19:37:52.383484Z",
     "start_time": "2024-10-25T19:37:52.376627Z"
    }
   },
   "cell_type": "code",
   "source": [
    "context.make_context_public()\n",
    "puc = context.serialize()\n",
    "len(puc)"
   ],
   "id": "f993c4662eba07a2",
   "outputs": [
    {
     "data": {
      "text/plain": [
       "411077"
      ]
     },
     "execution_count": 72,
     "metadata": {},
     "output_type": "execute_result"
    }
   ],
   "execution_count": 72
  },
  {
   "metadata": {},
   "cell_type": "markdown",
   "source": "Now lets deserialize stuff",
   "id": "f06c4746057ee9e5"
  },
  {
   "metadata": {
    "ExecuteTime": {
     "end_time": "2024-10-25T19:37:52.895971Z",
     "start_time": "2024-10-25T19:37:52.889223Z"
    }
   },
   "cell_type": "code",
   "source": [
    "context2 = ts.context_from(puc)\n",
    "print(f'Is context public: {context2.is_public()}')\n",
    "context2"
   ],
   "id": "3656169a747589ef",
   "outputs": [
    {
     "name": "stdout",
     "output_type": "stream",
     "text": [
      "Is context public: True\n"
     ]
    },
    {
     "data": {
      "text/plain": [
       "<tenseal.enc_context.Context at 0x107165fa0>"
      ]
     },
     "execution_count": 73,
     "metadata": {},
     "output_type": "execute_result"
    }
   ],
   "execution_count": 73
  },
  {
   "metadata": {
    "ExecuteTime": {
     "end_time": "2024-10-25T19:37:53.081297Z",
     "start_time": "2024-10-25T19:37:53.079034Z"
    }
   },
   "cell_type": "code",
   "source": [
    "encrypted_vector2 = ts.bfv_vector_from(context2, ev)\n",
    "print(\"Encrypted vector size is: \", encrypted_vector2.size())"
   ],
   "id": "e98759402ac209aa",
   "outputs": [
    {
     "name": "stdout",
     "output_type": "stream",
     "text": [
      "Encrypted vector size is:  5\n"
     ]
    }
   ],
   "execution_count": 74
  },
  {
   "metadata": {
    "ExecuteTime": {
     "end_time": "2024-10-25T19:37:53.226514Z",
     "start_time": "2024-10-25T19:37:53.219037Z"
    }
   },
   "cell_type": "code",
   "source": [
    "context3 = ts.context_from(pvc)\n",
    "print(context3.is_public())"
   ],
   "id": "2c35692e15da0d5b",
   "outputs": [
    {
     "name": "stdout",
     "output_type": "stream",
     "text": [
      "False\n"
     ]
    }
   ],
   "execution_count": 75
  },
  {
   "metadata": {
    "ExecuteTime": {
     "end_time": "2024-10-25T19:37:53.928346Z",
     "start_time": "2024-10-25T19:37:53.925434Z"
    }
   },
   "cell_type": "code",
   "source": [
    "encrypted_vector3 = ts.bfv_vector_from(context3, ev)\n",
    "print(\"Encrypted vector size is: \", encrypted_vector3.size())"
   ],
   "id": "d36797d0d7a7bc03",
   "outputs": [
    {
     "name": "stdout",
     "output_type": "stream",
     "text": [
      "Encrypted vector size is:  5\n"
     ]
    }
   ],
   "execution_count": 76
  },
  {
   "metadata": {
    "ExecuteTime": {
     "end_time": "2024-10-25T19:37:54.258551Z",
     "start_time": "2024-10-25T19:37:54.254441Z"
    }
   },
   "cell_type": "code",
   "source": "encrypted_vector3.decrypt()",
   "id": "48ef608d3f0090a8",
   "outputs": [
    {
     "data": {
      "text/plain": [
       "[1, 2, 3, 4, 5]"
      ]
     },
     "execution_count": 77,
     "metadata": {},
     "output_type": "execute_result"
    }
   ],
   "execution_count": 77
  },
  {
   "metadata": {},
   "cell_type": "code",
   "outputs": [],
   "execution_count": null,
   "source": "",
   "id": "5b954164b12c245"
  }
 ],
 "metadata": {
  "kernelspec": {
   "display_name": "Python 3",
   "language": "python",
   "name": "python3"
  },
  "language_info": {
   "codemirror_mode": {
    "name": "ipython",
    "version": 2
   },
   "file_extension": ".py",
   "mimetype": "text/x-python",
   "name": "python",
   "nbconvert_exporter": "python",
   "pygments_lexer": "ipython2",
   "version": "2.7.6"
  }
 },
 "nbformat": 4,
 "nbformat_minor": 5
}
