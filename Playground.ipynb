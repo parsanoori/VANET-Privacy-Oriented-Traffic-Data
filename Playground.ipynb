{
 "cells": [
  {
   "cell_type": "markdown",
   "source": [
    "# Vanet Systems with Homomorphic Encryption to calculate street traffic with the concern of privacy\n",
    "Let's get deep into the system that we are going to implement.\n",
    "\n",
    "## What are the key components?\n",
    "+ We are going to have two different blockchains in this project. One is local that is in the scope of a neighborhood and the other is either in country-scale or global-scale.\n",
    "+ We are going to have the map of the neighborhood simulated as a graph. Where each edge connects two cross-points and the weight of it is equivalent to the traffic of that point.\n",
    "+ We are going to have homomorphic encryption through encrypting the speed status of the cars in the local blockchain with the public key of a random node in the global blockchain.\n",
    "\n",
    "##  Let's implement the blockchain. \n",
    "\n",
    "The blockchain is implemented in the file 'Blockchain.py' and 'Block.py'.\n",
    "\n",
    "\n",
    "## Let's implement the graph of the neighborhood.\n",
    "\n",
    "We are going to implement and see the results here and use the code in the non-juptyer files.\n",
    "Let's import the necessary libraries and implement the graph."
   ],
   "metadata": {
    "collapsed": false
   },
   "id": "dd2012e1ac7b4d67"
  },
  {
   "cell_type": "code",
   "execution_count": null,
   "outputs": [],
   "source": [
    "import networkx as nx\n",
    "import matplotlib.pyplot as plt"
   ],
   "metadata": {
    "collapsed": false
   },
   "id": "8f83f50fdc52bcd1"
  },
  {
   "cell_type": "markdown",
   "source": [
    "### Let's create random graphs\n",
    "Let's have a dictionary to store the data of the neighborhoods."
   ],
   "metadata": {
    "collapsed": false
   },
   "id": "ee0b6d85bd5d8409"
  },
  {
   "cell_type": "code",
   "execution_count": null,
   "outputs": [],
   "source": [
    "neighborhoods_data = {}"
   ],
   "metadata": {
    "collapsed": false
   },
   "id": "dfd893aed432c031"
  },
  {
   "cell_type": "markdown",
   "source": [
    "Let's create a random graph with 10 nodes and 20 edges."
   ],
   "metadata": {
    "collapsed": false
   },
   "id": "9d31b0d3b0374ab6"
  },
  {
   "cell_type": "code",
   "execution_count": null,
   "outputs": [],
   "source": [
    "graph = nx.gnm_random_graph(10, 20)\n",
    "nx.draw(graph, with_labels=True)\n",
    "plt.show()"
   ],
   "metadata": {
    "collapsed": false
   },
   "id": "adca9ab3c07f194d"
  },
  {
   "cell_type": "markdown",
   "source": [
    "Let's store the graph."
   ],
   "metadata": {
    "collapsed": false
   },
   "id": "1188e30f3f4aef0f"
  },
  {
   "cell_type": "code",
   "execution_count": null,
   "outputs": [],
   "source": [
    "neighborhoods_data[\"nh1\"] = {'vertex_count': graph.number_of_nodes(), 'edge_count': graph.number_of_edges()}\n",
    "nx.readwrite.write_gml(graph, 'graphs/nh1.gml')"
   ],
   "metadata": {
    "collapsed": false
   },
   "id": "7c3e0eee94dd65e3"
  },
  {
   "cell_type": "markdown",
   "source": [
    "Let's create a random graph with 10 nodes and 30 edges."
   ],
   "metadata": {
    "collapsed": false
   },
   "id": "a12ebb3a3c70e269"
  },
  {
   "cell_type": "code",
   "execution_count": null,
   "outputs": [],
   "source": [
    "graph = nx.gnm_random_graph(10, 30)\n",
    "nx.draw(graph, with_labels=True)\n",
    "plt.show()"
   ],
   "metadata": {
    "collapsed": false
   },
   "id": "e729a61905f1d3c3"
  },
  {
   "cell_type": "markdown",
   "source": [
    "Let's store the graph."
   ],
   "metadata": {
    "collapsed": false
   },
   "id": "4422c5f42210f9da"
  },
  {
   "cell_type": "code",
   "execution_count": null,
   "outputs": [],
   "source": [
    "neighborhoods_data[\"nh2\"] = {'vertex_count': graph.number_of_nodes(), 'edge_count': graph.number_of_edges()}\n",
    "nx.readwrite.write_gml(graph, 'graphs/nh2.gml')"
   ],
   "metadata": {
    "collapsed": false
   },
   "id": "b73914d348b5a537"
  },
  {
   "cell_type": "markdown",
   "source": [
    "Let's create a random graph with 20 nodes and 30 edges."
   ],
   "metadata": {
    "collapsed": false
   },
   "id": "2e08924a08d730dd"
  },
  {
   "cell_type": "code",
   "execution_count": null,
   "outputs": [],
   "source": [
    "graph = nx.gnm_random_graph(20, 30)\n",
    "nx.draw(graph, with_labels=True)"
   ],
   "metadata": {
    "collapsed": false
   },
   "id": "8523eeded478006e"
  },
  {
   "cell_type": "markdown",
   "source": [
    "Let's store the graph."
   ],
   "metadata": {
    "collapsed": false
   },
   "id": "5b9ca6cc4873eaea"
  },
  {
   "cell_type": "code",
   "execution_count": null,
   "outputs": [],
   "source": [
    "neighborhoods_data[\"nh3\"] = {'vertex_count': graph.number_of_nodes(), 'edge_count': graph.number_of_edges()} \n",
    "nx.readwrite.write_gml(graph, 'graphs/nh3.gml')"
   ],
   "metadata": {
    "collapsed": false
   },
   "id": "4541353bbb84cb4a"
  },
  {
   "cell_type": "markdown",
   "source": [
    "Let's create a random graph with 20 nodes and 40 edges."
   ],
   "metadata": {
    "collapsed": false
   },
   "id": "b9fcf9bb0c4f28ab"
  },
  {
   "cell_type": "code",
   "execution_count": null,
   "outputs": [],
   "source": [
    "graph = nx.gnm_random_graph(20, 40)\n",
    "nx.draw(graph, with_labels=True)"
   ],
   "metadata": {
    "collapsed": false
   },
   "id": "d7d69f6172e6dc40"
  },
  {
   "cell_type": "markdown",
   "source": [
    "Let's create a random graph with 30 nodes and 40 edges."
   ],
   "metadata": {
    "collapsed": false
   },
   "id": "70232a8f0933a63a"
  },
  {
   "cell_type": "code",
   "execution_count": null,
   "outputs": [],
   "source": [
    "graph = nx.gnm_random_graph(30, 40)\n",
    "nx.draw(graph, with_labels=True)"
   ],
   "metadata": {
    "collapsed": false
   },
   "id": "5ceb82ae45b68692"
  },
  {
   "cell_type": "markdown",
   "source": [
    "Let's store the graph.\n"
   ],
   "metadata": {
    "collapsed": false
   },
   "id": "55c2b47c5236b764"
  },
  {
   "cell_type": "code",
   "execution_count": null,
   "outputs": [],
   "source": [
    "neighborhoods_data[\"nh4\"] = {'vertex_count': graph.number_of_nodes(), 'edge_count': graph.number_of_edges()}\n",
    "nx.readwrite.write_gml(graph, 'graphs/nh4.gml')"
   ],
   "metadata": {
    "collapsed": false
   },
   "id": "f361468846e32cac"
  },
  {
   "cell_type": "markdown",
   "source": [
    "Let's create a random graph with 30 nodes and 50 edges."
   ],
   "metadata": {
    "collapsed": false
   },
   "id": "f83457653ae40fda"
  },
  {
   "cell_type": "code",
   "execution_count": null,
   "outputs": [],
   "source": [
    "graph = nx.gnm_random_graph(30, 50)\n",
    "nx.draw(graph, with_labels=True)"
   ],
   "metadata": {
    "collapsed": false
   },
   "id": "d1f9e5e7823bd504"
  },
  {
   "cell_type": "markdown",
   "source": [
    "Let's store the graph."
   ],
   "metadata": {
    "collapsed": false
   },
   "id": "a65d48ba0795926a"
  },
  {
   "cell_type": "code",
   "execution_count": null,
   "outputs": [],
   "source": [
    "neighborhoods_data[\"nh5\"] = {'vertex_count': graph.number_of_nodes(), 'edge_count': graph.number_of_edges()}\n",
    "nx.readwrite.write_gml(graph, 'graphs/nh5.gml')"
   ],
   "metadata": {
    "collapsed": false
   },
   "id": "9bdf7e074c98fb26"
  },
  {
   "cell_type": "markdown",
   "source": [
    "Let's create a random graph with 40 nodes and 65 edges."
   ],
   "metadata": {
    "collapsed": false
   },
   "id": "78839aa21dde0760"
  },
  {
   "cell_type": "code",
   "execution_count": null,
   "outputs": [],
   "source": [
    "# generate a random connected graph\n",
    "graph = nx.gnm_random_graph(40, 65)\n",
    "nx.draw(graph, with_labels=True)"
   ],
   "metadata": {
    "collapsed": false
   },
   "id": "3e4c1e2cf378066a"
  },
  {
   "cell_type": "markdown",
   "source": [
    "Let's store the graph."
   ],
   "metadata": {
    "collapsed": false
   },
   "id": "e5ebbad1f383c4fe"
  },
  {
   "cell_type": "code",
   "execution_count": null,
   "outputs": [],
   "source": [
    "neighborhoods_data[\"nh6\"] = {'vertex_count': graph.number_of_nodes(), 'edge_count': graph.number_of_edges()}\n",
    "nx.readwrite.write_gml(graph, 'graphs/nh6.gml')"
   ],
   "metadata": {
    "collapsed": false
   },
   "id": "4d641de222a29a51"
  },
  {
   "cell_type": "markdown",
   "source": [
    "Let's create a random graph with 40 nodes and 80 edges."
   ],
   "metadata": {
    "collapsed": false
   },
   "id": "2580ac77262cdd4b"
  },
  {
   "cell_type": "code",
   "execution_count": null,
   "outputs": [],
   "source": [
    "graph = nx.gnm_random_graph(40, 80)\n",
    "nx.draw(graph, with_labels=True)"
   ],
   "metadata": {
    "collapsed": false
   },
   "id": "518adda9c1a13348"
  },
  {
   "cell_type": "markdown",
   "source": [
    "Let's store the graph."
   ],
   "metadata": {
    "collapsed": false
   },
   "id": "c36d54d43cb23efd"
  },
  {
   "cell_type": "code",
   "execution_count": null,
   "outputs": [],
   "source": [
    "neighborhoods_data[\"nh7\"] = {'vertex_count': graph.number_of_nodes(), 'edge_count': graph.number_of_edges()}\n",
    "nx.readwrite.write_gml(graph, 'graphs/nh7.gml')"
   ],
   "metadata": {
    "collapsed": false
   },
   "id": "244ce9fc060325df"
  },
  {
   "cell_type": "markdown",
   "source": [
    "Let's create a random graph with 50 nodes and 80 edges."
   ],
   "metadata": {
    "collapsed": false
   },
   "id": "82cebf1374352984"
  },
  {
   "cell_type": "markdown",
   "source": [
    "Let's store the data file of the neighborhoods."
   ],
   "metadata": {
    "collapsed": false
   },
   "id": "fc7dcbca13b96765"
  },
  {
   "cell_type": "code",
   "execution_count": null,
   "outputs": [],
   "source": [
    "import json\n",
    "with open('graphs/neighborhoods_data.json', 'w') as f:\n",
    "    json.dump(neighborhoods_data, f)"
   ],
   "metadata": {
    "collapsed": false
   },
   "id": "853a3f3c6be6d94c"
  },
  {
   "cell_type": "markdown",
   "source": [
    "# Implementation\n",
    "## The implementation is done in the packages relative to this file."
   ],
   "metadata": {
    "collapsed": false
   },
   "id": "71015624a1e0b3f1"
  },
  {
   "cell_type": "markdown",
   "source": [
    "# Simulation\n",
    "## The simulation is done here. We should run the simulation for each scheme and compare the results.\n",
    "### Single Blockchain Scheme Simulation"
   ],
   "metadata": {
    "collapsed": false
   },
   "id": "a84afc0894b24255"
  },
  {
   "cell_type": "markdown",
   "source": [
    "Let's read the data of the neighborhoods."
   ],
   "metadata": {
    "collapsed": false
   },
   "id": "b0edf87e91667faf"
  },
  {
   "cell_type": "code",
   "execution_count": 1,
   "outputs": [],
   "source": [
    "import json\n",
    "with open('graphs/neighborhoods_data.json', 'r') as f:\n",
    "    neighborhoods_data = json.load(f)"
   ],
   "metadata": {
    "collapsed": false,
    "ExecuteTime": {
     "end_time": "2024-05-26T12:01:19.054310Z",
     "start_time": "2024-05-26T12:01:19.016987Z"
    }
   },
   "id": "eff1e0d3a3e25c4a"
  },
  {
   "cell_type": "markdown",
   "source": [
    "Let's create list of speed logs count values for the simulation."
   ],
   "metadata": {
    "collapsed": false
   },
   "id": "a4b1acab24b2bb7e"
  },
  {
   "cell_type": "code",
   "execution_count": 2,
   "outputs": [],
   "source": [
    "speed_log_counts = [1, 5, 10, 20, 30, 40, 60, 80, 100, 150, 200]"
   ],
   "metadata": {
    "collapsed": false,
    "ExecuteTime": {
     "end_time": "2024-05-26T12:01:22.412120Z",
     "start_time": "2024-05-26T12:01:22.400022Z"
    }
   },
   "id": "6177f0daa4465afd"
  },
  {
   "cell_type": "markdown",
   "source": [
    "Let's create pairs of neighborhood and log_counts for run"
   ],
   "metadata": {
    "collapsed": false
   },
   "id": "a52dcf0ec2187229"
  },
  {
   "cell_type": "code",
   "execution_count": 3,
   "outputs": [
    {
     "data": {
      "text/plain": "[('nh1', 1),\n ('nh1', 5),\n ('nh1', 10),\n ('nh1', 20),\n ('nh1', 30),\n ('nh1', 40),\n ('nh1', 60),\n ('nh1', 80),\n ('nh1', 100),\n ('nh1', 150),\n ('nh1', 200),\n ('nh2', 1),\n ('nh2', 5),\n ('nh2', 10),\n ('nh2', 20),\n ('nh2', 30),\n ('nh2', 40),\n ('nh2', 60),\n ('nh2', 80),\n ('nh2', 100),\n ('nh2', 150),\n ('nh2', 200),\n ('nh3', 1),\n ('nh3', 5),\n ('nh3', 10),\n ('nh3', 20),\n ('nh3', 30),\n ('nh3', 40),\n ('nh3', 60),\n ('nh3', 80),\n ('nh3', 100),\n ('nh3', 150),\n ('nh3', 200),\n ('nh4', 1),\n ('nh4', 5),\n ('nh4', 10),\n ('nh4', 20),\n ('nh4', 30),\n ('nh4', 40),\n ('nh4', 60),\n ('nh4', 80),\n ('nh4', 100),\n ('nh4', 150),\n ('nh4', 200),\n ('nh5', 1),\n ('nh5', 5),\n ('nh5', 10),\n ('nh5', 20),\n ('nh5', 30),\n ('nh5', 40),\n ('nh5', 60),\n ('nh5', 80),\n ('nh5', 100),\n ('nh5', 150),\n ('nh5', 200),\n ('nh6', 1),\n ('nh6', 5),\n ('nh6', 10),\n ('nh6', 20),\n ('nh6', 30),\n ('nh6', 40),\n ('nh6', 60),\n ('nh6', 80),\n ('nh6', 100),\n ('nh6', 150),\n ('nh6', 200),\n ('nh7', 1),\n ('nh7', 5),\n ('nh7', 10),\n ('nh7', 20),\n ('nh7', 30),\n ('nh7', 40),\n ('nh7', 60),\n ('nh7', 80),\n ('nh7', 100),\n ('nh7', 150),\n ('nh7', 200)]"
     },
     "execution_count": 3,
     "metadata": {},
     "output_type": "execute_result"
    }
   ],
   "source": [
    "pairs = []\n",
    "for nh in neighborhoods_data.keys():\n",
    "    for speed_log_count in speed_log_counts:\n",
    "        pairs.append((nh, speed_log_count))\n",
    "pairs.sort()\n",
    "pairs"
   ],
   "metadata": {
    "collapsed": false,
    "ExecuteTime": {
     "end_time": "2024-05-26T12:01:29.166724Z",
     "start_time": "2024-05-26T12:01:29.149554Z"
    }
   },
   "id": "b7b69e9b6a56431b"
  },
  {
   "cell_type": "markdown",
   "source": [
    "Create a function that runs the simulations and gives the results."
   ],
   "metadata": {
    "collapsed": false
   },
   "id": "8cdf12af93fbfc36"
  },
  {
   "cell_type": "code",
   "execution_count": 4,
   "outputs": [],
   "source": [
    "import SingleBlockchainScheme\n",
    "def run_single_blockchain_scheme_simulation(neighborhood, speed_log_count, traffic_update_interval_in_seconds=speed_log_count/10):\n",
    "    sim = SingleBlockchainScheme.Simulation(neighborhood, quiet=True, random_speed_log_count=speed_log_count,sleep_time=0.2, traffic_update_interval_in_seconds=traffic_update_interval_in_seconds)\n",
    "    sim.run()\n",
    "    data = sim.get_simulation_data()\n",
    "    sim.end_run()\n",
    "    return data"
   ],
   "metadata": {
    "collapsed": false,
    "ExecuteTime": {
     "end_time": "2024-05-26T12:01:32.349075Z",
     "start_time": "2024-05-26T12:01:32.217348Z"
    }
   },
   "id": "9edffab951082533"
  },
  {
   "cell_type": "markdown",
   "source": [
    "Run the simulation for all pairs. Starting from the last run."
   ],
   "metadata": {
    "collapsed": false
   },
   "id": "7c4d479bc26730f"
  },
  {
   "cell_type": "code",
   "execution_count": 5,
   "outputs": [
    {
     "name": "stderr",
     "output_type": "stream",
     "text": [
      "100%|██████████| 77/77 [04:48<00:00,  3.75s/it]\n"
     ]
    }
   ],
   "source": [
    "from tqdm import tqdm\n",
    "# read the data from results file\n",
    "try:\n",
    "    with open('results/single_blockchain_scheme_results.json', 'r') as f:\n",
    "        results = json.load(f)\n",
    "except:\n",
    "    results = {}\n",
    "\n",
    "for nh, log_count  in tqdm(pairs):\n",
    "    if nh not in results.keys():\n",
    "        results[nh] = {}\n",
    "    if str(log_count) not in results[nh].keys():\n",
    "        results[nh][str(log_count)] = run_single_blockchain_scheme_simulation(nh, log_count)\n",
    "        with open('results/single_blockchain_scheme_results.json', 'w') as f:\n",
    "            json.dump(results, f)"
   ],
   "metadata": {
    "collapsed": false,
    "ExecuteTime": {
     "end_time": "2024-05-26T12:06:22.376006Z",
     "start_time": "2024-05-26T12:01:33.822901Z"
    }
   },
   "id": "4ac762cd04ca31c5"
  },
  {
   "cell_type": "markdown",
   "source": [
    "### Two Blockchains Scheme Evaluations\n",
    "\n",
    "Let's create a function that runs the simulations and gives the results."
   ],
   "metadata": {
    "collapsed": false
   },
   "id": "63661bd959f9e2a3"
  },
  {
   "cell_type": "code",
   "execution_count": 6,
   "outputs": [],
   "source": [
    "import TwoBlockchainsScheme\n",
    "def run_two_blockchains_scheme_simulation(neighborhood, speed_log_count, traffic_update_interval_in_seconds=speed_log_count/10):\n",
    "    sim = TwoBlockchainsScheme.Simulation(neighborhood, quiet=True, random_speed_log_count=speed_log_count,sleep_time=0.2, traffic_update_interval_in_seconds=traffic_update_interval_in_seconds)\n",
    "    sim.run()\n",
    "    data = sim.get_simulation_data()\n",
    "    sim.end_run()\n",
    "    return data\n"
   ],
   "metadata": {
    "collapsed": false,
    "ExecuteTime": {
     "end_time": "2024-05-26T12:06:22.399098Z",
     "start_time": "2024-05-26T12:06:22.380756Z"
    }
   },
   "id": "76bfe0688401545c"
  },
  {
   "cell_type": "markdown",
   "source": [
    "Run the simulation for all pairs. Starting from the last run."
   ],
   "metadata": {
    "collapsed": false
   },
   "id": "ad89ea4b3b831334"
  },
  {
   "cell_type": "code",
   "execution_count": 7,
   "outputs": [
    {
     "name": "stderr",
     "output_type": "stream",
     "text": [
      "100%|██████████| 77/77 [04:45<00:00,  3.71s/it]\n"
     ]
    },
    {
     "data": {
      "text/plain": "{'nh1': {'10': {'calculating_average_traffic_time': 0.000307,\n   'average_traffic_block_size': 394,\n   'local_blockchain_data_size': 1033,\n   'global_blockchain_data_sze': 417,\n   'sending_traffic_logs_time': 8.5e-05},\n  '20': {'calculating_average_traffic_time': 0.000306,\n   'average_traffic_block_size': 403,\n   'local_blockchain_data_size': 1623,\n   'global_blockchain_data_sze': 426,\n   'sending_traffic_logs_time': 0.002607},\n  '30': {'calculating_average_traffic_time': 0.000822,\n   'average_traffic_block_size': 431,\n   'local_blockchain_data_size': 2229,\n   'global_blockchain_data_sze': 454,\n   'sending_traffic_logs_time': 0.000445},\n  '40': {'calculating_average_traffic_time': 0.000415,\n   'average_traffic_block_size': 447,\n   'local_blockchain_data_size': 2822,\n   'global_blockchain_data_sze': 470,\n   'sending_traffic_logs_time': 0.000385},\n  '60': {'calculating_average_traffic_time': 0.000437,\n   'average_traffic_block_size': 518,\n   'local_blockchain_data_size': 4050,\n   'global_blockchain_data_sze': 541,\n   'sending_traffic_logs_time': 0.00049},\n  '80': {'calculating_average_traffic_time': 0.000933,\n   'average_traffic_block_size': 535,\n   'local_blockchain_data_size': 5228,\n   'global_blockchain_data_sze': 558,\n   'sending_traffic_logs_time': 0.002575},\n  '100': {'calculating_average_traffic_time': 0.000718,\n   'average_traffic_block_size': 512,\n   'local_blockchain_data_size': 6364,\n   'global_blockchain_data_sze': 535,\n   'sending_traffic_logs_time': 0.001181},\n  '150': {'calculating_average_traffic_time': 0.00105,\n   'average_traffic_block_size': 552,\n   'local_blockchain_data_size': 9298,\n   'global_blockchain_data_sze': 575,\n   'sending_traffic_logs_time': 0.004014},\n  '200': {'calculating_average_traffic_time': 0.001978,\n   'average_traffic_block_size': 561,\n   'local_blockchain_data_size': 12206,\n   'global_blockchain_data_sze': 584,\n   'sending_traffic_logs_time': 0.002341},\n  '1': {'calculating_average_traffic_time': 0.000195,\n   'average_traffic_block_size': 389,\n   'local_blockchain_data_size': 507,\n   'global_blockchain_data_sze': 412,\n   'sending_traffic_logs_time': 1.6e-05},\n  '5': {'calculating_average_traffic_time': 0.000161,\n   'average_traffic_block_size': 393,\n   'local_blockchain_data_size': 743,\n   'global_blockchain_data_sze': 416,\n   'sending_traffic_logs_time': 0.000151}},\n 'nh2': {'10': {'calculating_average_traffic_time': 0.000308,\n   'average_traffic_block_size': 566,\n   'local_blockchain_data_size': 1206,\n   'global_blockchain_data_sze': 589,\n   'sending_traffic_logs_time': 0.000136},\n  '20': {'calculating_average_traffic_time': 0.000282,\n   'average_traffic_block_size': 584,\n   'local_blockchain_data_size': 1802,\n   'global_blockchain_data_sze': 607,\n   'sending_traffic_logs_time': 0.000635},\n  '30': {'calculating_average_traffic_time': 0.000887,\n   'average_traffic_block_size': 574,\n   'local_blockchain_data_size': 2370,\n   'global_blockchain_data_sze': 597,\n   'sending_traffic_logs_time': 0.000304},\n  '40': {'calculating_average_traffic_time': 0.001535,\n   'average_traffic_block_size': 607,\n   'local_blockchain_data_size': 2983,\n   'global_blockchain_data_sze': 630,\n   'sending_traffic_logs_time': 0.000266},\n  '60': {'calculating_average_traffic_time': 0.000994,\n   'average_traffic_block_size': 666,\n   'local_blockchain_data_size': 4197,\n   'global_blockchain_data_sze': 689,\n   'sending_traffic_logs_time': 0.000574},\n  '80': {'calculating_average_traffic_time': 0.000597,\n   'average_traffic_block_size': 626,\n   'local_blockchain_data_size': 5320,\n   'global_blockchain_data_sze': 649,\n   'sending_traffic_logs_time': 0.00074},\n  '100': {'calculating_average_traffic_time': 0.000947,\n   'average_traffic_block_size': 634,\n   'local_blockchain_data_size': 6480,\n   'global_blockchain_data_sze': 657,\n   'sending_traffic_logs_time': 0.000933},\n  '150': {'calculating_average_traffic_time': 0.002036,\n   'average_traffic_block_size': 718,\n   'local_blockchain_data_size': 9466,\n   'global_blockchain_data_sze': 741,\n   'sending_traffic_logs_time': 0.000598},\n  '200': {'calculating_average_traffic_time': 0.002515,\n   'average_traffic_block_size': 754,\n   'local_blockchain_data_size': 12406,\n   'global_blockchain_data_sze': 777,\n   'sending_traffic_logs_time': 0.000905},\n  '1': {'calculating_average_traffic_time': 0.000179,\n   'average_traffic_block_size': 559,\n   'local_blockchain_data_size': 677,\n   'global_blockchain_data_sze': 582,\n   'sending_traffic_logs_time': 3.2e-05},\n  '5': {'calculating_average_traffic_time': 0.000245,\n   'average_traffic_block_size': 562,\n   'local_blockchain_data_size': 911,\n   'global_blockchain_data_sze': 585,\n   'sending_traffic_logs_time': 9.3e-05}},\n 'nh3': {'10': {'calculating_average_traffic_time': 0.000167,\n   'average_traffic_block_size': 599,\n   'local_blockchain_data_size': 1250,\n   'global_blockchain_data_sze': 622,\n   'sending_traffic_logs_time': 6.3e-05},\n  '20': {'calculating_average_traffic_time': 0.000193,\n   'average_traffic_block_size': 616,\n   'local_blockchain_data_size': 1849,\n   'global_blockchain_data_sze': 639,\n   'sending_traffic_logs_time': 9.4e-05},\n  '30': {'calculating_average_traffic_time': 0.000549,\n   'average_traffic_block_size': 611,\n   'local_blockchain_data_size': 2443,\n   'global_blockchain_data_sze': 634,\n   'sending_traffic_logs_time': 0.000565},\n  '40': {'calculating_average_traffic_time': 0.000404,\n   'average_traffic_block_size': 663,\n   'local_blockchain_data_size': 3085,\n   'global_blockchain_data_sze': 686,\n   'sending_traffic_logs_time': 0.000262},\n  '60': {'calculating_average_traffic_time': 0.001106,\n   'average_traffic_block_size': 657,\n   'local_blockchain_data_size': 4258,\n   'global_blockchain_data_sze': 680,\n   'sending_traffic_logs_time': 0.000243},\n  '80': {'calculating_average_traffic_time': 0.000562,\n   'average_traffic_block_size': 731,\n   'local_blockchain_data_size': 5507,\n   'global_blockchain_data_sze': 754,\n   'sending_traffic_logs_time': 0.000415},\n  '100': {'calculating_average_traffic_time': 0.001463,\n   'average_traffic_block_size': 771,\n   'local_blockchain_data_size': 6744,\n   'global_blockchain_data_sze': 794,\n   'sending_traffic_logs_time': 0.00041},\n  '150': {'calculating_average_traffic_time': 0.002602,\n   'average_traffic_block_size': 734,\n   'local_blockchain_data_size': 9657,\n   'global_blockchain_data_sze': 757,\n   'sending_traffic_logs_time': 0.004157},\n  '200': {'calculating_average_traffic_time': 0.001838,\n   'average_traffic_block_size': 774,\n   'local_blockchain_data_size': 12631,\n   'global_blockchain_data_sze': 797,\n   'sending_traffic_logs_time': 0.001572},\n  '1': {'calculating_average_traffic_time': 0.000279,\n   'average_traffic_block_size': 592,\n   'local_blockchain_data_size': 712,\n   'global_blockchain_data_sze': 615,\n   'sending_traffic_logs_time': 3.7e-05},\n  '5': {'calculating_average_traffic_time': 0.000192,\n   'average_traffic_block_size': 595,\n   'local_blockchain_data_size': 949,\n   'global_blockchain_data_sze': 618,\n   'sending_traffic_logs_time': 0.000111}},\n 'nh4': {'10': {'calculating_average_traffic_time': 0.000249,\n   'average_traffic_block_size': 792,\n   'local_blockchain_data_size': 1444,\n   'global_blockchain_data_sze': 815,\n   'sending_traffic_logs_time': 6.9e-05},\n  '20': {'calculating_average_traffic_time': 0.000479,\n   'average_traffic_block_size': 825,\n   'local_blockchain_data_size': 2072,\n   'global_blockchain_data_sze': 848,\n   'sending_traffic_logs_time': 0.000213},\n  '30': {'calculating_average_traffic_time': 0.000384,\n   'average_traffic_block_size': 820,\n   'local_blockchain_data_size': 2660,\n   'global_blockchain_data_sze': 843,\n   'sending_traffic_logs_time': 0.00013},\n  '40': {'calculating_average_traffic_time': 0.000826,\n   'average_traffic_block_size': 825,\n   'local_blockchain_data_size': 3255,\n   'global_blockchain_data_sze': 848,\n   'sending_traffic_logs_time': 0.000168},\n  '60': {'calculating_average_traffic_time': 0.00133,\n   'average_traffic_block_size': 855,\n   'local_blockchain_data_size': 4483,\n   'global_blockchain_data_sze': 878,\n   'sending_traffic_logs_time': 0.000242},\n  '80': {'calculating_average_traffic_time': 0.001741,\n   'average_traffic_block_size': 901,\n   'local_blockchain_data_size': 5705,\n   'global_blockchain_data_sze': 924,\n   'sending_traffic_logs_time': 0.000463},\n  '100': {'calculating_average_traffic_time': 0.001084,\n   'average_traffic_block_size': 960,\n   'local_blockchain_data_size': 6953,\n   'global_blockchain_data_sze': 983,\n   'sending_traffic_logs_time': 0.000493},\n  '150': {'calculating_average_traffic_time': 0.002192,\n   'average_traffic_block_size': 871,\n   'local_blockchain_data_size': 9825,\n   'global_blockchain_data_sze': 894,\n   'sending_traffic_logs_time': 0.00059},\n  '200': {'calculating_average_traffic_time': 0.003427,\n   'average_traffic_block_size': 1037,\n   'local_blockchain_data_size': 12958,\n   'global_blockchain_data_sze': 1060,\n   'sending_traffic_logs_time': 0.001015},\n  '1': {'calculating_average_traffic_time': 0.000274,\n   'average_traffic_block_size': 786,\n   'local_blockchain_data_size': 905,\n   'global_blockchain_data_sze': 809,\n   'sending_traffic_logs_time': 6.6e-05},\n  '5': {'calculating_average_traffic_time': 0.000364,\n   'average_traffic_block_size': 790,\n   'local_blockchain_data_size': 1147,\n   'global_blockchain_data_sze': 813,\n   'sending_traffic_logs_time': 0.000102}},\n 'nh5': {'10': {'calculating_average_traffic_time': 0.000532,\n   'average_traffic_block_size': 969,\n   'local_blockchain_data_size': 1619,\n   'global_blockchain_data_sze': 992,\n   'sending_traffic_logs_time': 5.1e-05},\n  '20': {'calculating_average_traffic_time': 0.000746,\n   'average_traffic_block_size': 978,\n   'local_blockchain_data_size': 2221,\n   'global_blockchain_data_sze': 1001,\n   'sending_traffic_logs_time': 8.9e-05},\n  '30': {'calculating_average_traffic_time': 0.00059,\n   'average_traffic_block_size': 981,\n   'local_blockchain_data_size': 2819,\n   'global_blockchain_data_sze': 1004,\n   'sending_traffic_logs_time': 0.000185},\n  '40': {'calculating_average_traffic_time': 0.001457,\n   'average_traffic_block_size': 982,\n   'local_blockchain_data_size': 3399,\n   'global_blockchain_data_sze': 1005,\n   'sending_traffic_logs_time': 0.000201},\n  '60': {'calculating_average_traffic_time': 0.002148,\n   'average_traffic_block_size': 1037,\n   'local_blockchain_data_size': 4653,\n   'global_blockchain_data_sze': 1060,\n   'sending_traffic_logs_time': 0.000248},\n  '80': {'calculating_average_traffic_time': 0.001285,\n   'average_traffic_block_size': 1055,\n   'local_blockchain_data_size': 5855,\n   'global_blockchain_data_sze': 1078,\n   'sending_traffic_logs_time': 0.000324},\n  '100': {'calculating_average_traffic_time': 0.002203,\n   'average_traffic_block_size': 1046,\n   'local_blockchain_data_size': 7019,\n   'global_blockchain_data_sze': 1069,\n   'sending_traffic_logs_time': 0.000413},\n  '150': {'calculating_average_traffic_time': 0.003059,\n   'average_traffic_block_size': 1188,\n   'local_blockchain_data_size': 10115,\n   'global_blockchain_data_sze': 1211,\n   'sending_traffic_logs_time': 0.002428},\n  '200': {'calculating_average_traffic_time': 0.003301,\n   'average_traffic_block_size': 1210,\n   'local_blockchain_data_size': 13110,\n   'global_blockchain_data_sze': 1233,\n   'sending_traffic_logs_time': 0.001151},\n  '1': {'calculating_average_traffic_time': 0.000608,\n   'average_traffic_block_size': 962,\n   'local_blockchain_data_size': 1082,\n   'global_blockchain_data_sze': 985,\n   'sending_traffic_logs_time': 3.4e-05},\n  '5': {'calculating_average_traffic_time': 0.00054,\n   'average_traffic_block_size': 966,\n   'local_blockchain_data_size': 1322,\n   'global_blockchain_data_sze': 989,\n   'sending_traffic_logs_time': 0.000244}},\n 'nh6': {'10': {'calculating_average_traffic_time': 0.000514,\n   'average_traffic_block_size': 1261,\n   'local_blockchain_data_size': 1918,\n   'global_blockchain_data_sze': 1284,\n   'sending_traffic_logs_time': 0.000125},\n  '20': {'calculating_average_traffic_time': 0.000414,\n   'average_traffic_block_size': 1268,\n   'local_blockchain_data_size': 2513,\n   'global_blockchain_data_sze': 1291,\n   'sending_traffic_logs_time': 9.3e-05},\n  '30': {'calculating_average_traffic_time': 0.000495,\n   'average_traffic_block_size': 1272,\n   'local_blockchain_data_size': 3114,\n   'global_blockchain_data_sze': 1295,\n   'sending_traffic_logs_time': 0.000132},\n  '40': {'calculating_average_traffic_time': 0.001439,\n   'average_traffic_block_size': 1293,\n   'local_blockchain_data_size': 3726,\n   'global_blockchain_data_sze': 1316,\n   'sending_traffic_logs_time': 0.00032},\n  '60': {'calculating_average_traffic_time': 0.002737,\n   'average_traffic_block_size': 1315,\n   'local_blockchain_data_size': 4944,\n   'global_blockchain_data_sze': 1338,\n   'sending_traffic_logs_time': 0.001186},\n  '80': {'calculating_average_traffic_time': 0.000661,\n   'average_traffic_block_size': 1346,\n   'local_blockchain_data_size': 6159,\n   'global_blockchain_data_sze': 1369,\n   'sending_traffic_logs_time': 0.001399},\n  '100': {'calculating_average_traffic_time': 0.001747,\n   'average_traffic_block_size': 1358,\n   'local_blockchain_data_size': 7368,\n   'global_blockchain_data_sze': 1381,\n   'sending_traffic_logs_time': 0.000428},\n  '150': {'calculating_average_traffic_time': 0.005321,\n   'average_traffic_block_size': 1475,\n   'local_blockchain_data_size': 10443,\n   'global_blockchain_data_sze': 1498,\n   'sending_traffic_logs_time': 0.000638},\n  '200': {'calculating_average_traffic_time': 0.004698,\n   'average_traffic_block_size': 1524,\n   'local_blockchain_data_size': 13463,\n   'global_blockchain_data_sze': 1547,\n   'sending_traffic_logs_time': 0.001552},\n  '1': {'calculating_average_traffic_time': 0.000211,\n   'average_traffic_block_size': 1252,\n   'local_blockchain_data_size': 1372,\n   'global_blockchain_data_sze': 1275,\n   'sending_traffic_logs_time': 9.7e-05},\n  '5': {'calculating_average_traffic_time': 0.000689,\n   'average_traffic_block_size': 1254,\n   'local_blockchain_data_size': 1610,\n   'global_blockchain_data_sze': 1277,\n   'sending_traffic_logs_time': 8.8e-05}},\n 'nh7': {'10': {'calculating_average_traffic_time': 0.000569,\n   'average_traffic_block_size': 1529,\n   'local_blockchain_data_size': 2183,\n   'global_blockchain_data_sze': 1552,\n   'sending_traffic_logs_time': 0.000109},\n  '20': {'calculating_average_traffic_time': 0.000918,\n   'average_traffic_block_size': 1536,\n   'local_blockchain_data_size': 2779,\n   'global_blockchain_data_sze': 1559,\n   'sending_traffic_logs_time': 0.001338},\n  '30': {'calculating_average_traffic_time': 0.001217,\n   'average_traffic_block_size': 1541,\n   'local_blockchain_data_size': 3378,\n   'global_blockchain_data_sze': 1564,\n   'sending_traffic_logs_time': 0.000264},\n  '40': {'calculating_average_traffic_time': 0.000901,\n   'average_traffic_block_size': 1576,\n   'local_blockchain_data_size': 4006,\n   'global_blockchain_data_sze': 1599,\n   'sending_traffic_logs_time': 0.000179},\n  '60': {'calculating_average_traffic_time': 0.002626,\n   'average_traffic_block_size': 1571,\n   'local_blockchain_data_size': 5192,\n   'global_blockchain_data_sze': 1594,\n   'sending_traffic_logs_time': 0.0003},\n  '80': {'calculating_average_traffic_time': 0.003861,\n   'average_traffic_block_size': 1622,\n   'local_blockchain_data_size': 6426,\n   'global_blockchain_data_sze': 1645,\n   'sending_traffic_logs_time': 0.000339},\n  '100': {'calculating_average_traffic_time': 0.003794,\n   'average_traffic_block_size': 1617,\n   'local_blockchain_data_size': 7611,\n   'global_blockchain_data_sze': 1640,\n   'sending_traffic_logs_time': 0.000437},\n  '150': {'calculating_average_traffic_time': 0.004696,\n   'average_traffic_block_size': 1697,\n   'local_blockchain_data_size': 10644,\n   'global_blockchain_data_sze': 1720,\n   'sending_traffic_logs_time': 0.000986},\n  '200': {'calculating_average_traffic_time': 0.003885,\n   'average_traffic_block_size': 1802,\n   'local_blockchain_data_size': 13720,\n   'global_blockchain_data_sze': 1825,\n   'sending_traffic_logs_time': 0.000862},\n  '1': {'calculating_average_traffic_time': 0.000289,\n   'average_traffic_block_size': 1520,\n   'local_blockchain_data_size': 1640,\n   'global_blockchain_data_sze': 1543,\n   'sending_traffic_logs_time': 8.4e-05},\n  '5': {'calculating_average_traffic_time': 0.000333,\n   'average_traffic_block_size': 1523,\n   'local_blockchain_data_size': 1879,\n   'global_blockchain_data_sze': 1546,\n   'sending_traffic_logs_time': 0.000173}}}"
     },
     "execution_count": 7,
     "metadata": {},
     "output_type": "execute_result"
    }
   ],
   "source": [
    "from tqdm import tqdm\n",
    "\n",
    "# read the data from results file\n",
    "try:\n",
    "    with open('results/two_blockchains_scheme_results.json', 'r') as f:\n",
    "        results = json.load(f)\n",
    "except:\n",
    "    results = {}\n",
    "\n",
    "for nh, log_count  in tqdm(pairs):\n",
    "    if nh not in results.keys():\n",
    "        results[nh] = {}\n",
    "    if str(log_count) not in results[nh].keys():\n",
    "        results[nh][str(log_count)] = run_two_blockchains_scheme_simulation(nh, log_count)\n",
    "        with open('results/two_blockchains_scheme_results.json', 'w') as f:\n",
    "            json.dump(results, f)\n",
    "results"
   ],
   "metadata": {
    "collapsed": false,
    "ExecuteTime": {
     "end_time": "2024-05-26T12:11:08.132505Z",
     "start_time": "2024-05-26T12:06:22.387264Z"
    }
   },
   "id": "941c4e50c8487c17"
  },
  {
   "cell_type": "markdown",
   "source": [
    "### Partially Homomorphic Encryption Scheme Evaluations\n",
    "Let's create a function that runs the simulations and gives the results."
   ],
   "metadata": {
    "collapsed": false
   },
   "id": "8ede8f298e53ac7e"
  },
  {
   "cell_type": "code",
   "execution_count": 8,
   "outputs": [],
   "source": [
    "import PartialHomomorphyScheme\n",
    "\n",
    "def run_partially_homomorphic_encryption_scheme_simulation(neighborhood, speed_log_count, traffic_update_interval_in_seconds=speed_log_count/1.5):\n",
    "    sim = PartialHomomorphyScheme.Simulation(neighborhood, quiet=True, random_speed_log_count=speed_log_count,sleep_time=0.2, traffic_update_interval_in_seconds=traffic_update_interval_in_seconds)\n",
    "    sim.run()\n",
    "    data = sim.get_simulation_data()\n",
    "    sim.end_run()\n",
    "    return data"
   ],
   "metadata": {
    "collapsed": false,
    "ExecuteTime": {
     "end_time": "2024-05-26T12:11:08.160696Z",
     "start_time": "2024-05-26T12:11:08.095293Z"
    }
   },
   "id": "4e478b7f90c78679"
  },
  {
   "cell_type": "markdown",
   "source": [
    "Run the simulation for all pairs. Starting from the last run."
   ],
   "metadata": {
    "collapsed": false
   },
   "id": "faa8be0a1fc540d1"
  },
  {
   "cell_type": "code",
   "execution_count": 10,
   "outputs": [
    {
     "name": "stderr",
     "output_type": "stream",
     "text": [
      "  0%|          | 0/77 [00:00<?, ?it/s]"
     ]
    },
    {
     "name": "stdout",
     "output_type": "stream",
     "text": [
      "====================nh1 - 1====================\n",
      "Already exists\n",
      "====================nh1 - 5====================\n",
      "Already exists\n",
      "====================nh1 - 10====================\n",
      "Already exists\n",
      "====================nh1 - 20====================\n",
      "Already exists\n",
      "====================nh1 - 30====================\n",
      "Already exists\n",
      "====================nh1 - 40====================\n",
      "Already exists\n",
      "====================nh1 - 60====================\n",
      "Already exists\n",
      "====================nh1 - 80====================\n",
      "Already exists\n",
      "====================nh1 - 100====================\n",
      "Already exists\n",
      "====================nh1 - 150====================\n",
      "Already exists\n",
      "====================nh1 - 200====================\n",
      "Already exists\n",
      "====================nh2 - 1====================\n",
      "Already exists\n",
      "====================nh2 - 5====================\n"
     ]
    },
    {
     "name": "stderr",
     "output_type": "stream",
     "text": [
      "\n",
      "  0%|          | 0/30 [00:00<?, ?it/s]\u001B[A\n",
      "  3%|▎         | 1/30 [00:01<00:44,  1.55s/it]\u001B[A\n",
      "  7%|▋         | 2/30 [00:03<00:43,  1.54s/it]\u001B[A\n",
      " 10%|█         | 3/30 [00:04<00:41,  1.54s/it]\u001B[A\n",
      " 13%|█▎        | 4/30 [00:06<00:39,  1.53s/it]\u001B[A\n",
      " 17%|█▋        | 5/30 [00:07<00:38,  1.53s/it]\u001B[A\n",
      " 20%|██        | 6/30 [00:09<00:36,  1.53s/it]\u001B[A\n",
      " 23%|██▎       | 7/30 [00:10<00:35,  1.53s/it]\u001B[A\n",
      " 27%|██▋       | 8/30 [00:12<00:33,  1.53s/it]\u001B[A\n",
      " 30%|███       | 9/30 [00:13<00:32,  1.53s/it]\u001B[A\n",
      " 33%|███▎      | 10/30 [00:15<00:30,  1.53s/it]\u001B[A\n",
      " 37%|███▋      | 11/30 [00:16<00:29,  1.53s/it]\u001B[A\n",
      " 40%|████      | 12/30 [00:18<00:27,  1.53s/it]\u001B[A\n",
      " 43%|████▎     | 13/30 [00:19<00:26,  1.53s/it]\u001B[A\n",
      " 47%|████▋     | 14/30 [00:21<00:24,  1.53s/it]\u001B[A\n",
      " 50%|█████     | 15/30 [00:23<00:23,  1.53s/it]\u001B[A\n",
      " 53%|█████▎    | 16/30 [00:24<00:21,  1.53s/it]\u001B[A\n",
      " 57%|█████▋    | 17/30 [00:26<00:19,  1.53s/it]\u001B[A\n",
      " 60%|██████    | 18/30 [00:27<00:18,  1.53s/it]\u001B[A\n",
      " 63%|██████▎   | 19/30 [00:29<00:16,  1.53s/it]\u001B[A\n",
      " 67%|██████▋   | 20/30 [00:30<00:15,  1.53s/it]\u001B[A\n",
      " 70%|███████   | 21/30 [00:32<00:13,  1.53s/it]\u001B[A\n",
      " 73%|███████▎  | 22/30 [00:33<00:12,  1.53s/it]\u001B[A\n",
      " 77%|███████▋  | 23/30 [00:35<00:10,  1.53s/it]\u001B[A\n",
      " 80%|████████  | 24/30 [00:36<00:09,  1.53s/it]\u001B[A\n",
      " 83%|████████▎ | 25/30 [00:38<00:07,  1.53s/it]\u001B[A\n",
      " 87%|████████▋ | 26/30 [00:39<00:06,  1.54s/it]\u001B[A\n",
      " 90%|█████████ | 27/30 [00:41<00:04,  1.54s/it]\u001B[A\n",
      " 93%|█████████▎| 28/30 [00:42<00:03,  1.54s/it]\u001B[A\n",
      " 97%|█████████▋| 29/30 [00:44<00:01,  1.53s/it]\u001B[A\n",
      "100%|██████████| 30/30 [00:46<00:00,  1.53s/it]\u001B[A\n",
      "\n",
      "  0%|          | 0/30 [00:00<?, ?it/s]\u001B[A\n",
      "  3%|▎         | 1/30 [00:01<00:56,  1.96s/it]\u001B[A\n",
      "  7%|▋         | 2/30 [00:03<00:47,  1.71s/it]\u001B[A\n",
      " 10%|█         | 3/30 [00:05<00:44,  1.63s/it]\u001B[A\n",
      " 13%|█▎        | 4/30 [00:06<00:41,  1.59s/it]\u001B[A\n",
      " 17%|█▋        | 5/30 [00:08<00:39,  1.57s/it]\u001B[A\n",
      " 20%|██        | 6/30 [00:09<00:37,  1.56s/it]\u001B[A\n",
      " 23%|██▎       | 7/30 [00:11<00:35,  1.55s/it]\u001B[A\n",
      " 27%|██▋       | 8/30 [00:12<00:33,  1.54s/it]\u001B[A\n",
      " 30%|███       | 9/30 [00:14<00:32,  1.54s/it]\u001B[A\n",
      " 33%|███▎      | 10/30 [00:15<00:30,  1.54s/it]\u001B[A\n",
      " 37%|███▋      | 11/30 [00:17<00:29,  1.54s/it]\u001B[A\n",
      " 40%|████      | 12/30 [00:18<00:27,  1.54s/it]\u001B[A\n",
      " 43%|████▎     | 13/30 [00:20<00:26,  1.53s/it]\u001B[A\n",
      " 47%|████▋     | 14/30 [00:21<00:24,  1.53s/it]\u001B[A\n",
      " 50%|█████     | 15/30 [00:23<00:23,  1.53s/it]\u001B[A\n",
      " 53%|█████▎    | 16/30 [00:24<00:21,  1.53s/it]\u001B[A\n",
      " 57%|█████▋    | 17/30 [00:26<00:19,  1.53s/it]\u001B[A\n",
      " 60%|██████    | 18/30 [00:28<00:18,  1.53s/it]\u001B[A\n",
      " 63%|██████▎   | 19/30 [00:29<00:16,  1.53s/it]\u001B[A\n",
      " 67%|██████▋   | 20/30 [00:31<00:15,  1.53s/it]\u001B[A\n",
      " 70%|███████   | 21/30 [00:32<00:13,  1.53s/it]\u001B[A\n",
      " 73%|███████▎  | 22/30 [00:34<00:12,  1.53s/it]\u001B[A\n",
      " 77%|███████▋  | 23/30 [00:35<00:10,  1.53s/it]\u001B[A\n",
      " 80%|████████  | 24/30 [00:37<00:09,  1.53s/it]\u001B[A\n",
      " 83%|████████▎ | 25/30 [00:38<00:07,  1.53s/it]\u001B[A\n",
      " 87%|████████▋ | 26/30 [00:40<00:06,  1.53s/it]\u001B[A\n",
      " 90%|█████████ | 27/30 [00:41<00:04,  1.53s/it]\u001B[A\n",
      " 93%|█████████▎| 28/30 [00:43<00:03,  1.53s/it]\u001B[A\n",
      " 97%|█████████▋| 29/30 [00:44<00:01,  1.53s/it]\u001B[A\n",
      "100%|██████████| 30/30 [00:46<00:00,  1.55s/it]\u001B[A\n",
      "\n",
      "100%|██████████| 30/30 [00:00<00:00, 195995.51it/s]\n",
      "\n",
      "100%|██████████| 30/30 [00:00<00:00, 416652.72it/s]\n",
      " 17%|█▋        | 13/77 [04:11<20:39, 19.37s/it]"
     ]
    },
    {
     "name": "stdout",
     "output_type": "stream",
     "text": [
      "====================nh2 - 10====================\n",
      "Already exists\n",
      "====================nh2 - 20====================\n",
      "Already exists\n",
      "====================nh2 - 30====================\n",
      "Already exists\n",
      "====================nh2 - 40====================\n",
      "Already exists\n",
      "====================nh2 - 60====================\n",
      "Already exists\n",
      "====================nh2 - 80====================\n",
      "Already exists\n",
      "====================nh2 - 100====================\n",
      "Already exists\n",
      "====================nh2 - 150====================\n",
      "Already exists\n",
      "====================nh2 - 200====================\n",
      "Already exists\n",
      "====================nh3 - 1====================\n"
     ]
    },
    {
     "name": "stderr",
     "output_type": "stream",
     "text": [
      "\n",
      "  0%|          | 0/30 [00:00<?, ?it/s]\u001B[A\n",
      "  3%|▎         | 1/30 [00:01<00:35,  1.22s/it]\u001B[A\n",
      "  7%|▋         | 2/30 [00:02<00:33,  1.20s/it]\u001B[A\n",
      " 10%|█         | 3/30 [00:03<00:32,  1.20s/it]\u001B[A\n",
      " 13%|█▎        | 4/30 [00:04<00:31,  1.19s/it]\u001B[A\n",
      " 17%|█▋        | 5/30 [00:05<00:29,  1.19s/it]\u001B[A\n",
      " 20%|██        | 6/30 [00:07<00:28,  1.20s/it]\u001B[A\n",
      " 23%|██▎       | 7/30 [00:08<00:27,  1.19s/it]\u001B[A\n",
      " 27%|██▋       | 8/30 [00:09<00:26,  1.19s/it]\u001B[A\n",
      " 30%|███       | 9/30 [00:10<00:24,  1.19s/it]\u001B[A\n",
      " 33%|███▎      | 10/30 [00:11<00:23,  1.18s/it]\u001B[A\n",
      " 37%|███▋      | 11/30 [00:13<00:22,  1.18s/it]\u001B[A\n",
      " 40%|████      | 12/30 [00:14<00:21,  1.18s/it]\u001B[A\n",
      " 43%|████▎     | 13/30 [00:15<00:20,  1.18s/it]\u001B[A\n",
      " 47%|████▋     | 14/30 [00:16<00:18,  1.18s/it]\u001B[A\n",
      " 50%|█████     | 15/30 [00:17<00:17,  1.19s/it]\u001B[A\n",
      " 53%|█████▎    | 16/30 [00:19<00:16,  1.19s/it]\u001B[A\n",
      " 57%|█████▋    | 17/30 [00:20<00:15,  1.19s/it]\u001B[A\n",
      " 60%|██████    | 18/30 [00:21<00:14,  1.19s/it]\u001B[A\n",
      " 63%|██████▎   | 19/30 [00:22<00:13,  1.19s/it]\u001B[A\n",
      " 67%|██████▋   | 20/30 [00:23<00:11,  1.18s/it]\u001B[A\n",
      " 70%|███████   | 21/30 [00:24<00:10,  1.18s/it]\u001B[A\n",
      " 73%|███████▎  | 22/30 [00:26<00:09,  1.18s/it]\u001B[A\n",
      " 77%|███████▋  | 23/30 [00:27<00:08,  1.18s/it]\u001B[A\n",
      " 80%|████████  | 24/30 [00:28<00:07,  1.19s/it]\u001B[A\n",
      " 83%|████████▎ | 25/30 [00:29<00:05,  1.19s/it]\u001B[A\n",
      " 87%|████████▋ | 26/30 [00:30<00:04,  1.19s/it]\u001B[A\n",
      " 90%|█████████ | 27/30 [00:32<00:03,  1.19s/it]\u001B[A\n",
      " 93%|█████████▎| 28/30 [00:33<00:02,  1.20s/it]\u001B[A\n",
      " 97%|█████████▋| 29/30 [00:34<00:01,  1.20s/it]\u001B[A\n",
      "100%|██████████| 30/30 [00:35<00:00,  1.19s/it]\u001B[A\n",
      "\n",
      "  0%|          | 0/30 [00:00<?, ?it/s]\u001B[A\n",
      "  3%|▎         | 1/30 [00:02<00:56,  1.96s/it]\u001B[A\n",
      "  7%|▋         | 2/30 [00:03<00:53,  1.91s/it]\u001B[A\n",
      " 10%|█         | 3/30 [00:05<00:42,  1.58s/it]\u001B[A\n",
      " 13%|█▎        | 4/30 [00:06<00:37,  1.45s/it]\u001B[A\n",
      " 17%|█▋        | 5/30 [00:07<00:34,  1.37s/it]\u001B[A\n",
      " 20%|██        | 6/30 [00:08<00:31,  1.32s/it]\u001B[A\n",
      " 23%|██▎       | 7/30 [00:09<00:29,  1.27s/it]\u001B[A\n",
      " 27%|██▋       | 8/30 [00:11<00:27,  1.25s/it]\u001B[A\n",
      " 30%|███       | 9/30 [00:12<00:25,  1.22s/it]\u001B[A\n",
      " 33%|███▎      | 10/30 [00:13<00:24,  1.21s/it]\u001B[A\n",
      " 37%|███▋      | 11/30 [00:14<00:22,  1.21s/it]\u001B[A\n",
      " 40%|████      | 12/30 [00:15<00:21,  1.20s/it]\u001B[A\n",
      " 43%|████▎     | 13/30 [00:16<00:20,  1.19s/it]\u001B[A\n",
      " 47%|████▋     | 14/30 [00:18<00:18,  1.19s/it]\u001B[A\n",
      " 50%|█████     | 15/30 [00:19<00:17,  1.18s/it]\u001B[A\n",
      " 53%|█████▎    | 16/30 [00:20<00:16,  1.18s/it]\u001B[A\n",
      " 57%|█████▋    | 17/30 [00:21<00:15,  1.18s/it]\u001B[A\n",
      " 60%|██████    | 18/30 [00:22<00:14,  1.18s/it]\u001B[A\n",
      " 63%|██████▎   | 19/30 [00:24<00:13,  1.19s/it]\u001B[A\n",
      " 67%|██████▋   | 20/30 [00:25<00:11,  1.19s/it]\u001B[A\n",
      " 70%|███████   | 21/30 [00:26<00:10,  1.19s/it]\u001B[A\n",
      " 73%|███████▎  | 22/30 [00:27<00:09,  1.19s/it]\u001B[A\n",
      " 77%|███████▋  | 23/30 [00:28<00:08,  1.18s/it]\u001B[A\n",
      " 80%|████████  | 24/30 [00:30<00:07,  1.18s/it]\u001B[A\n",
      " 83%|████████▎ | 25/30 [00:31<00:05,  1.18s/it]\u001B[A\n",
      " 87%|████████▋ | 26/30 [00:32<00:04,  1.18s/it]\u001B[A\n",
      " 90%|█████████ | 27/30 [00:33<00:03,  1.18s/it]\u001B[A\n",
      " 93%|█████████▎| 28/30 [00:34<00:02,  1.18s/it]\u001B[A\n",
      " 97%|█████████▋| 29/30 [00:35<00:01,  1.18s/it]\u001B[A\n",
      "100%|██████████| 30/30 [00:37<00:00,  1.24s/it]\u001B[A\n",
      "\n",
      "100%|██████████| 30/30 [00:00<00:00, 55998.72it/s]\n",
      "\n",
      "100%|██████████| 30/30 [00:00<00:00, 249660.95it/s]\n",
      " 30%|██▉       | 23/77 [08:03<19:14, 21.38s/it]"
     ]
    },
    {
     "name": "stdout",
     "output_type": "stream",
     "text": [
      "====================nh3 - 5====================\n"
     ]
    },
    {
     "name": "stderr",
     "output_type": "stream",
     "text": [
      "\n",
      "  0%|          | 0/30 [00:00<?, ?it/s]\u001B[A\n",
      "  3%|▎         | 1/30 [00:01<00:35,  1.22s/it]\u001B[A\n",
      "  7%|▋         | 2/30 [00:02<00:33,  1.20s/it]\u001B[A\n",
      " 10%|█         | 3/30 [00:03<00:32,  1.19s/it]\u001B[A\n",
      " 13%|█▎        | 4/30 [00:04<00:31,  1.21s/it]\u001B[A\n",
      " 17%|█▋        | 5/30 [00:05<00:29,  1.20s/it]\u001B[A\n",
      " 20%|██        | 6/30 [00:07<00:28,  1.20s/it]\u001B[A\n",
      " 23%|██▎       | 7/30 [00:08<00:27,  1.20s/it]\u001B[A\n",
      " 27%|██▋       | 8/30 [00:09<00:26,  1.20s/it]\u001B[A\n",
      " 30%|███       | 9/30 [00:10<00:25,  1.20s/it]\u001B[A\n",
      " 33%|███▎      | 10/30 [00:11<00:24,  1.20s/it]\u001B[A\n",
      " 37%|███▋      | 11/30 [00:13<00:22,  1.20s/it]\u001B[A\n",
      " 40%|████      | 12/30 [00:14<00:21,  1.20s/it]\u001B[A\n",
      " 43%|████▎     | 13/30 [00:15<00:20,  1.20s/it]\u001B[A\n",
      " 47%|████▋     | 14/30 [00:16<00:19,  1.20s/it]\u001B[A\n",
      " 50%|█████     | 15/30 [00:18<00:18,  1.21s/it]\u001B[A\n",
      " 53%|█████▎    | 16/30 [00:19<00:16,  1.21s/it]\u001B[A\n",
      " 57%|█████▋    | 17/30 [00:20<00:15,  1.21s/it]\u001B[A\n",
      " 60%|██████    | 18/30 [00:21<00:14,  1.20s/it]\u001B[A\n",
      " 63%|██████▎   | 19/30 [00:22<00:13,  1.21s/it]\u001B[A\n",
      " 67%|██████▋   | 20/30 [00:24<00:12,  1.21s/it]\u001B[A\n",
      " 70%|███████   | 21/30 [00:25<00:10,  1.20s/it]\u001B[A\n",
      " 73%|███████▎  | 22/30 [00:26<00:09,  1.20s/it]\u001B[A\n",
      " 77%|███████▋  | 23/30 [00:27<00:08,  1.20s/it]\u001B[A\n",
      " 80%|████████  | 24/30 [00:28<00:07,  1.21s/it]\u001B[A\n",
      " 83%|████████▎ | 25/30 [00:30<00:06,  1.20s/it]\u001B[A\n",
      " 87%|████████▋ | 26/30 [00:31<00:04,  1.20s/it]\u001B[A\n",
      " 90%|█████████ | 27/30 [00:32<00:03,  1.20s/it]\u001B[A\n",
      " 93%|█████████▎| 28/30 [00:33<00:02,  1.20s/it]\u001B[A\n",
      " 97%|█████████▋| 29/30 [00:34<00:01,  1.20s/it]\u001B[A\n",
      "100%|██████████| 30/30 [00:36<00:00,  1.20s/it]\u001B[A\n",
      "\n",
      "  0%|          | 0/30 [00:00<?, ?it/s]\u001B[A\n",
      "  3%|▎         | 1/30 [00:01<00:34,  1.20s/it]\u001B[A\n",
      "  7%|▋         | 2/30 [00:02<00:33,  1.21s/it]\u001B[A\n",
      " 10%|█         | 3/30 [00:03<00:33,  1.23s/it]\u001B[A\n",
      " 13%|█▎        | 4/30 [00:04<00:31,  1.22s/it]\u001B[A\n",
      " 17%|█▋        | 5/30 [00:06<00:30,  1.22s/it]\u001B[A\n",
      " 20%|██        | 6/30 [00:07<00:29,  1.22s/it]\u001B[A\n",
      " 23%|██▎       | 7/30 [00:08<00:27,  1.21s/it]\u001B[A\n",
      " 27%|██▋       | 8/30 [00:09<00:26,  1.20s/it]\u001B[A\n",
      " 30%|███       | 9/30 [00:10<00:25,  1.21s/it]\u001B[A\n",
      " 33%|███▎      | 10/30 [00:12<00:24,  1.22s/it]\u001B[A\n",
      " 37%|███▋      | 11/30 [00:13<00:23,  1.21s/it]\u001B[A\n",
      " 40%|████      | 12/30 [00:14<00:21,  1.21s/it]\u001B[A\n",
      " 43%|████▎     | 13/30 [00:15<00:20,  1.20s/it]\u001B[A\n",
      " 47%|████▋     | 14/30 [00:16<00:19,  1.20s/it]\u001B[A\n",
      " 50%|█████     | 15/30 [00:18<00:18,  1.20s/it]\u001B[A\n",
      " 53%|█████▎    | 16/30 [00:19<00:16,  1.20s/it]\u001B[A\n",
      " 57%|█████▋    | 17/30 [00:20<00:15,  1.20s/it]\u001B[A\n",
      " 60%|██████    | 18/30 [00:21<00:14,  1.20s/it]\u001B[A\n",
      " 63%|██████▎   | 19/30 [00:22<00:13,  1.20s/it]\u001B[A\n",
      " 67%|██████▋   | 20/30 [00:24<00:12,  1.20s/it]\u001B[A\n",
      " 70%|███████   | 21/30 [00:25<00:10,  1.21s/it]\u001B[A\n",
      " 73%|███████▎  | 22/30 [00:26<00:09,  1.20s/it]\u001B[A\n",
      " 77%|███████▋  | 23/30 [00:27<00:08,  1.21s/it]\u001B[A\n",
      " 80%|████████  | 24/30 [00:28<00:07,  1.21s/it]\u001B[A\n",
      " 83%|████████▎ | 25/30 [00:30<00:06,  1.20s/it]\u001B[A\n",
      " 87%|████████▋ | 26/30 [00:31<00:04,  1.20s/it]\u001B[A\n",
      " 90%|█████████ | 27/30 [00:32<00:03,  1.20s/it]\u001B[A\n",
      " 93%|█████████▎| 28/30 [00:33<00:02,  1.20s/it]\u001B[A\n",
      " 97%|█████████▋| 29/30 [00:35<00:01,  1.21s/it]\u001B[A\n",
      "100%|██████████| 30/30 [00:36<00:00,  1.21s/it]\u001B[A\n",
      "\n",
      "100%|██████████| 30/30 [00:00<00:00, 46226.72it/s]\n",
      "\n",
      "100%|██████████| 30/30 [00:00<00:00, 786432.00it/s]\n",
      " 31%|███       | 24/77 [11:53<31:42, 35.90s/it]"
     ]
    },
    {
     "name": "stdout",
     "output_type": "stream",
     "text": [
      "====================nh3 - 10====================\n",
      "Already exists\n",
      "====================nh3 - 20====================\n",
      "Already exists\n",
      "====================nh3 - 30====================\n",
      "Already exists\n",
      "====================nh3 - 40====================\n",
      "Already exists\n",
      "====================nh3 - 60====================\n",
      "Already exists\n",
      "====================nh3 - 80====================\n",
      "Already exists\n",
      "====================nh3 - 100====================\n",
      "Already exists\n",
      "====================nh3 - 150====================\n",
      "Already exists\n",
      "====================nh3 - 200====================\n",
      "Already exists\n",
      "====================nh4 - 1====================\n"
     ]
    },
    {
     "name": "stderr",
     "output_type": "stream",
     "text": [
      "\n",
      "  0%|          | 0/40 [00:00<?, ?it/s]\u001B[A\n",
      "  2%|▎         | 1/40 [00:01<00:47,  1.23s/it]\u001B[A\n",
      "  5%|▌         | 2/40 [00:02<00:46,  1.23s/it]\u001B[A\n",
      "  8%|▊         | 3/40 [00:03<00:44,  1.21s/it]\u001B[A\n",
      " 10%|█         | 4/40 [00:04<00:43,  1.20s/it]\u001B[A\n",
      " 12%|█▎        | 5/40 [00:06<00:41,  1.20s/it]\u001B[A\n",
      " 15%|█▌        | 6/40 [00:07<00:40,  1.19s/it]\u001B[A\n",
      " 18%|█▊        | 7/40 [00:08<00:39,  1.19s/it]\u001B[A\n",
      " 20%|██        | 8/40 [00:09<00:37,  1.19s/it]\u001B[A\n",
      " 22%|██▎       | 9/40 [00:10<00:37,  1.20s/it]\u001B[A\n",
      " 25%|██▌       | 10/40 [00:11<00:35,  1.20s/it]\u001B[A\n",
      " 28%|██▊       | 11/40 [00:13<00:34,  1.19s/it]\u001B[A\n",
      " 30%|███       | 12/40 [00:14<00:33,  1.19s/it]\u001B[A\n",
      " 32%|███▎      | 13/40 [00:15<00:32,  1.19s/it]\u001B[A\n",
      " 35%|███▌      | 14/40 [00:16<00:31,  1.20s/it]\u001B[A\n",
      " 38%|███▊      | 15/40 [00:17<00:29,  1.19s/it]\u001B[A\n",
      " 40%|████      | 16/40 [00:19<00:28,  1.20s/it]\u001B[A\n",
      " 42%|████▎     | 17/40 [00:20<00:29,  1.29s/it]\u001B[A\n",
      " 45%|████▌     | 18/40 [00:21<00:27,  1.27s/it]\u001B[A\n",
      " 48%|████▊     | 19/40 [00:23<00:26,  1.25s/it]\u001B[A\n",
      " 50%|█████     | 20/40 [00:24<00:24,  1.24s/it]\u001B[A\n",
      " 52%|█████▎    | 21/40 [00:25<00:23,  1.23s/it]\u001B[A\n",
      " 55%|█████▌    | 22/40 [00:26<00:21,  1.21s/it]\u001B[A\n",
      " 57%|█████▊    | 23/40 [00:27<00:20,  1.22s/it]\u001B[A\n",
      " 60%|██████    | 24/40 [00:29<00:19,  1.21s/it]\u001B[A\n",
      " 62%|██████▎   | 25/40 [00:30<00:18,  1.21s/it]\u001B[A\n",
      " 65%|██████▌   | 26/40 [00:31<00:16,  1.20s/it]\u001B[A\n",
      " 68%|██████▊   | 27/40 [00:32<00:15,  1.20s/it]\u001B[A\n",
      " 70%|███████   | 28/40 [00:33<00:14,  1.20s/it]\u001B[A\n",
      " 72%|███████▎  | 29/40 [00:35<00:13,  1.19s/it]\u001B[A\n",
      " 75%|███████▌  | 30/40 [00:36<00:12,  1.20s/it]\u001B[A\n",
      " 78%|███████▊  | 31/40 [00:37<00:10,  1.20s/it]\u001B[A\n",
      " 80%|████████  | 32/40 [00:38<00:09,  1.19s/it]\u001B[A\n",
      " 82%|████████▎ | 33/40 [00:39<00:08,  1.19s/it]\u001B[A\n",
      " 85%|████████▌ | 34/40 [00:41<00:07,  1.19s/it]\u001B[A\n",
      " 88%|████████▊ | 35/40 [00:42<00:05,  1.19s/it]\u001B[A\n",
      " 90%|█████████ | 36/40 [00:43<00:04,  1.20s/it]\u001B[A\n",
      " 92%|█████████▎| 37/40 [00:44<00:03,  1.20s/it]\u001B[A\n",
      " 95%|█████████▌| 38/40 [00:45<00:02,  1.20s/it]\u001B[A\n",
      " 98%|█████████▊| 39/40 [00:47<00:01,  1.19s/it]\u001B[A\n",
      "100%|██████████| 40/40 [00:48<00:00,  1.21s/it]\u001B[A\n",
      "\n",
      "  0%|          | 0/40 [00:00<?, ?it/s]\u001B[A\n",
      "  2%|▎         | 1/40 [00:01<00:54,  1.39s/it]\u001B[A\n",
      "  5%|▌         | 2/40 [00:03<00:57,  1.52s/it]\u001B[A\n",
      "  8%|▊         | 3/40 [00:04<00:51,  1.39s/it]\u001B[A\n",
      " 10%|█         | 4/40 [00:05<00:47,  1.31s/it]\u001B[A\n",
      " 12%|█▎        | 5/40 [00:06<00:44,  1.27s/it]\u001B[A\n",
      " 15%|█▌        | 6/40 [00:07<00:42,  1.24s/it]\u001B[A\n",
      " 18%|█▊        | 7/40 [00:09<00:40,  1.23s/it]\u001B[A\n",
      " 20%|██        | 8/40 [00:10<00:38,  1.21s/it]\u001B[A\n",
      " 22%|██▎       | 9/40 [00:11<00:37,  1.21s/it]\u001B[A\n",
      " 25%|██▌       | 10/40 [00:12<00:36,  1.20s/it]\u001B[A\n",
      " 28%|██▊       | 11/40 [00:13<00:34,  1.20s/it]\u001B[A\n",
      " 30%|███       | 12/40 [00:14<00:33,  1.19s/it]\u001B[A\n",
      " 32%|███▎      | 13/40 [00:16<00:32,  1.19s/it]\u001B[A\n",
      " 35%|███▌      | 14/40 [00:17<00:30,  1.18s/it]\u001B[A\n",
      " 38%|███▊      | 15/40 [00:18<00:29,  1.18s/it]\u001B[A\n",
      " 40%|████      | 16/40 [00:19<00:28,  1.18s/it]\u001B[A\n",
      " 42%|████▎     | 17/40 [00:20<00:27,  1.19s/it]\u001B[A\n",
      " 45%|████▌     | 18/40 [00:22<00:26,  1.19s/it]\u001B[A\n",
      " 48%|████▊     | 19/40 [00:23<00:24,  1.19s/it]\u001B[A\n",
      " 50%|█████     | 20/40 [00:24<00:23,  1.18s/it]\u001B[A\n",
      " 52%|█████▎    | 21/40 [00:25<00:22,  1.18s/it]\u001B[A\n",
      " 55%|█████▌    | 22/40 [00:26<00:21,  1.18s/it]\u001B[A\n",
      " 57%|█████▊    | 23/40 [00:27<00:19,  1.17s/it]\u001B[A\n",
      " 60%|██████    | 24/40 [00:29<00:18,  1.17s/it]\u001B[A\n",
      " 62%|██████▎   | 25/40 [00:30<00:17,  1.17s/it]\u001B[A\n",
      " 65%|██████▌   | 26/40 [00:31<00:16,  1.18s/it]\u001B[A\n",
      " 68%|██████▊   | 27/40 [00:32<00:15,  1.17s/it]\u001B[A\n",
      " 70%|███████   | 28/40 [00:33<00:14,  1.18s/it]\u001B[A\n",
      " 72%|███████▎  | 29/40 [00:34<00:12,  1.18s/it]\u001B[A\n",
      " 75%|███████▌  | 30/40 [00:36<00:11,  1.18s/it]\u001B[A\n",
      " 78%|███████▊  | 31/40 [00:37<00:10,  1.18s/it]\u001B[A\n",
      " 80%|████████  | 32/40 [00:38<00:09,  1.17s/it]\u001B[A\n",
      " 82%|████████▎ | 33/40 [00:39<00:08,  1.17s/it]\u001B[A\n",
      " 85%|████████▌ | 34/40 [00:40<00:07,  1.17s/it]\u001B[A\n",
      " 88%|████████▊ | 35/40 [00:42<00:05,  1.17s/it]\u001B[A\n",
      " 90%|█████████ | 36/40 [00:43<00:04,  1.17s/it]\u001B[A\n",
      " 92%|█████████▎| 37/40 [00:44<00:03,  1.17s/it]\u001B[A\n",
      " 95%|█████████▌| 38/40 [00:45<00:02,  1.17s/it]\u001B[A\n",
      " 98%|█████████▊| 39/40 [00:46<00:01,  1.17s/it]\u001B[A\n",
      "100%|██████████| 40/40 [00:47<00:00,  1.20s/it]\u001B[A\n",
      "\n",
      "100%|██████████| 40/40 [00:00<00:00, 12342.54it/s]\n",
      "\n",
      "100%|██████████| 40/40 [00:00<00:00, 769597.06it/s]\n",
      " 44%|████▍     | 34/77 [16:06<21:54, 30.57s/it]"
     ]
    },
    {
     "name": "stdout",
     "output_type": "stream",
     "text": [
      "====================nh4 - 5====================\n"
     ]
    },
    {
     "name": "stderr",
     "output_type": "stream",
     "text": [
      "\n",
      "  0%|          | 0/40 [00:00<?, ?it/s]\u001B[A\n",
      "  2%|▎         | 1/40 [00:01<00:47,  1.21s/it]\u001B[A\n",
      "  5%|▌         | 2/40 [00:02<00:45,  1.19s/it]\u001B[A\n",
      "  8%|▊         | 3/40 [00:03<00:43,  1.19s/it]\u001B[A\n",
      " 10%|█         | 4/40 [00:04<00:42,  1.19s/it]\u001B[A\n",
      " 12%|█▎        | 5/40 [00:05<00:41,  1.19s/it]\u001B[A\n",
      " 15%|█▌        | 6/40 [00:07<00:40,  1.19s/it]\u001B[A\n",
      " 18%|█▊        | 7/40 [00:08<00:39,  1.19s/it]\u001B[A\n",
      " 20%|██        | 8/40 [00:09<00:37,  1.18s/it]\u001B[A\n",
      " 22%|██▎       | 9/40 [00:10<00:36,  1.18s/it]\u001B[A\n",
      " 25%|██▌       | 10/40 [00:11<00:35,  1.18s/it]\u001B[A\n",
      " 28%|██▊       | 11/40 [00:13<00:34,  1.18s/it]\u001B[A\n",
      " 30%|███       | 12/40 [00:14<00:33,  1.18s/it]\u001B[A\n",
      " 32%|███▎      | 13/40 [00:15<00:31,  1.18s/it]\u001B[A\n",
      " 35%|███▌      | 14/40 [00:16<00:30,  1.18s/it]\u001B[A\n",
      " 38%|███▊      | 15/40 [00:17<00:29,  1.18s/it]\u001B[A\n",
      " 40%|████      | 16/40 [00:18<00:28,  1.18s/it]\u001B[A\n",
      " 42%|████▎     | 17/40 [00:20<00:27,  1.19s/it]\u001B[A\n",
      " 45%|████▌     | 18/40 [00:21<00:26,  1.19s/it]\u001B[A\n",
      " 48%|████▊     | 19/40 [00:22<00:24,  1.19s/it]\u001B[A\n",
      " 50%|█████     | 20/40 [00:23<00:23,  1.19s/it]\u001B[A\n",
      " 52%|█████▎    | 21/40 [00:24<00:22,  1.19s/it]\u001B[A\n",
      " 55%|█████▌    | 22/40 [00:26<00:21,  1.19s/it]\u001B[A\n",
      " 57%|█████▊    | 23/40 [00:27<00:20,  1.19s/it]\u001B[A\n",
      " 60%|██████    | 24/40 [00:28<00:18,  1.19s/it]\u001B[A\n",
      " 62%|██████▎   | 25/40 [00:29<00:17,  1.19s/it]\u001B[A\n",
      " 65%|██████▌   | 26/40 [00:30<00:16,  1.19s/it]\u001B[A\n",
      " 68%|██████▊   | 27/40 [00:32<00:15,  1.19s/it]\u001B[A\n",
      " 70%|███████   | 28/40 [00:33<00:14,  1.19s/it]\u001B[A\n",
      " 72%|███████▎  | 29/40 [00:34<00:13,  1.19s/it]\u001B[A\n",
      " 75%|███████▌  | 30/40 [00:35<00:11,  1.19s/it]\u001B[A\n",
      " 78%|███████▊  | 31/40 [00:36<00:10,  1.19s/it]\u001B[A\n",
      " 80%|████████  | 32/40 [00:37<00:09,  1.19s/it]\u001B[A\n",
      " 82%|████████▎ | 33/40 [00:39<00:08,  1.19s/it]\u001B[A\n",
      " 85%|████████▌ | 34/40 [00:40<00:07,  1.19s/it]\u001B[A\n",
      " 88%|████████▊ | 35/40 [00:41<00:05,  1.19s/it]\u001B[A\n",
      " 90%|█████████ | 36/40 [00:42<00:04,  1.19s/it]\u001B[A\n",
      " 92%|█████████▎| 37/40 [00:43<00:03,  1.19s/it]\u001B[A\n",
      " 95%|█████████▌| 38/40 [00:45<00:02,  1.19s/it]\u001B[A\n",
      " 98%|█████████▊| 39/40 [00:46<00:01,  1.19s/it]\u001B[A\n",
      "100%|██████████| 40/40 [00:47<00:00,  1.19s/it]\u001B[A\n",
      "\n",
      "  0%|          | 0/40 [00:00<?, ?it/s]\u001B[A\n",
      "  2%|▎         | 1/40 [00:01<00:50,  1.28s/it]\u001B[A\n",
      "  5%|▌         | 2/40 [00:03<01:04,  1.69s/it]\u001B[A\n",
      "  8%|▊         | 3/40 [00:04<00:54,  1.46s/it]\u001B[A\n",
      " 10%|█         | 4/40 [00:05<00:48,  1.35s/it]\u001B[A\n",
      " 12%|█▎        | 5/40 [00:06<00:45,  1.29s/it]\u001B[A\n",
      " 15%|█▌        | 6/40 [00:07<00:42,  1.25s/it]\u001B[A\n",
      " 18%|█▊        | 7/40 [00:09<00:40,  1.23s/it]\u001B[A\n",
      " 20%|██        | 8/40 [00:10<00:38,  1.21s/it]\u001B[A\n",
      " 22%|██▎       | 9/40 [00:11<00:37,  1.20s/it]\u001B[A\n",
      " 25%|██▌       | 10/40 [00:12<00:35,  1.20s/it]\u001B[A\n",
      " 28%|██▊       | 11/40 [00:13<00:34,  1.19s/it]\u001B[A\n",
      " 30%|███       | 12/40 [00:15<00:33,  1.19s/it]\u001B[A\n",
      " 32%|███▎      | 13/40 [00:16<00:32,  1.19s/it]\u001B[A\n",
      " 35%|███▌      | 14/40 [00:17<00:30,  1.19s/it]\u001B[A\n",
      " 38%|███▊      | 15/40 [00:18<00:29,  1.19s/it]\u001B[A\n",
      " 40%|████      | 16/40 [00:19<00:28,  1.19s/it]\u001B[A\n",
      " 42%|████▎     | 17/40 [00:21<00:27,  1.19s/it]\u001B[A\n",
      " 45%|████▌     | 18/40 [00:22<00:26,  1.19s/it]\u001B[A\n",
      " 48%|████▊     | 19/40 [00:23<00:25,  1.19s/it]\u001B[A\n",
      " 50%|█████     | 20/40 [00:24<00:23,  1.19s/it]\u001B[A\n",
      " 52%|█████▎    | 21/40 [00:25<00:22,  1.19s/it]\u001B[A\n",
      " 55%|█████▌    | 22/40 [00:26<00:21,  1.19s/it]\u001B[A\n",
      " 57%|█████▊    | 23/40 [00:28<00:20,  1.19s/it]\u001B[A\n",
      " 60%|██████    | 24/40 [00:29<00:19,  1.19s/it]\u001B[A\n",
      " 62%|██████▎   | 25/40 [00:30<00:17,  1.19s/it]\u001B[A\n",
      " 65%|██████▌   | 26/40 [00:31<00:16,  1.19s/it]\u001B[A\n",
      " 68%|██████▊   | 27/40 [00:32<00:15,  1.19s/it]\u001B[A\n",
      " 70%|███████   | 28/40 [00:34<00:14,  1.19s/it]\u001B[A\n",
      " 72%|███████▎  | 29/40 [00:35<00:13,  1.19s/it]\u001B[A\n",
      " 75%|███████▌  | 30/40 [00:36<00:11,  1.19s/it]\u001B[A\n",
      " 78%|███████▊  | 31/40 [00:37<00:10,  1.19s/it]\u001B[A\n",
      " 80%|████████  | 32/40 [00:38<00:09,  1.19s/it]\u001B[A\n",
      " 82%|████████▎ | 33/40 [00:40<00:08,  1.19s/it]\u001B[A\n",
      " 85%|████████▌ | 34/40 [00:41<00:07,  1.19s/it]\u001B[A\n",
      " 88%|████████▊ | 35/40 [00:42<00:05,  1.19s/it]\u001B[A\n",
      " 90%|█████████ | 36/40 [00:43<00:04,  1.20s/it]\u001B[A\n",
      " 92%|█████████▎| 37/40 [00:44<00:03,  1.21s/it]\u001B[A\n",
      " 95%|█████████▌| 38/40 [00:46<00:02,  1.20s/it]\u001B[A\n",
      " 98%|█████████▊| 39/40 [00:47<00:01,  1.20s/it]\u001B[A\n",
      "100%|██████████| 40/40 [00:48<00:00,  1.21s/it]\u001B[A\n",
      "\n",
      "100%|██████████| 40/40 [00:00<00:00, 24734.21it/s]\n",
      "\n",
      "100%|██████████| 40/40 [00:00<00:00, 395689.06it/s]\n",
      " 45%|████▌     | 35/77 [20:11<31:25, 44.89s/it]"
     ]
    },
    {
     "name": "stdout",
     "output_type": "stream",
     "text": [
      "====================nh4 - 10====================\n",
      "Already exists\n",
      "====================nh4 - 20====================\n",
      "Already exists\n",
      "====================nh4 - 30====================\n",
      "Already exists\n",
      "====================nh4 - 40====================\n",
      "Already exists\n",
      "====================nh4 - 60====================\n",
      "Already exists\n",
      "====================nh4 - 80====================\n",
      "Already exists\n",
      "====================nh4 - 100====================\n",
      "Already exists\n",
      "====================nh4 - 150====================\n",
      "Already exists\n",
      "====================nh4 - 200====================\n",
      "Already exists\n",
      "====================nh5 - 1====================\n"
     ]
    },
    {
     "name": "stderr",
     "output_type": "stream",
     "text": [
      "\n",
      "  0%|          | 0/50 [00:00<?, ?it/s]\u001B[A\n",
      "  2%|▏         | 1/50 [00:01<01:00,  1.24s/it]\u001B[A\n",
      "  4%|▍         | 2/50 [00:02<00:58,  1.22s/it]\u001B[A\n",
      "  6%|▌         | 3/50 [00:03<00:56,  1.21s/it]\u001B[A\n",
      "  8%|▊         | 4/50 [00:04<00:55,  1.21s/it]\u001B[A\n",
      " 10%|█         | 5/50 [00:06<00:54,  1.20s/it]\u001B[A\n",
      " 12%|█▏        | 6/50 [00:07<00:53,  1.21s/it]\u001B[A\n",
      " 14%|█▍        | 7/50 [00:08<00:51,  1.20s/it]\u001B[A\n",
      " 16%|█▌        | 8/50 [00:09<00:50,  1.20s/it]\u001B[A\n",
      " 18%|█▊        | 9/50 [00:10<00:49,  1.20s/it]\u001B[A\n",
      " 20%|██        | 10/50 [00:12<00:48,  1.21s/it]\u001B[A\n",
      " 22%|██▏       | 11/50 [00:13<00:47,  1.21s/it]\u001B[A\n",
      " 24%|██▍       | 12/50 [00:14<00:46,  1.21s/it]\u001B[A\n",
      " 26%|██▌       | 13/50 [00:15<00:44,  1.21s/it]\u001B[A\n",
      " 28%|██▊       | 14/50 [00:16<00:43,  1.20s/it]\u001B[A\n",
      " 30%|███       | 15/50 [00:18<00:41,  1.20s/it]\u001B[A\n",
      " 32%|███▏      | 16/50 [00:19<00:41,  1.22s/it]\u001B[A\n",
      " 34%|███▍      | 17/50 [00:20<00:40,  1.22s/it]\u001B[A\n",
      " 36%|███▌      | 18/50 [00:21<00:39,  1.23s/it]\u001B[A\n",
      " 38%|███▊      | 19/50 [00:23<00:37,  1.22s/it]\u001B[A\n",
      " 40%|████      | 20/50 [00:24<00:36,  1.22s/it]\u001B[A\n",
      " 42%|████▏     | 21/50 [00:25<00:35,  1.21s/it]\u001B[A\n",
      " 44%|████▍     | 22/50 [00:26<00:33,  1.20s/it]\u001B[A\n",
      " 46%|████▌     | 23/50 [00:27<00:32,  1.19s/it]\u001B[A\n",
      " 48%|████▊     | 24/50 [00:28<00:31,  1.19s/it]\u001B[A\n",
      " 50%|█████     | 25/50 [00:30<00:30,  1.20s/it]\u001B[A\n",
      " 52%|█████▏    | 26/50 [00:31<00:29,  1.21s/it]\u001B[A\n",
      " 54%|█████▍    | 27/50 [00:32<00:27,  1.20s/it]\u001B[A\n",
      " 56%|█████▌    | 28/50 [00:33<00:26,  1.20s/it]\u001B[A\n",
      " 58%|█████▊    | 29/50 [00:35<00:25,  1.20s/it]\u001B[A\n",
      " 60%|██████    | 30/50 [00:36<00:24,  1.21s/it]\u001B[A\n",
      " 62%|██████▏   | 31/50 [00:37<00:22,  1.21s/it]\u001B[A\n",
      " 64%|██████▍   | 32/50 [00:38<00:21,  1.21s/it]\u001B[A\n",
      " 66%|██████▌   | 33/50 [00:39<00:20,  1.21s/it]\u001B[A\n",
      " 68%|██████▊   | 34/50 [00:41<00:19,  1.20s/it]\u001B[A\n",
      " 70%|███████   | 35/50 [00:42<00:17,  1.20s/it]\u001B[A\n",
      " 72%|███████▏  | 36/50 [00:43<00:16,  1.21s/it]\u001B[A\n",
      " 74%|███████▍  | 37/50 [00:44<00:15,  1.21s/it]\u001B[A\n",
      " 76%|███████▌  | 38/50 [00:45<00:14,  1.21s/it]\u001B[A\n",
      " 78%|███████▊  | 39/50 [00:47<00:13,  1.21s/it]\u001B[A\n",
      " 80%|████████  | 40/50 [00:48<00:12,  1.21s/it]\u001B[A\n",
      " 82%|████████▏ | 41/50 [00:49<00:10,  1.21s/it]\u001B[A\n",
      " 84%|████████▍ | 42/50 [00:50<00:09,  1.21s/it]\u001B[A\n",
      " 86%|████████▌ | 43/50 [00:51<00:08,  1.21s/it]\u001B[A\n",
      " 88%|████████▊ | 44/50 [00:53<00:07,  1.21s/it]\u001B[A\n",
      " 90%|█████████ | 45/50 [00:54<00:06,  1.21s/it]\u001B[A\n",
      " 92%|█████████▏| 46/50 [00:55<00:04,  1.20s/it]\u001B[A\n",
      " 94%|█████████▍| 47/50 [00:56<00:03,  1.20s/it]\u001B[A\n",
      " 96%|█████████▌| 48/50 [00:57<00:02,  1.20s/it]\u001B[A\n",
      " 98%|█████████▊| 49/50 [00:59<00:01,  1.20s/it]\u001B[A\n",
      "100%|██████████| 50/50 [01:00<00:00,  1.21s/it]\u001B[A\n",
      "\n",
      "  0%|          | 0/50 [00:00<?, ?it/s]\u001B[A\n",
      "  2%|▏         | 1/50 [00:01<01:12,  1.47s/it]\u001B[A\n",
      "  4%|▍         | 2/50 [00:04<01:51,  2.33s/it]\u001B[A\n",
      "  6%|▌         | 3/50 [00:06<01:54,  2.44s/it]\u001B[A\n",
      "  8%|▊         | 4/50 [00:08<01:29,  1.94s/it]\u001B[A\n",
      " 10%|█         | 5/50 [00:09<01:15,  1.67s/it]\u001B[A\n",
      " 12%|█▏        | 6/50 [00:10<01:06,  1.52s/it]\u001B[A\n",
      " 14%|█▍        | 7/50 [00:11<01:00,  1.41s/it]\u001B[A\n",
      " 16%|█▌        | 8/50 [00:12<00:56,  1.34s/it]\u001B[A\n",
      " 18%|█▊        | 9/50 [00:14<00:53,  1.31s/it]\u001B[A\n",
      " 20%|██        | 10/50 [00:15<00:51,  1.29s/it]\u001B[A\n",
      " 22%|██▏       | 11/50 [00:16<00:49,  1.26s/it]\u001B[A\n",
      " 24%|██▍       | 12/50 [00:17<00:47,  1.24s/it]\u001B[A\n",
      " 26%|██▌       | 13/50 [00:19<00:46,  1.25s/it]\u001B[A\n",
      " 28%|██▊       | 14/50 [00:20<00:44,  1.23s/it]\u001B[A\n",
      " 30%|███       | 15/50 [00:21<00:42,  1.22s/it]\u001B[A\n",
      " 32%|███▏      | 16/50 [00:22<00:41,  1.21s/it]\u001B[A\n",
      " 34%|███▍      | 17/50 [00:23<00:40,  1.22s/it]\u001B[A\n",
      " 36%|███▌      | 18/50 [00:25<00:38,  1.21s/it]\u001B[A\n",
      " 38%|███▊      | 19/50 [00:26<00:37,  1.21s/it]\u001B[A\n",
      " 40%|████      | 20/50 [00:27<00:36,  1.21s/it]\u001B[A\n",
      " 42%|████▏     | 21/50 [00:28<00:34,  1.20s/it]\u001B[A\n",
      " 44%|████▍     | 22/50 [00:29<00:33,  1.21s/it]\u001B[A\n",
      " 46%|████▌     | 23/50 [00:31<00:32,  1.22s/it]\u001B[A\n",
      " 48%|████▊     | 24/50 [00:32<00:31,  1.21s/it]\u001B[A\n",
      " 50%|█████     | 25/50 [00:33<00:30,  1.20s/it]\u001B[A\n",
      " 52%|█████▏    | 26/50 [00:34<00:28,  1.20s/it]\u001B[A\n",
      " 54%|█████▍    | 27/50 [00:35<00:27,  1.21s/it]\u001B[A\n",
      " 56%|█████▌    | 28/50 [00:37<00:26,  1.21s/it]\u001B[A\n",
      " 58%|█████▊    | 29/50 [00:38<00:25,  1.20s/it]\u001B[A\n",
      " 60%|██████    | 30/50 [00:39<00:24,  1.21s/it]\u001B[A\n",
      " 62%|██████▏   | 31/50 [00:40<00:23,  1.21s/it]\u001B[A\n",
      " 64%|██████▍   | 32/50 [00:41<00:21,  1.21s/it]\u001B[A\n",
      " 66%|██████▌   | 33/50 [00:43<00:20,  1.20s/it]\u001B[A\n",
      " 68%|██████▊   | 34/50 [00:44<00:19,  1.20s/it]\u001B[A\n",
      " 70%|███████   | 35/50 [00:45<00:18,  1.20s/it]\u001B[A\n",
      " 72%|███████▏  | 36/50 [00:46<00:16,  1.20s/it]\u001B[A\n",
      " 74%|███████▍  | 37/50 [00:47<00:15,  1.20s/it]\u001B[A\n",
      " 76%|███████▌  | 38/50 [00:49<00:14,  1.21s/it]\u001B[A\n",
      " 78%|███████▊  | 39/50 [00:50<00:13,  1.21s/it]\u001B[A\n",
      " 80%|████████  | 40/50 [00:51<00:12,  1.21s/it]\u001B[A\n",
      " 82%|████████▏ | 41/50 [00:52<00:10,  1.21s/it]\u001B[A\n",
      " 84%|████████▍ | 42/50 [00:54<00:09,  1.21s/it]\u001B[A\n",
      " 86%|████████▌ | 43/50 [00:55<00:08,  1.23s/it]\u001B[A\n",
      " 88%|████████▊ | 44/50 [00:56<00:07,  1.22s/it]\u001B[A\n",
      " 90%|█████████ | 45/50 [00:57<00:06,  1.22s/it]\u001B[A\n",
      " 92%|█████████▏| 46/50 [00:58<00:04,  1.21s/it]\u001B[A\n",
      " 94%|█████████▍| 47/50 [01:00<00:03,  1.21s/it]\u001B[A\n",
      " 96%|█████████▌| 48/50 [01:01<00:02,  1.20s/it]\u001B[A\n",
      " 98%|█████████▊| 49/50 [01:02<00:01,  1.20s/it]\u001B[A\n",
      "100%|██████████| 50/50 [01:03<00:00,  1.27s/it]\u001B[A\n",
      "\n",
      "100%|██████████| 50/50 [00:00<00:00, 303495.22it/s]\n",
      "\n",
      "100%|██████████| 50/50 [00:00<00:00, 479897.48it/s]\n",
      " 58%|█████▊    | 45/77 [24:44<19:21, 36.31s/it]"
     ]
    },
    {
     "name": "stdout",
     "output_type": "stream",
     "text": [
      "====================nh5 - 5====================\n"
     ]
    },
    {
     "name": "stderr",
     "output_type": "stream",
     "text": [
      "\n",
      "  0%|          | 0/50 [00:00<?, ?it/s]\u001B[A\n",
      "  2%|▏         | 1/50 [00:01<01:00,  1.22s/it]\u001B[A\n",
      "  4%|▍         | 2/50 [00:02<01:01,  1.29s/it]\u001B[A\n",
      "  6%|▌         | 3/50 [00:03<00:58,  1.24s/it]\u001B[A\n",
      "  8%|▊         | 4/50 [00:04<00:56,  1.22s/it]\u001B[A\n",
      " 10%|█         | 5/50 [00:06<00:54,  1.22s/it]\u001B[A\n",
      " 12%|█▏        | 6/50 [00:07<00:53,  1.21s/it]\u001B[A\n",
      " 14%|█▍        | 7/50 [00:08<00:52,  1.21s/it]\u001B[A\n",
      " 16%|█▌        | 8/50 [00:09<00:51,  1.23s/it]\u001B[A\n",
      " 18%|█▊        | 9/50 [00:11<00:49,  1.22s/it]\u001B[A\n",
      " 20%|██        | 10/50 [00:12<00:48,  1.20s/it]\u001B[A\n",
      " 22%|██▏       | 11/50 [00:13<00:46,  1.20s/it]\u001B[A\n",
      " 24%|██▍       | 12/50 [00:14<00:45,  1.19s/it]\u001B[A\n",
      " 26%|██▌       | 13/50 [00:15<00:43,  1.19s/it]\u001B[A\n",
      " 28%|██▊       | 14/50 [00:16<00:43,  1.20s/it]\u001B[A\n",
      " 30%|███       | 15/50 [00:18<00:42,  1.20s/it]\u001B[A\n",
      " 32%|███▏      | 16/50 [00:19<00:40,  1.20s/it]\u001B[A\n",
      " 34%|███▍      | 17/50 [00:20<00:39,  1.20s/it]\u001B[A\n",
      " 36%|███▌      | 18/50 [00:21<00:38,  1.20s/it]\u001B[A\n",
      " 38%|███▊      | 19/50 [00:22<00:37,  1.20s/it]\u001B[A\n",
      " 40%|████      | 20/50 [00:24<00:36,  1.20s/it]\u001B[A\n",
      " 42%|████▏     | 21/50 [00:25<00:34,  1.20s/it]\u001B[A\n",
      " 44%|████▍     | 22/50 [00:26<00:33,  1.20s/it]\u001B[A\n",
      " 46%|████▌     | 23/50 [00:27<00:32,  1.21s/it]\u001B[A\n",
      " 48%|████▊     | 24/50 [00:28<00:31,  1.20s/it]\u001B[A\n",
      " 50%|█████     | 25/50 [00:30<00:30,  1.20s/it]\u001B[A\n",
      " 52%|█████▏    | 26/50 [00:31<00:28,  1.20s/it]\u001B[A\n",
      " 54%|█████▍    | 27/50 [00:32<00:27,  1.20s/it]\u001B[A\n",
      " 56%|█████▌    | 28/50 [00:33<00:26,  1.20s/it]\u001B[A\n",
      " 58%|█████▊    | 29/50 [00:34<00:25,  1.20s/it]\u001B[A\n",
      " 60%|██████    | 30/50 [00:36<00:24,  1.22s/it]\u001B[A\n",
      " 62%|██████▏   | 31/50 [00:37<00:22,  1.21s/it]\u001B[A\n",
      " 64%|██████▍   | 32/50 [00:38<00:21,  1.20s/it]\u001B[A\n",
      " 66%|██████▌   | 33/50 [00:39<00:20,  1.20s/it]\u001B[A\n",
      " 68%|██████▊   | 34/50 [00:41<00:19,  1.21s/it]\u001B[A\n",
      " 70%|███████   | 35/50 [00:42<00:18,  1.22s/it]\u001B[A\n",
      " 72%|███████▏  | 36/50 [00:43<00:17,  1.22s/it]\u001B[A\n",
      " 74%|███████▍  | 37/50 [00:44<00:15,  1.21s/it]\u001B[A\n",
      " 76%|███████▌  | 38/50 [00:45<00:14,  1.20s/it]\u001B[A\n",
      " 78%|███████▊  | 39/50 [00:47<00:13,  1.20s/it]\u001B[A\n",
      " 80%|████████  | 40/50 [00:48<00:11,  1.19s/it]\u001B[A\n",
      " 82%|████████▏ | 41/50 [00:49<00:10,  1.20s/it]\u001B[A\n",
      " 84%|████████▍ | 42/50 [00:50<00:09,  1.20s/it]\u001B[A\n",
      " 86%|████████▌ | 43/50 [00:51<00:08,  1.21s/it]\u001B[A\n",
      " 88%|████████▊ | 44/50 [00:53<00:07,  1.20s/it]\u001B[A\n",
      " 90%|█████████ | 45/50 [00:54<00:06,  1.22s/it]\u001B[A\n",
      " 92%|█████████▏| 46/50 [00:55<00:04,  1.22s/it]\u001B[A\n",
      " 94%|█████████▍| 47/50 [00:56<00:03,  1.21s/it]\u001B[A\n",
      " 96%|█████████▌| 48/50 [00:57<00:02,  1.21s/it]\u001B[A\n",
      " 98%|█████████▊| 49/50 [00:59<00:01,  1.22s/it]\u001B[A\n",
      "100%|██████████| 50/50 [01:00<00:00,  1.21s/it]\u001B[A\n",
      "\n",
      "  0%|          | 0/50 [00:00<?, ?it/s]\u001B[A\n",
      "  2%|▏         | 1/50 [00:02<01:00,  1.24s/it]\u001B[A\n",
      "  4%|▍         | 2/50 [00:06<02:10,  2.72s/it]\u001B[A\n",
      "  6%|▌         | 3/50 [00:07<01:58,  2.53s/it]\u001B[A\n",
      "  8%|▊         | 4/50 [00:08<01:32,  2.00s/it]\u001B[A\n",
      " 10%|█         | 5/50 [00:09<01:16,  1.71s/it]\u001B[A\n",
      " 12%|█▏        | 6/50 [00:10<01:07,  1.53s/it]\u001B[A\n",
      " 14%|█▍        | 7/50 [00:12<01:00,  1.41s/it]\u001B[A\n",
      " 16%|█▌        | 8/50 [00:13<00:56,  1.34s/it]\u001B[A\n",
      " 18%|█▊        | 9/50 [00:14<00:52,  1.29s/it]\u001B[A\n",
      " 20%|██        | 10/50 [00:15<00:51,  1.29s/it]\u001B[A\n",
      " 22%|██▏       | 11/50 [00:16<00:49,  1.27s/it]\u001B[A\n",
      " 24%|██▍       | 12/50 [00:18<00:47,  1.24s/it]\u001B[A\n",
      " 26%|██▌       | 13/50 [00:19<00:45,  1.23s/it]\u001B[A\n",
      " 28%|██▊       | 14/50 [00:20<00:44,  1.25s/it]\u001B[A\n",
      " 30%|███       | 15/50 [00:21<00:43,  1.26s/it]\u001B[A\n",
      " 32%|███▏      | 16/50 [00:23<00:42,  1.24s/it]\u001B[A\n",
      " 34%|███▍      | 17/50 [00:24<00:40,  1.24s/it]\u001B[A\n",
      " 36%|███▌      | 18/50 [00:25<00:39,  1.25s/it]\u001B[A\n",
      " 38%|███▊      | 19/50 [00:26<00:38,  1.23s/it]\u001B[A\n",
      " 40%|████      | 20/50 [00:27<00:36,  1.23s/it]\u001B[A\n",
      " 42%|████▏     | 21/50 [00:29<00:35,  1.22s/it]\u001B[A\n",
      " 44%|████▍     | 22/50 [00:30<00:33,  1.21s/it]\u001B[A\n",
      " 46%|████▌     | 23/50 [00:31<00:33,  1.23s/it]\u001B[A\n",
      " 48%|████▊     | 24/50 [00:32<00:31,  1.22s/it]\u001B[A\n",
      " 50%|█████     | 25/50 [00:34<00:30,  1.21s/it]\u001B[A\n",
      " 52%|█████▏    | 26/50 [00:35<00:28,  1.21s/it]\u001B[A\n",
      " 54%|█████▍    | 27/50 [00:36<00:27,  1.21s/it]\u001B[A\n",
      " 56%|█████▌    | 28/50 [00:37<00:26,  1.21s/it]\u001B[A\n",
      " 58%|█████▊    | 29/50 [00:38<00:25,  1.20s/it]\u001B[A\n",
      " 60%|██████    | 30/50 [00:40<00:24,  1.21s/it]\u001B[A\n",
      " 62%|██████▏   | 31/50 [00:41<00:23,  1.21s/it]\u001B[A\n",
      " 64%|██████▍   | 32/50 [00:42<00:21,  1.21s/it]\u001B[A\n",
      " 66%|██████▌   | 33/50 [00:43<00:20,  1.21s/it]\u001B[A\n",
      " 68%|██████▊   | 34/50 [00:44<00:19,  1.21s/it]\u001B[A\n",
      " 70%|███████   | 35/50 [00:46<00:18,  1.20s/it]\u001B[A\n",
      " 72%|███████▏  | 36/50 [00:47<00:16,  1.19s/it]\u001B[A\n",
      " 74%|███████▍  | 37/50 [00:48<00:15,  1.19s/it]\u001B[A\n",
      " 76%|███████▌  | 38/50 [00:49<00:14,  1.20s/it]\u001B[A\n",
      " 78%|███████▊  | 39/50 [00:50<00:13,  1.20s/it]\u001B[A\n",
      " 80%|████████  | 40/50 [00:52<00:11,  1.20s/it]\u001B[A\n",
      " 82%|████████▏ | 41/50 [00:53<00:10,  1.22s/it]\u001B[A\n",
      " 84%|████████▍ | 42/50 [00:54<00:09,  1.21s/it]\u001B[A\n",
      " 86%|████████▌ | 43/50 [00:55<00:08,  1.21s/it]\u001B[A\n",
      " 88%|████████▊ | 44/50 [00:56<00:07,  1.21s/it]\u001B[A\n",
      " 90%|█████████ | 45/50 [00:58<00:06,  1.21s/it]\u001B[A\n",
      " 92%|█████████▏| 46/50 [00:59<00:04,  1.21s/it]\u001B[A\n",
      " 94%|█████████▍| 47/50 [01:00<00:03,  1.21s/it]\u001B[A\n",
      " 96%|█████████▌| 48/50 [01:01<00:02,  1.20s/it]\u001B[A\n",
      " 98%|█████████▊| 49/50 [01:02<00:01,  1.20s/it]\u001B[A\n",
      "100%|██████████| 50/50 [01:04<00:00,  1.28s/it]\u001B[A\n",
      "\n",
      "100%|██████████| 50/50 [00:00<00:00, 108492.08it/s]\n",
      "\n",
      "100%|██████████| 50/50 [00:00<00:00, 40067.86it/s]\n",
      " 60%|█████▉    | 46/77 [29:28<27:05, 52.43s/it]"
     ]
    },
    {
     "name": "stdout",
     "output_type": "stream",
     "text": [
      "====================nh5 - 10====================\n",
      "Already exists\n",
      "====================nh5 - 20====================\n",
      "Already exists\n",
      "====================nh5 - 30====================\n",
      "Already exists\n",
      "====================nh5 - 40====================\n",
      "Already exists\n",
      "====================nh5 - 60====================\n",
      "Already exists\n",
      "====================nh5 - 80====================\n",
      "Already exists\n",
      "====================nh5 - 100====================\n",
      "Already exists\n",
      "====================nh5 - 150====================\n",
      "Already exists\n",
      "====================nh5 - 200====================\n",
      "Already exists\n",
      "====================nh6 - 1====================\n"
     ]
    },
    {
     "name": "stderr",
     "output_type": "stream",
     "text": [
      "\n",
      "  0%|          | 0/65 [00:00<?, ?it/s]\u001B[A\n",
      "  2%|▏         | 1/65 [00:01<01:20,  1.26s/it]\u001B[A\n",
      "  3%|▎         | 2/65 [00:02<01:16,  1.22s/it]\u001B[A\n",
      "  5%|▍         | 3/65 [00:03<01:15,  1.21s/it]\u001B[A\n",
      "  6%|▌         | 4/65 [00:04<01:13,  1.21s/it]\u001B[A\n",
      "  8%|▊         | 5/65 [00:06<01:12,  1.21s/it]\u001B[A\n",
      "  9%|▉         | 6/65 [00:07<01:10,  1.20s/it]\u001B[A\n",
      " 11%|█         | 7/65 [00:08<01:09,  1.19s/it]\u001B[A\n",
      " 12%|█▏        | 8/65 [00:09<01:07,  1.19s/it]\u001B[A\n",
      " 14%|█▍        | 9/65 [00:10<01:07,  1.21s/it]\u001B[A\n",
      " 15%|█▌        | 10/65 [00:12<01:06,  1.21s/it]\u001B[A\n",
      " 17%|█▋        | 11/65 [00:13<01:05,  1.22s/it]\u001B[A\n",
      " 18%|█▊        | 12/65 [00:14<01:04,  1.22s/it]\u001B[A\n",
      " 20%|██        | 13/65 [00:15<01:02,  1.21s/it]\u001B[A\n",
      " 22%|██▏       | 14/65 [00:17<01:02,  1.23s/it]\u001B[A\n",
      " 23%|██▎       | 15/65 [00:18<01:01,  1.23s/it]\u001B[A\n",
      " 25%|██▍       | 16/65 [00:19<00:59,  1.22s/it]\u001B[A\n",
      " 26%|██▌       | 17/65 [00:20<00:58,  1.21s/it]\u001B[A\n",
      " 28%|██▊       | 18/65 [00:21<00:56,  1.21s/it]\u001B[A\n",
      " 29%|██▉       | 19/65 [00:22<00:55,  1.20s/it]\u001B[A\n",
      " 31%|███       | 20/65 [00:24<00:54,  1.20s/it]\u001B[A\n",
      " 32%|███▏      | 21/65 [00:25<00:54,  1.24s/it]\u001B[A\n",
      " 34%|███▍      | 22/65 [00:26<00:53,  1.25s/it]\u001B[A\n",
      " 35%|███▌      | 23/65 [00:28<00:51,  1.24s/it]\u001B[A\n",
      " 37%|███▋      | 24/65 [00:29<00:50,  1.23s/it]\u001B[A\n",
      " 38%|███▊      | 25/65 [00:30<00:49,  1.24s/it]\u001B[A\n",
      " 40%|████      | 26/65 [00:31<00:47,  1.22s/it]\u001B[A\n",
      " 42%|████▏     | 27/65 [00:32<00:47,  1.25s/it]\u001B[A\n",
      " 43%|████▎     | 28/65 [00:34<00:45,  1.24s/it]\u001B[A\n",
      " 45%|████▍     | 29/65 [00:35<00:44,  1.23s/it]\u001B[A\n",
      " 46%|████▌     | 30/65 [00:36<00:44,  1.26s/it]\u001B[A\n",
      " 48%|████▊     | 31/65 [00:38<00:43,  1.28s/it]\u001B[A\n",
      " 49%|████▉     | 32/65 [00:39<00:41,  1.25s/it]\u001B[A\n",
      " 51%|█████     | 33/65 [00:40<00:40,  1.26s/it]\u001B[A\n",
      " 52%|█████▏    | 34/65 [00:41<00:39,  1.26s/it]\u001B[A\n",
      " 54%|█████▍    | 35/65 [00:43<00:37,  1.25s/it]\u001B[A\n",
      " 55%|█████▌    | 36/65 [00:44<00:35,  1.23s/it]\u001B[A\n",
      " 57%|█████▋    | 37/65 [00:45<00:34,  1.22s/it]\u001B[A\n",
      " 58%|█████▊    | 38/65 [00:46<00:33,  1.24s/it]\u001B[A\n",
      " 60%|██████    | 39/65 [00:47<00:32,  1.26s/it]\u001B[A\n",
      " 62%|██████▏   | 40/65 [00:49<00:31,  1.26s/it]\u001B[A\n",
      " 63%|██████▎   | 41/65 [00:50<00:30,  1.28s/it]\u001B[A\n",
      " 65%|██████▍   | 42/65 [00:51<00:29,  1.26s/it]\u001B[A\n",
      " 66%|██████▌   | 43/65 [00:53<00:28,  1.28s/it]\u001B[A\n",
      " 68%|██████▊   | 44/65 [00:54<00:26,  1.26s/it]\u001B[A\n",
      " 69%|██████▉   | 45/65 [00:55<00:24,  1.25s/it]\u001B[A\n",
      " 71%|███████   | 46/65 [00:56<00:23,  1.24s/it]\u001B[A\n",
      " 72%|███████▏  | 47/65 [00:57<00:22,  1.23s/it]\u001B[A\n",
      " 74%|███████▍  | 48/65 [00:59<00:20,  1.23s/it]\u001B[A\n",
      " 75%|███████▌  | 49/65 [01:00<00:20,  1.29s/it]\u001B[A\n",
      " 77%|███████▋  | 50/65 [01:02<00:19,  1.32s/it]\u001B[A\n",
      " 78%|███████▊  | 51/65 [01:03<00:18,  1.29s/it]\u001B[A\n",
      " 80%|████████  | 52/65 [01:04<00:16,  1.27s/it]\u001B[A\n",
      " 82%|████████▏ | 53/65 [01:05<00:15,  1.25s/it]\u001B[A\n",
      " 83%|████████▎ | 54/65 [01:06<00:13,  1.24s/it]\u001B[A\n",
      " 85%|████████▍ | 55/65 [01:08<00:12,  1.25s/it]\u001B[A\n",
      " 86%|████████▌ | 56/65 [01:09<00:11,  1.23s/it]\u001B[A\n",
      " 88%|████████▊ | 57/65 [01:10<00:09,  1.23s/it]\u001B[A\n",
      " 89%|████████▉ | 58/65 [01:11<00:08,  1.23s/it]\u001B[A\n",
      " 91%|█████████ | 59/65 [01:12<00:07,  1.22s/it]\u001B[A\n",
      " 92%|█████████▏| 60/65 [01:14<00:06,  1.21s/it]\u001B[A\n",
      " 94%|█████████▍| 61/65 [01:15<00:04,  1.21s/it]\u001B[A\n",
      " 95%|█████████▌| 62/65 [01:16<00:03,  1.22s/it]\u001B[A\n",
      " 97%|█████████▋| 63/65 [01:17<00:02,  1.22s/it]\u001B[A\n",
      " 98%|█████████▊| 64/65 [01:19<00:01,  1.21s/it]\u001B[A\n",
      "100%|██████████| 65/65 [01:20<00:00,  1.24s/it]\u001B[A\n",
      "\n",
      "  0%|          | 0/65 [00:00<?, ?it/s]\u001B[A\n",
      "  2%|▏         | 1/65 [00:01<01:33,  1.45s/it]\u001B[A\n",
      "  3%|▎         | 2/65 [00:04<02:13,  2.12s/it]\u001B[A\n",
      "  5%|▍         | 3/65 [00:08<02:37,  2.55s/it]\u001B[A\n",
      "  6%|▌         | 4/65 [00:09<02:33,  2.51s/it]\u001B[A\n",
      "  8%|▊         | 5/65 [00:10<02:02,  2.03s/it]\u001B[A\n",
      "  9%|▉         | 6/65 [00:11<01:43,  1.75s/it]\u001B[A\n",
      " 11%|█         | 7/65 [00:13<01:30,  1.57s/it]\u001B[A\n",
      " 12%|█▏        | 8/65 [00:14<01:22,  1.44s/it]\u001B[A\n",
      " 14%|█▍        | 9/65 [00:15<01:16,  1.36s/it]\u001B[A\n",
      " 15%|█▌        | 10/65 [00:16<01:11,  1.30s/it]\u001B[A\n",
      " 17%|█▋        | 11/65 [00:17<01:09,  1.28s/it]\u001B[A\n",
      " 18%|█▊        | 12/65 [00:19<01:06,  1.25s/it]\u001B[A\n",
      " 20%|██        | 13/65 [00:20<01:03,  1.23s/it]\u001B[A\n",
      " 22%|██▏       | 14/65 [00:21<01:01,  1.21s/it]\u001B[A\n",
      " 23%|██▎       | 15/65 [00:22<01:00,  1.20s/it]\u001B[A\n",
      " 25%|██▍       | 16/65 [00:23<00:58,  1.20s/it]\u001B[A\n",
      " 26%|██▌       | 17/65 [00:24<00:57,  1.19s/it]\u001B[A\n",
      " 28%|██▊       | 18/65 [00:26<00:55,  1.19s/it]\u001B[A\n",
      " 29%|██▉       | 19/65 [00:27<00:54,  1.19s/it]\u001B[A\n",
      " 31%|███       | 20/65 [00:28<00:53,  1.19s/it]\u001B[A\n",
      " 32%|███▏      | 21/65 [00:29<00:52,  1.19s/it]\u001B[A\n",
      " 34%|███▍      | 22/65 [00:30<00:51,  1.19s/it]\u001B[A\n",
      " 35%|███▌      | 23/65 [00:32<00:49,  1.18s/it]\u001B[A\n",
      " 37%|███▋      | 24/65 [00:33<00:48,  1.19s/it]\u001B[A\n",
      " 38%|███▊      | 25/65 [00:34<00:47,  1.20s/it]\u001B[A\n",
      " 40%|████      | 26/65 [00:35<00:46,  1.20s/it]\u001B[A\n",
      " 42%|████▏     | 27/65 [00:36<00:45,  1.20s/it]\u001B[A\n",
      " 43%|████▎     | 28/65 [00:38<00:44,  1.20s/it]\u001B[A\n",
      " 45%|████▍     | 29/65 [00:39<00:43,  1.20s/it]\u001B[A\n",
      " 46%|████▌     | 30/65 [00:40<00:42,  1.20s/it]\u001B[A\n",
      " 48%|████▊     | 31/65 [00:41<00:40,  1.20s/it]\u001B[A\n",
      " 49%|████▉     | 32/65 [00:42<00:39,  1.20s/it]\u001B[A\n",
      " 51%|█████     | 33/65 [00:44<00:38,  1.19s/it]\u001B[A\n",
      " 52%|█████▏    | 34/65 [00:45<00:36,  1.19s/it]\u001B[A\n",
      " 54%|█████▍    | 35/65 [00:46<00:35,  1.19s/it]\u001B[A\n",
      " 55%|█████▌    | 36/65 [00:47<00:34,  1.19s/it]\u001B[A\n",
      " 57%|█████▋    | 37/65 [00:48<00:33,  1.18s/it]\u001B[A\n",
      " 58%|█████▊    | 38/65 [00:49<00:31,  1.18s/it]\u001B[A\n",
      " 60%|██████    | 39/65 [00:51<00:30,  1.18s/it]\u001B[A\n",
      " 62%|██████▏   | 40/65 [00:52<00:29,  1.18s/it]\u001B[A\n",
      " 63%|██████▎   | 41/65 [00:53<00:28,  1.18s/it]\u001B[A\n",
      " 65%|██████▍   | 42/65 [00:54<00:27,  1.18s/it]\u001B[A\n",
      " 66%|██████▌   | 43/65 [00:55<00:25,  1.18s/it]\u001B[A\n",
      " 68%|██████▊   | 44/65 [00:57<00:24,  1.18s/it]\u001B[A\n",
      " 69%|██████▉   | 45/65 [00:58<00:23,  1.18s/it]\u001B[A\n",
      " 71%|███████   | 46/65 [00:59<00:22,  1.18s/it]\u001B[A\n",
      " 72%|███████▏  | 47/65 [01:00<00:21,  1.18s/it]\u001B[A\n",
      " 74%|███████▍  | 48/65 [01:01<00:19,  1.18s/it]\u001B[A\n",
      " 75%|███████▌  | 49/65 [01:02<00:18,  1.18s/it]\u001B[A\n",
      " 77%|███████▋  | 50/65 [01:04<00:17,  1.18s/it]\u001B[A\n",
      " 78%|███████▊  | 51/65 [01:05<00:16,  1.18s/it]\u001B[A\n",
      " 80%|████████  | 52/65 [01:06<00:15,  1.18s/it]\u001B[A\n",
      " 82%|████████▏ | 53/65 [01:07<00:14,  1.18s/it]\u001B[A\n",
      " 83%|████████▎ | 54/65 [01:08<00:12,  1.18s/it]\u001B[A\n",
      " 85%|████████▍ | 55/65 [01:10<00:11,  1.18s/it]\u001B[A\n",
      " 86%|████████▌ | 56/65 [01:11<00:10,  1.18s/it]\u001B[A\n",
      " 88%|████████▊ | 57/65 [01:12<00:09,  1.18s/it]\u001B[A\n",
      " 89%|████████▉ | 58/65 [01:13<00:08,  1.18s/it]\u001B[A\n",
      " 91%|█████████ | 59/65 [01:14<00:07,  1.18s/it]\u001B[A\n",
      " 92%|█████████▏| 60/65 [01:15<00:05,  1.18s/it]\u001B[A\n",
      " 94%|█████████▍| 61/65 [01:17<00:04,  1.18s/it]\u001B[A\n",
      " 95%|█████████▌| 62/65 [01:18<00:03,  1.18s/it]\u001B[A\n",
      " 97%|█████████▋| 63/65 [01:19<00:02,  1.18s/it]\u001B[A\n",
      " 98%|█████████▊| 64/65 [01:20<00:01,  1.18s/it]\u001B[A\n",
      "100%|██████████| 65/65 [01:21<00:00,  1.26s/it]\u001B[A\n",
      "\n",
      "100%|██████████| 65/65 [00:00<00:00, 190650.18it/s]\n",
      "\n",
      "100%|██████████| 65/65 [00:00<00:00, 45453.44it/s]\n",
      " 73%|███████▎  | 56/77 [34:51<14:57, 42.72s/it]"
     ]
    },
    {
     "name": "stdout",
     "output_type": "stream",
     "text": [
      "====================nh6 - 5====================\n"
     ]
    },
    {
     "name": "stderr",
     "output_type": "stream",
     "text": [
      "\n",
      "  0%|          | 0/65 [00:00<?, ?it/s]\u001B[A\n",
      "  2%|▏         | 1/65 [00:01<01:18,  1.23s/it]\u001B[A\n",
      "  3%|▎         | 2/65 [00:02<01:15,  1.20s/it]\u001B[A\n",
      "  5%|▍         | 3/65 [00:03<01:13,  1.19s/it]\u001B[A\n",
      "  6%|▌         | 4/65 [00:04<01:12,  1.19s/it]\u001B[A\n",
      "  8%|▊         | 5/65 [00:05<01:11,  1.19s/it]\u001B[A\n",
      "  9%|▉         | 6/65 [00:07<01:09,  1.19s/it]\u001B[A\n",
      " 11%|█         | 7/65 [00:08<01:08,  1.19s/it]\u001B[A\n",
      " 12%|█▏        | 8/65 [00:09<01:07,  1.19s/it]\u001B[A\n",
      " 14%|█▍        | 9/65 [00:10<01:06,  1.18s/it]\u001B[A\n",
      " 15%|█▌        | 10/65 [00:11<01:05,  1.18s/it]\u001B[A\n",
      " 17%|█▋        | 11/65 [00:13<01:03,  1.18s/it]\u001B[A\n",
      " 18%|█▊        | 12/65 [00:14<01:02,  1.18s/it]\u001B[A\n",
      " 20%|██        | 13/65 [00:15<01:01,  1.18s/it]\u001B[A\n",
      " 22%|██▏       | 14/65 [00:16<01:00,  1.18s/it]\u001B[A\n",
      " 23%|██▎       | 15/65 [00:17<00:59,  1.18s/it]\u001B[A\n",
      " 25%|██▍       | 16/65 [00:18<00:57,  1.18s/it]\u001B[A\n",
      " 26%|██▌       | 17/65 [00:20<00:56,  1.18s/it]\u001B[A\n",
      " 28%|██▊       | 18/65 [00:21<00:55,  1.18s/it]\u001B[A\n",
      " 29%|██▉       | 19/65 [00:22<00:54,  1.18s/it]\u001B[A\n",
      " 31%|███       | 20/65 [00:23<00:53,  1.18s/it]\u001B[A\n",
      " 32%|███▏      | 21/65 [00:24<00:51,  1.18s/it]\u001B[A\n",
      " 34%|███▍      | 22/65 [00:26<00:50,  1.18s/it]\u001B[A\n",
      " 35%|███▌      | 23/65 [00:27<00:49,  1.18s/it]\u001B[A\n",
      " 37%|███▋      | 24/65 [00:28<00:48,  1.19s/it]\u001B[A\n",
      " 38%|███▊      | 25/65 [00:29<00:47,  1.18s/it]\u001B[A\n",
      " 40%|████      | 26/65 [00:30<00:46,  1.18s/it]\u001B[A\n",
      " 42%|████▏     | 27/65 [00:31<00:44,  1.18s/it]\u001B[A\n",
      " 43%|████▎     | 28/65 [00:33<00:43,  1.18s/it]\u001B[A\n",
      " 45%|████▍     | 29/65 [00:34<00:42,  1.18s/it]\u001B[A\n",
      " 46%|████▌     | 30/65 [00:35<00:41,  1.18s/it]\u001B[A\n",
      " 48%|████▊     | 31/65 [00:36<00:40,  1.18s/it]\u001B[A\n",
      " 49%|████▉     | 32/65 [00:37<00:39,  1.18s/it]\u001B[A\n",
      " 51%|█████     | 33/65 [00:39<00:37,  1.18s/it]\u001B[A\n",
      " 52%|█████▏    | 34/65 [00:40<00:36,  1.18s/it]\u001B[A\n",
      " 54%|█████▍    | 35/65 [00:41<00:35,  1.18s/it]\u001B[A\n",
      " 55%|█████▌    | 36/65 [00:42<00:34,  1.18s/it]\u001B[A\n",
      " 57%|█████▋    | 37/65 [00:43<00:33,  1.18s/it]\u001B[A\n",
      " 58%|█████▊    | 38/65 [00:44<00:31,  1.18s/it]\u001B[A\n",
      " 60%|██████    | 39/65 [00:46<00:30,  1.18s/it]\u001B[A\n",
      " 62%|██████▏   | 40/65 [00:47<00:29,  1.18s/it]\u001B[A\n",
      " 63%|██████▎   | 41/65 [00:48<00:28,  1.18s/it]\u001B[A\n",
      " 65%|██████▍   | 42/65 [00:49<00:27,  1.18s/it]\u001B[A\n",
      " 66%|██████▌   | 43/65 [00:50<00:26,  1.18s/it]\u001B[A\n",
      " 68%|██████▊   | 44/65 [00:52<00:24,  1.18s/it]\u001B[A\n",
      " 69%|██████▉   | 45/65 [00:53<00:23,  1.18s/it]\u001B[A\n",
      " 71%|███████   | 46/65 [00:54<00:22,  1.18s/it]\u001B[A\n",
      " 72%|███████▏  | 47/65 [00:55<00:21,  1.18s/it]\u001B[A\n",
      " 74%|███████▍  | 48/65 [00:56<00:20,  1.18s/it]\u001B[A\n",
      " 75%|███████▌  | 49/65 [00:57<00:18,  1.18s/it]\u001B[A\n",
      " 77%|███████▋  | 50/65 [00:59<00:17,  1.18s/it]\u001B[A\n",
      " 78%|███████▊  | 51/65 [01:00<00:16,  1.18s/it]\u001B[A\n",
      " 80%|████████  | 52/65 [01:01<00:15,  1.18s/it]\u001B[A\n",
      " 82%|████████▏ | 53/65 [01:02<00:14,  1.18s/it]\u001B[A\n",
      " 83%|████████▎ | 54/65 [01:03<00:12,  1.18s/it]\u001B[A\n",
      " 85%|████████▍ | 55/65 [01:05<00:11,  1.18s/it]\u001B[A\n",
      " 86%|████████▌ | 56/65 [01:06<00:10,  1.18s/it]\u001B[A\n",
      " 88%|████████▊ | 57/65 [01:07<00:09,  1.18s/it]\u001B[A\n",
      " 89%|████████▉ | 58/65 [01:08<00:08,  1.18s/it]\u001B[A\n",
      " 91%|█████████ | 59/65 [01:09<00:07,  1.18s/it]\u001B[A\n",
      " 92%|█████████▏| 60/65 [01:10<00:05,  1.18s/it]\u001B[A\n",
      " 94%|█████████▍| 61/65 [01:12<00:04,  1.18s/it]\u001B[A\n",
      " 95%|█████████▌| 62/65 [01:13<00:03,  1.18s/it]\u001B[A\n",
      " 97%|█████████▋| 63/65 [01:14<00:02,  1.18s/it]\u001B[A\n",
      " 98%|█████████▊| 64/65 [01:15<00:01,  1.18s/it]\u001B[A\n",
      "100%|██████████| 65/65 [01:16<00:00,  1.18s/it]\u001B[A\n",
      "\n",
      "  0%|          | 0/65 [00:00<?, ?it/s]\u001B[A\n",
      "  2%|▏         | 1/65 [00:02<01:49,  1.71s/it]\u001B[A\n",
      "  3%|▎         | 2/65 [00:03<02:05,  1.99s/it]\u001B[A\n",
      "  5%|▍         | 3/65 [00:05<01:40,  1.62s/it]\u001B[A\n",
      "  6%|▌         | 4/65 [00:06<01:28,  1.45s/it]\u001B[A\n",
      "  8%|▊         | 5/65 [00:07<01:21,  1.35s/it]\u001B[A\n",
      "  9%|▉         | 6/65 [00:08<01:16,  1.29s/it]\u001B[A\n",
      " 11%|█         | 7/65 [00:09<01:12,  1.26s/it]\u001B[A\n",
      " 12%|█▏        | 8/65 [00:10<01:10,  1.23s/it]\u001B[A\n",
      " 14%|█▍        | 9/65 [00:12<01:08,  1.22s/it]\u001B[A\n",
      " 15%|█▌        | 10/65 [00:13<01:06,  1.20s/it]\u001B[A\n",
      " 17%|█▋        | 11/65 [00:14<01:04,  1.20s/it]\u001B[A\n",
      " 18%|█▊        | 12/65 [00:15<01:03,  1.19s/it]\u001B[A\n",
      " 20%|██        | 13/65 [00:16<01:01,  1.19s/it]\u001B[A\n",
      " 22%|██▏       | 14/65 [00:18<01:00,  1.19s/it]\u001B[A\n",
      " 23%|██▎       | 15/65 [00:19<00:59,  1.18s/it]\u001B[A\n",
      " 25%|██▍       | 16/65 [00:20<00:57,  1.18s/it]\u001B[A\n",
      " 26%|██▌       | 17/65 [00:21<00:56,  1.18s/it]\u001B[A\n",
      " 28%|██▊       | 18/65 [00:22<00:55,  1.18s/it]\u001B[A\n",
      " 29%|██▉       | 19/65 [00:23<00:54,  1.18s/it]\u001B[A\n",
      " 31%|███       | 20/65 [00:25<00:53,  1.18s/it]\u001B[A\n",
      " 32%|███▏      | 21/65 [00:26<00:51,  1.18s/it]\u001B[A\n",
      " 34%|███▍      | 22/65 [00:27<00:50,  1.18s/it]\u001B[A\n",
      " 35%|███▌      | 23/65 [00:28<00:49,  1.18s/it]\u001B[A\n",
      " 37%|███▋      | 24/65 [00:29<00:48,  1.18s/it]\u001B[A\n",
      " 38%|███▊      | 25/65 [00:31<00:47,  1.18s/it]\u001B[A\n",
      " 40%|████      | 26/65 [00:32<00:46,  1.18s/it]\u001B[A\n",
      " 42%|████▏     | 27/65 [00:33<00:44,  1.18s/it]\u001B[A\n",
      " 43%|████▎     | 28/65 [00:34<00:43,  1.18s/it]\u001B[A\n",
      " 45%|████▍     | 29/65 [00:35<00:42,  1.18s/it]\u001B[A\n",
      " 46%|████▌     | 30/65 [00:36<00:41,  1.18s/it]\u001B[A\n",
      " 48%|████▊     | 31/65 [00:38<00:40,  1.18s/it]\u001B[A\n",
      " 49%|████▉     | 32/65 [00:39<00:38,  1.18s/it]\u001B[A\n",
      " 51%|█████     | 33/65 [00:40<00:37,  1.18s/it]\u001B[A\n",
      " 52%|█████▏    | 34/65 [00:41<00:36,  1.18s/it]\u001B[A\n",
      " 54%|█████▍    | 35/65 [00:42<00:35,  1.18s/it]\u001B[A\n",
      " 55%|█████▌    | 36/65 [00:44<00:34,  1.18s/it]\u001B[A\n",
      " 57%|█████▋    | 37/65 [00:45<00:33,  1.18s/it]\u001B[A\n",
      " 58%|█████▊    | 38/65 [00:46<00:31,  1.18s/it]\u001B[A\n",
      " 60%|██████    | 39/65 [00:47<00:30,  1.18s/it]\u001B[A\n",
      " 62%|██████▏   | 40/65 [00:48<00:29,  1.18s/it]\u001B[A\n",
      " 63%|██████▎   | 41/65 [00:49<00:28,  1.18s/it]\u001B[A\n",
      " 65%|██████▍   | 42/65 [00:51<00:27,  1.18s/it]\u001B[A\n",
      " 66%|██████▌   | 43/65 [00:52<00:25,  1.18s/it]\u001B[A\n",
      " 68%|██████▊   | 44/65 [00:53<00:24,  1.18s/it]\u001B[A\n",
      " 69%|██████▉   | 45/65 [00:54<00:23,  1.18s/it]\u001B[A\n",
      " 71%|███████   | 46/65 [00:55<00:22,  1.18s/it]\u001B[A\n",
      " 72%|███████▏  | 47/65 [00:57<00:21,  1.18s/it]\u001B[A\n",
      " 74%|███████▍  | 48/65 [00:58<00:20,  1.18s/it]\u001B[A\n",
      " 75%|███████▌  | 49/65 [00:59<00:18,  1.18s/it]\u001B[A\n",
      " 77%|███████▋  | 50/65 [01:00<00:17,  1.18s/it]\u001B[A\n",
      " 78%|███████▊  | 51/65 [01:01<00:16,  1.18s/it]\u001B[A\n",
      " 80%|████████  | 52/65 [01:02<00:15,  1.18s/it]\u001B[A\n",
      " 82%|████████▏ | 53/65 [01:04<00:14,  1.18s/it]\u001B[A\n",
      " 83%|████████▎ | 54/65 [01:05<00:12,  1.18s/it]\u001B[A\n",
      " 85%|████████▍ | 55/65 [01:06<00:11,  1.18s/it]\u001B[A\n",
      " 86%|████████▌ | 56/65 [01:07<00:10,  1.18s/it]\u001B[A\n",
      " 88%|████████▊ | 57/65 [01:08<00:09,  1.18s/it]\u001B[A\n",
      " 89%|████████▉ | 58/65 [01:09<00:08,  1.18s/it]\u001B[A\n",
      " 91%|█████████ | 59/65 [01:11<00:07,  1.18s/it]\u001B[A\n",
      " 92%|█████████▏| 60/65 [01:12<00:05,  1.18s/it]\u001B[A\n",
      " 94%|█████████▍| 61/65 [01:13<00:04,  1.18s/it]\u001B[A\n",
      " 95%|█████████▌| 62/65 [01:14<00:03,  1.18s/it]\u001B[A\n",
      " 97%|█████████▋| 63/65 [01:15<00:02,  1.18s/it]\u001B[A\n",
      " 98%|█████████▊| 64/65 [01:17<00:01,  1.18s/it]\u001B[A\n",
      "100%|██████████| 65/65 [01:18<00:00,  1.20s/it]\u001B[A\n",
      "\n",
      "100%|██████████| 65/65 [00:00<00:00, 20324.27it/s]\n",
      "\n",
      "100%|██████████| 65/65 [00:00<00:00, 581300.13it/s]\n",
      " 74%|███████▍  | 57/77 [40:21<20:23, 61.19s/it]"
     ]
    },
    {
     "name": "stdout",
     "output_type": "stream",
     "text": [
      "====================nh6 - 10====================\n",
      "Already exists\n",
      "====================nh6 - 20====================\n",
      "Already exists\n",
      "====================nh6 - 30====================\n",
      "Already exists\n",
      "====================nh6 - 40====================\n",
      "Already exists\n",
      "====================nh6 - 60====================\n",
      "Already exists\n",
      "====================nh6 - 80====================\n",
      "Already exists\n",
      "====================nh6 - 100====================\n",
      "Already exists\n",
      "====================nh6 - 150====================\n",
      "Already exists\n",
      "====================nh6 - 200====================\n",
      "Already exists\n",
      "====================nh7 - 1====================\n"
     ]
    },
    {
     "name": "stderr",
     "output_type": "stream",
     "text": [
      "\n",
      "  0%|          | 0/80 [00:00<?, ?it/s]\u001B[A\n",
      "  1%|▏         | 1/80 [00:01<01:38,  1.24s/it]\u001B[A\n",
      "  2%|▎         | 2/80 [00:02<01:34,  1.21s/it]\u001B[A\n",
      "  4%|▍         | 3/80 [00:03<01:32,  1.20s/it]\u001B[A\n",
      "  5%|▌         | 4/80 [00:04<01:34,  1.24s/it]\u001B[A\n",
      "  6%|▋         | 5/80 [00:06<01:32,  1.23s/it]\u001B[A\n",
      "  8%|▊         | 6/80 [00:07<01:29,  1.22s/it]\u001B[A\n",
      "  9%|▉         | 7/80 [00:08<01:28,  1.21s/it]\u001B[A\n",
      " 10%|█         | 8/80 [00:09<01:26,  1.21s/it]\u001B[A\n",
      " 11%|█▏        | 9/80 [00:10<01:25,  1.20s/it]\u001B[A\n",
      " 12%|█▎        | 10/80 [00:12<01:23,  1.20s/it]\u001B[A\n",
      " 14%|█▍        | 11/80 [00:13<01:23,  1.21s/it]\u001B[A\n",
      " 15%|█▌        | 12/80 [00:14<01:21,  1.21s/it]\u001B[A\n",
      " 16%|█▋        | 13/80 [00:15<01:21,  1.21s/it]\u001B[A\n",
      " 18%|█▊        | 14/80 [00:16<01:19,  1.20s/it]\u001B[A\n",
      " 19%|█▉        | 15/80 [00:18<01:18,  1.20s/it]\u001B[A\n",
      " 20%|██        | 16/80 [00:19<01:17,  1.21s/it]\u001B[A\n",
      " 21%|██▏       | 17/80 [00:20<01:16,  1.21s/it]\u001B[A\n",
      " 22%|██▎       | 18/80 [00:21<01:15,  1.22s/it]\u001B[A\n",
      " 24%|██▍       | 19/80 [00:23<01:13,  1.21s/it]\u001B[A\n",
      " 25%|██▌       | 20/80 [00:24<01:12,  1.20s/it]\u001B[A\n",
      " 26%|██▋       | 21/80 [00:25<01:10,  1.20s/it]\u001B[A\n",
      " 28%|██▊       | 22/80 [00:26<01:09,  1.20s/it]\u001B[A\n",
      " 29%|██▉       | 23/80 [00:27<01:08,  1.21s/it]\u001B[A\n",
      " 30%|███       | 24/80 [00:29<01:07,  1.21s/it]\u001B[A\n",
      " 31%|███▏      | 25/80 [00:30<01:05,  1.20s/it]\u001B[A\n",
      " 32%|███▎      | 26/80 [00:31<01:04,  1.19s/it]\u001B[A\n",
      " 34%|███▍      | 27/80 [00:32<01:02,  1.19s/it]\u001B[A\n",
      " 35%|███▌      | 28/80 [00:33<01:01,  1.18s/it]\u001B[A\n",
      " 36%|███▋      | 29/80 [00:34<01:00,  1.18s/it]\u001B[A\n",
      " 38%|███▊      | 30/80 [00:36<00:59,  1.20s/it]\u001B[A\n",
      " 39%|███▉      | 31/80 [00:37<00:58,  1.19s/it]\u001B[A\n",
      " 40%|████      | 32/80 [00:38<00:57,  1.19s/it]\u001B[A\n",
      " 41%|████▏     | 33/80 [00:39<00:55,  1.19s/it]\u001B[A\n",
      " 42%|████▎     | 34/80 [00:40<00:54,  1.19s/it]\u001B[A\n",
      " 44%|████▍     | 35/80 [00:42<00:53,  1.19s/it]\u001B[A\n",
      " 45%|████▌     | 36/80 [00:43<00:52,  1.19s/it]\u001B[A\n",
      " 46%|████▋     | 37/80 [00:44<00:51,  1.21s/it]\u001B[A\n",
      " 48%|████▊     | 38/80 [00:45<00:50,  1.20s/it]\u001B[A\n",
      " 49%|████▉     | 39/80 [00:46<00:49,  1.20s/it]\u001B[A\n",
      " 50%|█████     | 40/80 [00:48<00:48,  1.21s/it]\u001B[A\n",
      " 51%|█████▏    | 41/80 [00:49<00:47,  1.21s/it]\u001B[A\n",
      " 52%|█████▎    | 42/80 [00:50<00:45,  1.20s/it]\u001B[A\n",
      " 54%|█████▍    | 43/80 [00:51<00:44,  1.21s/it]\u001B[A\n",
      " 55%|█████▌    | 44/80 [00:52<00:43,  1.21s/it]\u001B[A\n",
      " 56%|█████▋    | 45/80 [00:54<00:42,  1.20s/it]\u001B[A\n",
      " 57%|█████▊    | 46/80 [00:55<00:41,  1.21s/it]\u001B[A\n",
      " 59%|█████▉    | 47/80 [00:56<00:40,  1.22s/it]\u001B[A\n",
      " 60%|██████    | 48/80 [00:57<00:38,  1.22s/it]\u001B[A\n",
      " 61%|██████▏   | 49/80 [00:59<00:37,  1.21s/it]\u001B[A\n",
      " 62%|██████▎   | 50/80 [01:00<00:36,  1.21s/it]\u001B[A\n",
      " 64%|██████▍   | 51/80 [01:01<00:35,  1.21s/it]\u001B[A\n",
      " 65%|██████▌   | 52/80 [01:02<00:33,  1.21s/it]\u001B[A\n",
      " 66%|██████▋   | 53/80 [01:03<00:32,  1.22s/it]\u001B[A\n",
      " 68%|██████▊   | 54/80 [01:05<00:31,  1.23s/it]\u001B[A\n",
      " 69%|██████▉   | 55/80 [01:06<00:30,  1.22s/it]\u001B[A\n",
      " 70%|███████   | 56/80 [01:07<00:28,  1.21s/it]\u001B[A\n",
      " 71%|███████▏  | 57/80 [01:08<00:27,  1.20s/it]\u001B[A\n",
      " 72%|███████▎  | 58/80 [01:09<00:26,  1.19s/it]\u001B[A\n",
      " 74%|███████▍  | 59/80 [01:11<00:24,  1.19s/it]\u001B[A\n",
      " 75%|███████▌  | 60/80 [01:12<00:23,  1.18s/it]\u001B[A\n",
      " 76%|███████▋  | 61/80 [01:13<00:22,  1.19s/it]\u001B[A\n",
      " 78%|███████▊  | 62/80 [01:14<00:21,  1.19s/it]\u001B[A\n",
      " 79%|███████▉  | 63/80 [01:15<00:20,  1.19s/it]\u001B[A\n",
      " 80%|████████  | 64/80 [01:16<00:19,  1.19s/it]\u001B[A\n",
      " 81%|████████▏ | 65/80 [01:18<00:18,  1.22s/it]\u001B[A\n",
      " 82%|████████▎ | 66/80 [01:19<00:17,  1.24s/it]\u001B[A\n",
      " 84%|████████▍ | 67/80 [01:20<00:15,  1.23s/it]\u001B[A\n",
      " 85%|████████▌ | 68/80 [01:21<00:14,  1.22s/it]\u001B[A\n",
      " 86%|████████▋ | 69/80 [01:23<00:13,  1.21s/it]\u001B[A\n",
      " 88%|████████▊ | 70/80 [01:24<00:12,  1.20s/it]\u001B[A\n",
      " 89%|████████▉ | 71/80 [01:25<00:10,  1.20s/it]\u001B[A\n",
      " 90%|█████████ | 72/80 [01:26<00:09,  1.20s/it]\u001B[A\n",
      " 91%|█████████▏| 73/80 [01:27<00:08,  1.20s/it]\u001B[A\n",
      " 92%|█████████▎| 74/80 [01:29<00:07,  1.19s/it]\u001B[A\n",
      " 94%|█████████▍| 75/80 [01:30<00:05,  1.19s/it]\u001B[A\n",
      " 95%|█████████▌| 76/80 [01:31<00:04,  1.19s/it]\u001B[A\n",
      " 96%|█████████▋| 77/80 [01:32<00:03,  1.18s/it]\u001B[A\n",
      " 98%|█████████▊| 78/80 [01:33<00:02,  1.18s/it]\u001B[A\n",
      " 99%|█████████▉| 79/80 [01:35<00:01,  1.19s/it]\u001B[A\n",
      "100%|██████████| 80/80 [01:36<00:00,  1.20s/it]\u001B[A\n",
      "\n",
      "  0%|          | 0/80 [00:00<?, ?it/s]\u001B[A\n",
      "  1%|▏         | 1/80 [00:01<01:32,  1.18s/it]\u001B[A\n",
      "  2%|▎         | 2/80 [00:05<02:58,  2.29s/it]\u001B[A\n",
      "  4%|▍         | 3/80 [00:07<03:37,  2.83s/it]\u001B[A\n",
      "  5%|▌         | 4/80 [00:10<03:24,  2.69s/it]\u001B[A\n",
      "  6%|▋         | 5/80 [00:11<02:49,  2.27s/it]\u001B[A\n",
      "  8%|▊         | 6/80 [00:12<02:20,  1.90s/it]\u001B[A\n",
      "  9%|▉         | 7/80 [00:14<02:01,  1.67s/it]\u001B[A\n",
      " 10%|█         | 8/80 [00:15<01:48,  1.51s/it]\u001B[A\n",
      " 11%|█▏        | 9/80 [00:16<01:40,  1.41s/it]\u001B[A\n",
      " 12%|█▎        | 10/80 [00:17<01:33,  1.34s/it]\u001B[A\n",
      " 14%|█▍        | 11/80 [00:18<01:28,  1.29s/it]\u001B[A\n",
      " 15%|█▌        | 12/80 [00:19<01:25,  1.25s/it]\u001B[A\n",
      " 16%|█▋        | 13/80 [00:21<01:22,  1.23s/it]\u001B[A\n",
      " 18%|█▊        | 14/80 [00:22<01:19,  1.21s/it]\u001B[A\n",
      " 19%|█▉        | 15/80 [00:23<01:18,  1.20s/it]\u001B[A\n",
      " 20%|██        | 16/80 [00:24<01:16,  1.20s/it]\u001B[A\n",
      " 21%|██▏       | 17/80 [00:25<01:15,  1.19s/it]\u001B[A\n",
      " 22%|██▎       | 18/80 [00:27<01:13,  1.19s/it]\u001B[A\n",
      " 24%|██▍       | 19/80 [00:28<01:12,  1.18s/it]\u001B[A\n",
      " 25%|██▌       | 20/80 [00:29<01:10,  1.18s/it]\u001B[A\n",
      " 26%|██▋       | 21/80 [00:30<01:09,  1.18s/it]\u001B[A\n",
      " 28%|██▊       | 22/80 [00:31<01:08,  1.18s/it]\u001B[A\n",
      " 29%|██▉       | 23/80 [00:32<01:07,  1.18s/it]\u001B[A\n",
      " 30%|███       | 24/80 [00:34<01:06,  1.18s/it]\u001B[A\n",
      " 31%|███▏      | 25/80 [00:35<01:04,  1.18s/it]\u001B[A\n",
      " 32%|███▎      | 26/80 [00:36<01:04,  1.19s/it]\u001B[A\n",
      " 34%|███▍      | 27/80 [00:37<01:02,  1.18s/it]\u001B[A\n",
      " 35%|███▌      | 28/80 [00:38<01:01,  1.18s/it]\u001B[A\n",
      " 36%|███▋      | 29/80 [00:40<01:00,  1.18s/it]\u001B[A\n",
      " 38%|███▊      | 30/80 [00:41<00:59,  1.18s/it]\u001B[A\n",
      " 39%|███▉      | 31/80 [00:42<00:57,  1.18s/it]\u001B[A\n",
      " 40%|████      | 32/80 [00:43<00:56,  1.18s/it]\u001B[A\n",
      " 41%|████▏     | 33/80 [00:44<00:55,  1.18s/it]\u001B[A\n",
      " 42%|████▎     | 34/80 [00:45<00:54,  1.18s/it]\u001B[A\n",
      " 44%|████▍     | 35/80 [00:47<00:53,  1.18s/it]\u001B[A\n",
      " 45%|████▌     | 36/80 [00:48<00:52,  1.18s/it]\u001B[A\n",
      " 46%|████▋     | 37/80 [00:49<00:50,  1.18s/it]\u001B[A\n",
      " 48%|████▊     | 38/80 [00:50<00:49,  1.18s/it]\u001B[A\n",
      " 49%|████▉     | 39/80 [00:51<00:48,  1.18s/it]\u001B[A\n",
      " 50%|█████     | 40/80 [00:53<00:47,  1.18s/it]\u001B[A\n",
      " 51%|█████▏    | 41/80 [00:54<00:46,  1.18s/it]\u001B[A\n",
      " 52%|█████▎    | 42/80 [00:55<00:44,  1.18s/it]\u001B[A\n",
      " 54%|█████▍    | 43/80 [00:56<00:43,  1.18s/it]\u001B[A\n",
      " 55%|█████▌    | 44/80 [00:57<00:42,  1.18s/it]\u001B[A\n",
      " 56%|█████▋    | 45/80 [00:58<00:41,  1.18s/it]\u001B[A\n",
      " 57%|█████▊    | 46/80 [01:00<00:40,  1.18s/it]\u001B[A\n",
      " 59%|█████▉    | 47/80 [01:01<00:38,  1.18s/it]\u001B[A\n",
      " 60%|██████    | 48/80 [01:02<00:37,  1.18s/it]\u001B[A\n",
      " 61%|██████▏   | 49/80 [01:03<00:36,  1.18s/it]\u001B[A\n",
      " 62%|██████▎   | 50/80 [01:04<00:35,  1.18s/it]\u001B[A\n",
      " 64%|██████▍   | 51/80 [01:06<00:34,  1.18s/it]\u001B[A\n",
      " 65%|██████▌   | 52/80 [01:07<00:33,  1.18s/it]\u001B[A\n",
      " 66%|██████▋   | 53/80 [01:08<00:31,  1.18s/it]\u001B[A\n",
      " 68%|██████▊   | 54/80 [01:09<00:30,  1.18s/it]\u001B[A\n",
      " 69%|██████▉   | 55/80 [01:10<00:29,  1.18s/it]\u001B[A\n",
      " 70%|███████   | 56/80 [01:11<00:28,  1.18s/it]\u001B[A\n",
      " 71%|███████▏  | 57/80 [01:13<00:27,  1.18s/it]\u001B[A\n",
      " 72%|███████▎  | 58/80 [01:14<00:26,  1.19s/it]\u001B[A\n",
      " 74%|███████▍  | 59/80 [01:15<00:25,  1.19s/it]\u001B[A\n",
      " 75%|███████▌  | 60/80 [01:16<00:23,  1.19s/it]\u001B[A\n",
      " 76%|███████▋  | 61/80 [01:17<00:22,  1.19s/it]\u001B[A\n",
      " 78%|███████▊  | 62/80 [01:19<00:21,  1.18s/it]\u001B[A\n",
      " 79%|███████▉  | 63/80 [01:20<00:20,  1.18s/it]\u001B[A\n",
      " 80%|████████  | 64/80 [01:21<00:18,  1.18s/it]\u001B[A\n",
      " 81%|████████▏ | 65/80 [01:22<00:17,  1.18s/it]\u001B[A\n",
      " 82%|████████▎ | 66/80 [01:23<00:16,  1.18s/it]\u001B[A\n",
      " 84%|████████▍ | 67/80 [01:24<00:15,  1.18s/it]\u001B[A\n",
      " 85%|████████▌ | 68/80 [01:26<00:14,  1.18s/it]\u001B[A\n",
      " 86%|████████▋ | 69/80 [01:27<00:13,  1.19s/it]\u001B[A\n",
      " 88%|████████▊ | 70/80 [01:28<00:11,  1.20s/it]\u001B[A\n",
      " 89%|████████▉ | 71/80 [01:29<00:10,  1.19s/it]\u001B[A\n",
      " 90%|█████████ | 72/80 [01:30<00:09,  1.19s/it]\u001B[A\n",
      " 91%|█████████▏| 73/80 [01:32<00:08,  1.19s/it]\u001B[A\n",
      " 92%|█████████▎| 74/80 [01:33<00:07,  1.19s/it]\u001B[A\n",
      " 94%|█████████▍| 75/80 [01:34<00:05,  1.19s/it]\u001B[A\n",
      " 95%|█████████▌| 76/80 [01:35<00:04,  1.18s/it]\u001B[A\n",
      " 96%|█████████▋| 77/80 [01:36<00:03,  1.19s/it]\u001B[A\n",
      " 98%|█████████▊| 78/80 [01:38<00:02,  1.18s/it]\u001B[A\n",
      " 99%|█████████▉| 79/80 [01:39<00:01,  1.18s/it]\u001B[A\n",
      "100%|██████████| 80/80 [01:40<00:00,  1.25s/it]\u001B[A\n",
      "\n",
      "100%|██████████| 80/80 [00:00<00:00, 503820.30it/s]\n",
      "\n",
      "100%|██████████| 80/80 [00:00<00:00, 785818.08it/s]\n",
      " 87%|████████▋ | 67/77 [46:14<08:07, 48.79s/it]"
     ]
    },
    {
     "name": "stdout",
     "output_type": "stream",
     "text": [
      "====================nh7 - 5====================\n"
     ]
    },
    {
     "name": "stderr",
     "output_type": "stream",
     "text": [
      "\n",
      "  0%|          | 0/80 [00:00<?, ?it/s]\u001B[A\n",
      "  1%|▏         | 1/80 [00:01<01:37,  1.23s/it]\u001B[A\n",
      "  2%|▎         | 2/80 [00:02<01:33,  1.20s/it]\u001B[A\n",
      "  4%|▍         | 3/80 [00:03<01:31,  1.19s/it]\u001B[A\n",
      "  5%|▌         | 4/80 [00:04<01:30,  1.19s/it]\u001B[A\n",
      "  6%|▋         | 5/80 [00:05<01:28,  1.18s/it]\u001B[A\n",
      "  8%|▊         | 6/80 [00:07<01:27,  1.18s/it]\u001B[A\n",
      "  9%|▉         | 7/80 [00:08<01:26,  1.19s/it]\u001B[A\n",
      " 10%|█         | 8/80 [00:09<01:25,  1.19s/it]\u001B[A\n",
      " 11%|█▏        | 9/80 [00:10<01:24,  1.19s/it]\u001B[A\n",
      " 12%|█▎        | 10/80 [00:11<01:23,  1.19s/it]\u001B[A\n",
      " 14%|█▍        | 11/80 [00:13<01:21,  1.18s/it]\u001B[A\n",
      " 15%|█▌        | 12/80 [00:14<01:20,  1.18s/it]\u001B[A\n",
      " 16%|█▋        | 13/80 [00:15<01:19,  1.18s/it]\u001B[A\n",
      " 18%|█▊        | 14/80 [00:16<01:18,  1.19s/it]\u001B[A\n",
      " 19%|█▉        | 15/80 [00:17<01:17,  1.19s/it]\u001B[A\n",
      " 20%|██        | 16/80 [00:19<01:16,  1.19s/it]\u001B[A\n",
      " 21%|██▏       | 17/80 [00:20<01:14,  1.19s/it]\u001B[A\n",
      " 22%|██▎       | 18/80 [00:21<01:13,  1.18s/it]\u001B[A\n",
      " 24%|██▍       | 19/80 [00:22<01:12,  1.19s/it]\u001B[A\n",
      " 25%|██▌       | 20/80 [00:23<01:10,  1.18s/it]\u001B[A\n",
      " 26%|██▋       | 21/80 [00:24<01:10,  1.19s/it]\u001B[A\n",
      " 28%|██▊       | 22/80 [00:26<01:08,  1.19s/it]\u001B[A\n",
      " 29%|██▉       | 23/80 [00:27<01:07,  1.19s/it]\u001B[A\n",
      " 30%|███       | 24/80 [00:28<01:06,  1.19s/it]\u001B[A\n",
      " 31%|███▏      | 25/80 [00:29<01:05,  1.20s/it]\u001B[A\n",
      " 32%|███▎      | 26/80 [00:30<01:04,  1.20s/it]\u001B[A\n",
      " 34%|███▍      | 27/80 [00:32<01:03,  1.19s/it]\u001B[A\n",
      " 35%|███▌      | 28/80 [00:33<01:01,  1.19s/it]\u001B[A\n",
      " 36%|███▋      | 29/80 [00:34<01:00,  1.19s/it]\u001B[A\n",
      " 38%|███▊      | 30/80 [00:35<00:59,  1.19s/it]\u001B[A\n",
      " 39%|███▉      | 31/80 [00:36<00:58,  1.19s/it]\u001B[A\n",
      " 40%|████      | 32/80 [00:38<00:56,  1.18s/it]\u001B[A\n",
      " 41%|████▏     | 33/80 [00:39<00:55,  1.18s/it]\u001B[A\n",
      " 42%|████▎     | 34/80 [00:40<00:54,  1.18s/it]\u001B[A\n",
      " 44%|████▍     | 35/80 [00:41<00:53,  1.18s/it]\u001B[A\n",
      " 45%|████▌     | 36/80 [00:42<00:51,  1.18s/it]\u001B[A\n",
      " 46%|████▋     | 37/80 [00:43<00:50,  1.18s/it]\u001B[A\n",
      " 48%|████▊     | 38/80 [00:45<00:49,  1.18s/it]\u001B[A\n",
      " 49%|████▉     | 39/80 [00:46<00:48,  1.18s/it]\u001B[A\n",
      " 50%|█████     | 40/80 [00:47<00:47,  1.18s/it]\u001B[A\n",
      " 51%|█████▏    | 41/80 [00:48<00:46,  1.18s/it]\u001B[A\n",
      " 52%|█████▎    | 42/80 [00:49<00:44,  1.18s/it]\u001B[A\n",
      " 54%|█████▍    | 43/80 [00:50<00:43,  1.18s/it]\u001B[A\n",
      " 55%|█████▌    | 44/80 [00:52<00:42,  1.18s/it]\u001B[A\n",
      " 56%|█████▋    | 45/80 [00:53<00:41,  1.17s/it]\u001B[A\n",
      " 57%|█████▊    | 46/80 [00:54<00:39,  1.17s/it]\u001B[A\n",
      " 59%|█████▉    | 47/80 [00:55<00:38,  1.17s/it]\u001B[A\n",
      " 60%|██████    | 48/80 [00:56<00:37,  1.17s/it]\u001B[A\n",
      " 61%|██████▏   | 49/80 [00:58<00:36,  1.17s/it]\u001B[A\n",
      " 62%|██████▎   | 50/80 [00:59<00:35,  1.17s/it]\u001B[A\n",
      " 64%|██████▍   | 51/80 [01:00<00:34,  1.17s/it]\u001B[A\n",
      " 65%|██████▌   | 52/80 [01:01<00:32,  1.17s/it]\u001B[A\n",
      " 66%|██████▋   | 53/80 [01:02<00:31,  1.17s/it]\u001B[A\n",
      " 68%|██████▊   | 54/80 [01:03<00:30,  1.17s/it]\u001B[A\n",
      " 69%|██████▉   | 55/80 [01:05<00:29,  1.17s/it]\u001B[A\n",
      " 70%|███████   | 56/80 [01:06<00:28,  1.18s/it]\u001B[A\n",
      " 71%|███████▏  | 57/80 [01:07<00:27,  1.18s/it]\u001B[A\n",
      " 72%|███████▎  | 58/80 [01:08<00:25,  1.18s/it]\u001B[A\n",
      " 74%|███████▍  | 59/80 [01:09<00:24,  1.18s/it]\u001B[A\n",
      " 75%|███████▌  | 60/80 [01:10<00:23,  1.18s/it]\u001B[A\n",
      " 76%|███████▋  | 61/80 [01:12<00:22,  1.18s/it]\u001B[A\n",
      " 78%|███████▊  | 62/80 [01:13<00:21,  1.18s/it]\u001B[A\n",
      " 79%|███████▉  | 63/80 [01:14<00:20,  1.18s/it]\u001B[A\n",
      " 80%|████████  | 64/80 [01:15<00:18,  1.18s/it]\u001B[A\n",
      " 81%|████████▏ | 65/80 [01:16<00:17,  1.18s/it]\u001B[A\n",
      " 82%|████████▎ | 66/80 [01:18<00:16,  1.18s/it]\u001B[A\n",
      " 84%|████████▍ | 67/80 [01:19<00:15,  1.17s/it]\u001B[A\n",
      " 85%|████████▌ | 68/80 [01:20<00:14,  1.18s/it]\u001B[A\n",
      " 86%|████████▋ | 69/80 [01:21<00:12,  1.18s/it]\u001B[A\n",
      " 88%|████████▊ | 70/80 [01:22<00:11,  1.18s/it]\u001B[A\n",
      " 89%|████████▉ | 71/80 [01:23<00:10,  1.18s/it]\u001B[A\n",
      " 90%|█████████ | 72/80 [01:25<00:09,  1.18s/it]\u001B[A\n",
      " 91%|█████████▏| 73/80 [01:26<00:08,  1.18s/it]\u001B[A\n",
      " 92%|█████████▎| 74/80 [01:27<00:07,  1.18s/it]\u001B[A\n",
      " 94%|█████████▍| 75/80 [01:28<00:05,  1.18s/it]\u001B[A\n",
      " 95%|█████████▌| 76/80 [01:29<00:04,  1.17s/it]\u001B[A\n",
      " 96%|█████████▋| 77/80 [01:30<00:03,  1.17s/it]\u001B[A\n",
      " 98%|█████████▊| 78/80 [01:32<00:02,  1.17s/it]\u001B[A\n",
      " 99%|█████████▉| 79/80 [01:33<00:01,  1.18s/it]\u001B[A\n",
      "100%|██████████| 80/80 [01:34<00:00,  1.18s/it]\u001B[A\n",
      "\n",
      "  0%|          | 0/80 [00:00<?, ?it/s]\u001B[A\n",
      "  1%|▏         | 1/80 [00:02<02:25,  1.84s/it]\u001B[A\n",
      "  2%|▎         | 2/80 [00:05<02:59,  2.30s/it]\u001B[A\n",
      "  4%|▍         | 3/80 [00:07<03:12,  2.50s/it]\u001B[A\n",
      "  5%|▌         | 4/80 [00:10<03:26,  2.71s/it]\u001B[A\n",
      "  6%|▋         | 5/80 [00:11<02:46,  2.22s/it]\u001B[A\n",
      "  8%|▊         | 6/80 [00:12<02:18,  1.87s/it]\u001B[A\n",
      "  9%|▉         | 7/80 [00:14<02:01,  1.67s/it]\u001B[A\n",
      " 10%|█         | 8/80 [00:15<01:49,  1.51s/it]\u001B[A\n",
      " 11%|█▏        | 9/80 [00:16<01:40,  1.41s/it]\u001B[A\n",
      " 12%|█▎        | 10/80 [00:17<01:33,  1.34s/it]\u001B[A\n",
      " 14%|█▍        | 11/80 [00:18<01:28,  1.29s/it]\u001B[A\n",
      " 15%|█▌        | 12/80 [00:19<01:25,  1.26s/it]\u001B[A\n",
      " 16%|█▋        | 13/80 [00:21<01:22,  1.23s/it]\u001B[A\n",
      " 18%|█▊        | 14/80 [00:22<01:20,  1.22s/it]\u001B[A\n",
      " 19%|█▉        | 15/80 [00:23<01:18,  1.20s/it]\u001B[A\n",
      " 20%|██        | 16/80 [00:24<01:16,  1.19s/it]\u001B[A\n",
      " 21%|██▏       | 17/80 [00:25<01:14,  1.19s/it]\u001B[A\n",
      " 22%|██▎       | 18/80 [00:26<01:13,  1.18s/it]\u001B[A\n",
      " 24%|██▍       | 19/80 [00:28<01:12,  1.18s/it]\u001B[A\n",
      " 25%|██▌       | 20/80 [00:29<01:10,  1.18s/it]\u001B[A\n",
      " 26%|██▋       | 21/80 [00:30<01:09,  1.18s/it]\u001B[A\n",
      " 28%|██▊       | 22/80 [00:31<01:08,  1.18s/it]\u001B[A\n",
      " 29%|██▉       | 23/80 [00:32<01:07,  1.18s/it]\u001B[A\n",
      " 30%|███       | 24/80 [00:34<01:06,  1.18s/it]\u001B[A\n",
      " 31%|███▏      | 25/80 [00:35<01:05,  1.19s/it]\u001B[A\n",
      " 32%|███▎      | 26/80 [00:36<01:03,  1.18s/it]\u001B[A\n",
      " 34%|███▍      | 27/80 [00:37<01:02,  1.18s/it]\u001B[A\n",
      " 35%|███▌      | 28/80 [00:38<01:01,  1.18s/it]\u001B[A\n",
      " 36%|███▋      | 29/80 [00:39<01:00,  1.18s/it]\u001B[A\n",
      " 38%|███▊      | 30/80 [00:41<00:58,  1.18s/it]\u001B[A\n",
      " 39%|███▉      | 31/80 [00:42<00:57,  1.18s/it]\u001B[A\n",
      " 40%|████      | 32/80 [00:43<00:56,  1.18s/it]\u001B[A\n",
      " 41%|████▏     | 33/80 [00:44<00:55,  1.18s/it]\u001B[A\n",
      " 42%|████▎     | 34/80 [00:45<00:54,  1.18s/it]\u001B[A\n",
      " 44%|████▍     | 35/80 [00:47<00:53,  1.18s/it]\u001B[A\n",
      " 45%|████▌     | 36/80 [00:48<00:51,  1.18s/it]\u001B[A\n",
      " 46%|████▋     | 37/80 [00:49<00:50,  1.18s/it]\u001B[A\n",
      " 48%|████▊     | 38/80 [00:50<00:49,  1.18s/it]\u001B[A\n",
      " 49%|████▉     | 39/80 [00:51<00:48,  1.18s/it]\u001B[A\n",
      " 50%|█████     | 40/80 [00:52<00:47,  1.18s/it]\u001B[A\n",
      " 51%|█████▏    | 41/80 [00:54<00:45,  1.18s/it]\u001B[A\n",
      " 52%|█████▎    | 42/80 [00:55<00:45,  1.19s/it]\u001B[A\n",
      " 54%|█████▍    | 43/80 [00:56<00:44,  1.19s/it]\u001B[A\n",
      " 55%|█████▌    | 44/80 [00:57<00:42,  1.19s/it]\u001B[A\n",
      " 56%|█████▋    | 45/80 [00:58<00:41,  1.19s/it]\u001B[A\n",
      " 57%|█████▊    | 46/80 [01:00<00:40,  1.19s/it]\u001B[A\n",
      " 59%|█████▉    | 47/80 [01:01<00:39,  1.19s/it]\u001B[A\n",
      " 60%|██████    | 48/80 [01:02<00:38,  1.19s/it]\u001B[A\n",
      " 61%|██████▏   | 49/80 [01:03<00:36,  1.19s/it]\u001B[A\n",
      " 62%|██████▎   | 50/80 [01:04<00:35,  1.19s/it]\u001B[A\n",
      " 64%|██████▍   | 51/80 [01:06<00:34,  1.18s/it]\u001B[A\n",
      " 65%|██████▌   | 52/80 [01:07<00:33,  1.18s/it]\u001B[A\n",
      " 66%|██████▋   | 53/80 [01:08<00:31,  1.18s/it]\u001B[A\n",
      " 68%|██████▊   | 54/80 [01:09<00:30,  1.18s/it]\u001B[A\n",
      " 69%|██████▉   | 55/80 [01:10<00:29,  1.19s/it]\u001B[A\n",
      " 70%|███████   | 56/80 [01:11<00:28,  1.19s/it]\u001B[A\n",
      " 71%|███████▏  | 57/80 [01:13<00:27,  1.19s/it]\u001B[A\n",
      " 72%|███████▎  | 58/80 [01:14<00:26,  1.21s/it]\u001B[A\n",
      " 74%|███████▍  | 59/80 [01:15<00:25,  1.21s/it]\u001B[A\n",
      " 75%|███████▌  | 60/80 [01:16<00:23,  1.20s/it]\u001B[A\n",
      " 76%|███████▋  | 61/80 [01:17<00:22,  1.19s/it]\u001B[A\n",
      " 78%|███████▊  | 62/80 [01:19<00:21,  1.18s/it]\u001B[A\n",
      " 79%|███████▉  | 63/80 [01:20<00:20,  1.18s/it]\u001B[A\n",
      " 80%|████████  | 64/80 [01:21<00:18,  1.18s/it]\u001B[A\n",
      " 81%|████████▏ | 65/80 [01:22<00:17,  1.18s/it]\u001B[A\n",
      " 82%|████████▎ | 66/80 [01:23<00:16,  1.18s/it]\u001B[A\n",
      " 84%|████████▍ | 67/80 [01:24<00:15,  1.18s/it]\u001B[A\n",
      " 85%|████████▌ | 68/80 [01:26<00:14,  1.18s/it]\u001B[A\n",
      " 86%|████████▋ | 69/80 [01:27<00:12,  1.18s/it]\u001B[A\n",
      " 88%|████████▊ | 70/80 [01:28<00:11,  1.18s/it]\u001B[A\n",
      " 89%|████████▉ | 71/80 [01:29<00:10,  1.18s/it]\u001B[A\n",
      " 90%|█████████ | 72/80 [01:30<00:09,  1.18s/it]\u001B[A\n",
      " 91%|█████████▏| 73/80 [01:32<00:08,  1.18s/it]\u001B[A\n",
      " 92%|█████████▎| 74/80 [01:33<00:07,  1.18s/it]\u001B[A\n",
      " 94%|█████████▍| 75/80 [01:34<00:05,  1.18s/it]\u001B[A\n",
      " 95%|█████████▌| 76/80 [01:35<00:04,  1.18s/it]\u001B[A\n",
      " 96%|█████████▋| 77/80 [01:36<00:03,  1.17s/it]\u001B[A\n",
      " 98%|█████████▊| 78/80 [01:37<00:02,  1.18s/it]\u001B[A\n",
      " 99%|█████████▉| 79/80 [01:39<00:01,  1.17s/it]\u001B[A\n",
      "100%|██████████| 80/80 [01:40<00:00,  1.25s/it]\u001B[A\n",
      "\n",
      "100%|██████████| 80/80 [00:00<00:00, 240189.21it/s]\n",
      "\n",
      "100%|██████████| 80/80 [00:00<00:00, 798915.05it/s]\n",
      "100%|██████████| 77/77 [52:09<00:00, 40.65s/it]"
     ]
    },
    {
     "name": "stdout",
     "output_type": "stream",
     "text": [
      "====================nh7 - 10====================\n",
      "Already exists\n",
      "====================nh7 - 20====================\n",
      "Already exists\n",
      "====================nh7 - 30====================\n",
      "Already exists\n",
      "====================nh7 - 40====================\n",
      "Already exists\n",
      "====================nh7 - 60====================\n",
      "Already exists\n",
      "====================nh7 - 80====================\n",
      "Already exists\n",
      "====================nh7 - 100====================\n",
      "Already exists\n",
      "====================nh7 - 150====================\n",
      "Already exists\n",
      "====================nh7 - 200====================\n",
      "Already exists\n"
     ]
    },
    {
     "name": "stderr",
     "output_type": "stream",
     "text": [
      "\n"
     ]
    }
   ],
   "source": [
    "from tqdm import tqdm\n",
    "\n",
    "# read the data from results file\n",
    "try:\n",
    "    with open('results/partially_homomorphic_encryption_scheme_results.json', 'r') as f:\n",
    "        results = json.load(f)\n",
    "except:\n",
    "    results = {}\n",
    "\n",
    "count = 0\n",
    "for nh, log_count in tqdm(pairs):\n",
    "    print(f\"===================={nh} - {log_count}====================\")\n",
    "    if nh not in results.keys():\n",
    "        results[nh] = {}\n",
    "    if str(log_count) not in results[nh].keys():\n",
    "        count += 1\n",
    "        results[nh][str(log_count)] = run_partially_homomorphic_encryption_scheme_simulation(nh, log_count)\n",
    "        with open('results/partially_homomorphic_encryption_scheme_results.json', 'w') as f:\n",
    "            json.dump(results, f)\n",
    "    else:\n",
    "        print(\"Already exists\")"
   ],
   "metadata": {
    "collapsed": false,
    "ExecuteTime": {
     "end_time": "2024-05-26T13:17:32.905116Z",
     "start_time": "2024-05-26T12:25:23.043268Z"
    }
   },
   "id": "c08e16ad9567a41c"
  },
  {
   "cell_type": "code",
   "execution_count": null,
   "outputs": [],
   "source": [],
   "metadata": {
    "collapsed": false
   },
   "id": "a7bb90e6c9f4548d"
  }
 ],
 "metadata": {
  "kernelspec": {
   "display_name": "Python 3",
   "language": "python",
   "name": "python3"
  },
  "language_info": {
   "codemirror_mode": {
    "name": "ipython",
    "version": 2
   },
   "file_extension": ".py",
   "mimetype": "text/x-python",
   "name": "python",
   "nbconvert_exporter": "python",
   "pygments_lexer": "ipython2",
   "version": "2.7.6"
  }
 },
 "nbformat": 4,
 "nbformat_minor": 5
}
